{
  "nbformat": 4,
  "nbformat_minor": 0,
  "metadata": {
    "colab": {
      "name": "Summary measures.ipynb",
      "provenance": [],
      "collapsed_sections": [
        "xNOHQFYFbnuh"
      ],
      "authorship_tag": "ABX9TyMJC/MftKnfB6TLRQ5m+z08"
    },
    "kernelspec": {
      "name": "python3",
      "display_name": "Python 3"
    }
  },
  "cells": [
    {
      "cell_type": "code",
      "metadata": {
        "id": "H5RpQ_HsPXrk",
        "colab_type": "code",
        "colab": {}
      },
      "source": [
        "import pandas as pd\n",
        "import numpy as np"
      ],
      "execution_count": 1,
      "outputs": []
    },
    {
      "cell_type": "code",
      "metadata": {
        "id": "R3kLFo75PbQa",
        "colab_type": "code",
        "colab": {}
      },
      "source": [
        "Empleados=pd.read_csv(\"https://raw.githubusercontent.com/AlcidesOxa/datos/master/ejemplo.csv\",sep=';',encoding=\"ISO-8859-1\")\n",
        "Empleados.head()"
      ],
      "execution_count": null,
      "outputs": []
    },
    {
      "cell_type": "code",
      "metadata": {
        "id": "Yxj7hLdd4MSg",
        "colab_type": "code",
        "colab": {}
      },
      "source": [
        "cambio={'Años estudio':'Anios_estudio', 'Estado Civil':'Estado_civil', 'Satisfacción Trabajo':'Satisfaccion_trabajo', 'Fecha contrato':'Fecha_contrato'}\n",
        "Empleados.rename(columns=cambio,inplace=True)\n",
        "casosborrar=[3,5,8]\n",
        "Empleados=Empleados.drop(casosborrar)\n",
        "varborrar=['Faltas','Permisos']\n",
        "Empleados=Empleados.drop(varborrar,axis=1)\n",
        "varcategoricas=['Sexo','Estado_civil','Satisfaccion_trabajo']\n",
        "Empleados[varcategoricas]=Empleados[varcategoricas].fillna('Desconocido')\n",
        "Empleados[varcategoricas]=Empleados[varcategoricas].astype('category')\n",
        "Empleados['Fecha_contrato']=pd.to_datetime(Empleados.Fecha_contrato)\n",
        "orden_ec=Empleados.Estado_civil.cat.categories.values[[3,0,2,4,1]].tolist()\n",
        "orden_st=Empleados.Satisfaccion_trabajo.cat.categories.values[[2,3,0,1]].tolist()\n",
        "Empleados.Estado_civil=Empleados.Estado_civil.cat.reorder_categories(orden_ec)\n",
        "Empleados.Satisfaccion_trabajo=Empleados.Satisfaccion_trabajo.cat.reorder_categories(orden_st)\n",
        "Empleados['Satisfaccion_trabajo']=Empleados.Satisfaccion_trabajo.cat.rename_categories(\n",
        "    ['Insatisfecho(a)','Neutral','Satisfecho(a)','Desconocido'])\n",
        "Empleados['Experiencia_lab']=Empleados.Edad-Empleados.Anios_estudio-5\n",
        "Empleados['Balance']=Empleados.Ingresos-Empleados.Gastos"
      ],
      "execution_count": 3,
      "outputs": []
    },
    {
      "cell_type": "markdown",
      "metadata": {
        "id": "KARu4LKtfqSQ",
        "colab_type": "text"
      },
      "source": [
        "# Frecuencias y proporciones"
      ]
    },
    {
      "cell_type": "markdown",
      "metadata": {
        "id": "QjudGdnj6QT3",
        "colab_type": "text"
      },
      "source": [
        "**Frecuencia absoluta**\n",
        "\n",
        "Es la cantidad de veces que se repite un valor de una variable categórica\n",
        "\\begin{eqnarray*}\n",
        "n_{i}=\\#\\left\\{ X:X=X_{i}\\right\\}\n",
        "\\end{eqnarray*}\n",
        "donde $X$ es la variable categórica y $X_{i}$ es un valor particular de la variable. La suma de las frecuencias absolutas es $n=n_{1}+n_{2}+\\ldots +n_{k}=\\sum_{i=1}^{k}n_{i}$, donde $k$ es el número de valores únicos de la variable categórica."
      ]
    },
    {
      "cell_type": "code",
      "metadata": {
        "id": "tExBtLLdfton",
        "colab_type": "code",
        "colab": {
          "base_uri": "https://localhost:8080/",
          "height": 119
        },
        "outputId": "13d37fc1-5fea-47f2-f1da-3eb163a75b24"
      },
      "source": [
        "# Obtiene las frecuencias absolutas de cada valor de la variable Estado Civil (k=5)\n",
        "Empleados.Estado_civil.value_counts()"
      ],
      "execution_count": null,
      "outputs": [
        {
          "output_type": "execute_result",
          "data": {
            "text/plain": [
              "Casado(a)        13\n",
              "Divorciado(a)     5\n",
              "Soltero(a)        4\n",
              "Viudo(a)          3\n",
              "Desconocido       2\n",
              "Name: Estado_civil, dtype: int64"
            ]
          },
          "metadata": {
            "tags": []
          },
          "execution_count": 4
        }
      ]
    },
    {
      "cell_type": "markdown",
      "metadata": {
        "id": "6-aYp2sbWOcH",
        "colab_type": "text"
      },
      "source": [
        "**Frecuencia relativa (proporción)**\n",
        "\n",
        "La frecuencia absoluta sobre el total $n$ se denomina frecuencia relativa, e indica qué proporción del total representa el valor de la variable en el conjunto de datos\n",
        "\\begin{eqnarray*}\n",
        "p_{i}=\\frac{n_{i}}{n}\n",
        "\\end{eqnarray*}\n",
        "y se tiene que $\\sum_{i=1}^{k}p_{i}=1$."
      ]
    },
    {
      "cell_type": "code",
      "metadata": {
        "id": "IVAWKF4GWUoA",
        "colab_type": "code",
        "colab": {
          "base_uri": "https://localhost:8080/",
          "height": 119
        },
        "outputId": "a8d684bb-281f-4cec-b0c7-0bbdc7b98068"
      },
      "source": [
        "#Frecuencias relativas o proporciones de cada valor de Estado civil\n",
        "Empleados.Estado_civil.value_counts(normalize=True)"
      ],
      "execution_count": null,
      "outputs": [
        {
          "output_type": "execute_result",
          "data": {
            "text/plain": [
              "Casado(a)        0.481481\n",
              "Divorciado(a)    0.185185\n",
              "Soltero(a)       0.148148\n",
              "Viudo(a)         0.111111\n",
              "Desconocido      0.074074\n",
              "Name: Estado_civil, dtype: float64"
            ]
          },
          "metadata": {
            "tags": []
          },
          "execution_count": 5
        }
      ]
    },
    {
      "cell_type": "markdown",
      "metadata": {
        "id": "Cpi13PZs-h8N",
        "colab_type": "text"
      },
      "source": [
        "# Tablas de doble entrada"
      ]
    },
    {
      "cell_type": "markdown",
      "metadata": {
        "id": "xv6M4jn2Xmzc",
        "colab_type": "text"
      },
      "source": [
        "**Frecuencia absoluta conjunta**\n",
        "\n",
        "Es la cantidad de veces que se repite un conjunto de valores, cada uno de una variable categórica distinta. Para el caso bidimensional la frecuencia conjunta es\n",
        "\\begin{eqnarray*}\n",
        "n_{ij}=\\#\\left\\{ \\left( X,Y\\right):X=X_{i} \\wedge Y=Y_{i}\\right\\}\n",
        "\\end{eqnarray*}\n",
        "donde $X$ y $Y$ son variables categóricas, $X_{i}$ y $Y_{i}$ son valores particulares de $X$ y $Y$ respectivamente. La suma de las frecuencias absolutas es $n=\\sum_{i=1}^{k}\\sum_{j=1}^{h}n_{ij}$, donde $k$ es el número de valores únicos de $X$ y $h$ es lo mismo de $Y$. Asimismo, se pueden definir las frecuencias marginales como $n_{i.}=\\sum_{j=1}^{h}n_{ij}$ por filas, y $n_{.j}=\\sum_{i=1}^{k}n_{ij}$ por columnas."
      ]
    },
    {
      "cell_type": "code",
      "metadata": {
        "id": "AkZwLabPfyeo",
        "colab_type": "code",
        "colab": {
          "base_uri": "https://localhost:8080/",
          "height": 142
        },
        "outputId": "0905468f-cf54-4b20-d333-dc4b4fcb0122"
      },
      "source": [
        "pd.crosstab(Empleados.Sexo,Empleados.Estado_civil)"
      ],
      "execution_count": null,
      "outputs": [
        {
          "output_type": "execute_result",
          "data": {
            "text/html": [
              "<div>\n",
              "<style scoped>\n",
              "    .dataframe tbody tr th:only-of-type {\n",
              "        vertical-align: middle;\n",
              "    }\n",
              "\n",
              "    .dataframe tbody tr th {\n",
              "        vertical-align: top;\n",
              "    }\n",
              "\n",
              "    .dataframe thead th {\n",
              "        text-align: right;\n",
              "    }\n",
              "</style>\n",
              "<table border=\"1\" class=\"dataframe\">\n",
              "  <thead>\n",
              "    <tr style=\"text-align: right;\">\n",
              "      <th>Estado_civil</th>\n",
              "      <th>Soltero(a)</th>\n",
              "      <th>Casado(a)</th>\n",
              "      <th>Divorciado(a)</th>\n",
              "      <th>Viudo(a)</th>\n",
              "      <th>Desconocido</th>\n",
              "    </tr>\n",
              "    <tr>\n",
              "      <th>Sexo</th>\n",
              "      <th></th>\n",
              "      <th></th>\n",
              "      <th></th>\n",
              "      <th></th>\n",
              "      <th></th>\n",
              "    </tr>\n",
              "  </thead>\n",
              "  <tbody>\n",
              "    <tr>\n",
              "      <th>Hombre</th>\n",
              "      <td>1</td>\n",
              "      <td>6</td>\n",
              "      <td>4</td>\n",
              "      <td>3</td>\n",
              "      <td>2</td>\n",
              "    </tr>\n",
              "    <tr>\n",
              "      <th>Mujer</th>\n",
              "      <td>3</td>\n",
              "      <td>7</td>\n",
              "      <td>1</td>\n",
              "      <td>0</td>\n",
              "      <td>0</td>\n",
              "    </tr>\n",
              "  </tbody>\n",
              "</table>\n",
              "</div>"
            ],
            "text/plain": [
              "Estado_civil  Soltero(a)  Casado(a)  Divorciado(a)  Viudo(a)  Desconocido\n",
              "Sexo                                                                     \n",
              "Hombre                 1          6              4         3            2\n",
              "Mujer                  3          7              1         0            0"
            ]
          },
          "metadata": {
            "tags": []
          },
          "execution_count": 6
        }
      ]
    },
    {
      "cell_type": "code",
      "metadata": {
        "id": "JdsHb-YSccxA",
        "colab_type": "code",
        "colab": {
          "base_uri": "https://localhost:8080/",
          "height": 173
        },
        "outputId": "666b35b1-5e3f-44db-8b5a-760cc94bfa8b"
      },
      "source": [
        "pd.crosstab(Empleados.Sexo,Empleados.Estado_civil,margins=True,margins_name='Total')"
      ],
      "execution_count": null,
      "outputs": [
        {
          "output_type": "execute_result",
          "data": {
            "text/html": [
              "<div>\n",
              "<style scoped>\n",
              "    .dataframe tbody tr th:only-of-type {\n",
              "        vertical-align: middle;\n",
              "    }\n",
              "\n",
              "    .dataframe tbody tr th {\n",
              "        vertical-align: top;\n",
              "    }\n",
              "\n",
              "    .dataframe thead th {\n",
              "        text-align: right;\n",
              "    }\n",
              "</style>\n",
              "<table border=\"1\" class=\"dataframe\">\n",
              "  <thead>\n",
              "    <tr style=\"text-align: right;\">\n",
              "      <th>Estado_civil</th>\n",
              "      <th>Soltero(a)</th>\n",
              "      <th>Casado(a)</th>\n",
              "      <th>Divorciado(a)</th>\n",
              "      <th>Viudo(a)</th>\n",
              "      <th>Desconocido</th>\n",
              "      <th>Total</th>\n",
              "    </tr>\n",
              "    <tr>\n",
              "      <th>Sexo</th>\n",
              "      <th></th>\n",
              "      <th></th>\n",
              "      <th></th>\n",
              "      <th></th>\n",
              "      <th></th>\n",
              "      <th></th>\n",
              "    </tr>\n",
              "  </thead>\n",
              "  <tbody>\n",
              "    <tr>\n",
              "      <th>Hombre</th>\n",
              "      <td>1</td>\n",
              "      <td>6</td>\n",
              "      <td>4</td>\n",
              "      <td>3</td>\n",
              "      <td>2</td>\n",
              "      <td>16</td>\n",
              "    </tr>\n",
              "    <tr>\n",
              "      <th>Mujer</th>\n",
              "      <td>3</td>\n",
              "      <td>7</td>\n",
              "      <td>1</td>\n",
              "      <td>0</td>\n",
              "      <td>0</td>\n",
              "      <td>11</td>\n",
              "    </tr>\n",
              "    <tr>\n",
              "      <th>Total</th>\n",
              "      <td>4</td>\n",
              "      <td>13</td>\n",
              "      <td>5</td>\n",
              "      <td>3</td>\n",
              "      <td>2</td>\n",
              "      <td>27</td>\n",
              "    </tr>\n",
              "  </tbody>\n",
              "</table>\n",
              "</div>"
            ],
            "text/plain": [
              "Estado_civil  Soltero(a)  Casado(a)  ...  Desconocido  Total\n",
              "Sexo                                 ...                    \n",
              "Hombre                 1          6  ...            2     16\n",
              "Mujer                  3          7  ...            0     11\n",
              "Total                  4         13  ...            2     27\n",
              "\n",
              "[3 rows x 6 columns]"
            ]
          },
          "metadata": {
            "tags": []
          },
          "execution_count": 7
        }
      ]
    },
    {
      "cell_type": "markdown",
      "metadata": {
        "id": "GospzK4fdKzI",
        "colab_type": "text"
      },
      "source": [
        "**Frecuencia relativa conjunta**\n",
        "\n",
        "Son las proporciones con respecto al total de datos que representan las frecuencias conjuntas. Para el caso bidimensional es\n",
        "\\begin{eqnarray*}\n",
        "p_{ij}=\\frac{n_{ij}}{n}\n",
        "\\end{eqnarray*}\n",
        "y se tiene que $\\sum_{i=1}^{k}\\sum_{j=1}^{h}p_{ij}=1$. Asimismo, se pueden definir las frecuencias relativas marginales como $p_{i.}=\\sum_{j=1}^{h}p_{ij}$ por filas, y $p_{.j}=\\sum_{i=1}^{k}p_{ij}$ por columnas."
      ]
    },
    {
      "cell_type": "code",
      "metadata": {
        "id": "oKha-iE8cWr1",
        "colab_type": "code",
        "colab": {
          "base_uri": "https://localhost:8080/",
          "height": 173
        },
        "outputId": "c2226c64-e05c-4e17-9fc5-d71653436832"
      },
      "source": [
        "pd.crosstab(Empleados.Sexo,Empleados.Estado_civil,\n",
        "            margins=True,margins_name='Total',normalize='all')"
      ],
      "execution_count": null,
      "outputs": [
        {
          "output_type": "execute_result",
          "data": {
            "text/html": [
              "<div>\n",
              "<style scoped>\n",
              "    .dataframe tbody tr th:only-of-type {\n",
              "        vertical-align: middle;\n",
              "    }\n",
              "\n",
              "    .dataframe tbody tr th {\n",
              "        vertical-align: top;\n",
              "    }\n",
              "\n",
              "    .dataframe thead th {\n",
              "        text-align: right;\n",
              "    }\n",
              "</style>\n",
              "<table border=\"1\" class=\"dataframe\">\n",
              "  <thead>\n",
              "    <tr style=\"text-align: right;\">\n",
              "      <th>Estado_civil</th>\n",
              "      <th>Soltero(a)</th>\n",
              "      <th>Casado(a)</th>\n",
              "      <th>Divorciado(a)</th>\n",
              "      <th>Viudo(a)</th>\n",
              "      <th>Desconocido</th>\n",
              "      <th>Total</th>\n",
              "    </tr>\n",
              "    <tr>\n",
              "      <th>Sexo</th>\n",
              "      <th></th>\n",
              "      <th></th>\n",
              "      <th></th>\n",
              "      <th></th>\n",
              "      <th></th>\n",
              "      <th></th>\n",
              "    </tr>\n",
              "  </thead>\n",
              "  <tbody>\n",
              "    <tr>\n",
              "      <th>Hombre</th>\n",
              "      <td>0.037037</td>\n",
              "      <td>0.222222</td>\n",
              "      <td>0.148148</td>\n",
              "      <td>0.111111</td>\n",
              "      <td>0.074074</td>\n",
              "      <td>0.592593</td>\n",
              "    </tr>\n",
              "    <tr>\n",
              "      <th>Mujer</th>\n",
              "      <td>0.111111</td>\n",
              "      <td>0.259259</td>\n",
              "      <td>0.037037</td>\n",
              "      <td>0.000000</td>\n",
              "      <td>0.000000</td>\n",
              "      <td>0.407407</td>\n",
              "    </tr>\n",
              "    <tr>\n",
              "      <th>Total</th>\n",
              "      <td>0.148148</td>\n",
              "      <td>0.481481</td>\n",
              "      <td>0.185185</td>\n",
              "      <td>0.111111</td>\n",
              "      <td>0.074074</td>\n",
              "      <td>1.000000</td>\n",
              "    </tr>\n",
              "  </tbody>\n",
              "</table>\n",
              "</div>"
            ],
            "text/plain": [
              "Estado_civil  Soltero(a)  Casado(a)  ...  Desconocido     Total\n",
              "Sexo                                 ...                       \n",
              "Hombre          0.037037   0.222222  ...     0.074074  0.592593\n",
              "Mujer           0.111111   0.259259  ...     0.000000  0.407407\n",
              "Total           0.148148   0.481481  ...     0.074074  1.000000\n",
              "\n",
              "[3 rows x 6 columns]"
            ]
          },
          "metadata": {
            "tags": []
          },
          "execution_count": 8
        }
      ]
    },
    {
      "cell_type": "markdown",
      "metadata": {
        "id": "XL23lnhjgwSP",
        "colab_type": "text"
      },
      "source": [
        "Las frecuencias de $X$ (la variable en filas) condicionadas a que $Y$ (la variable en columnas) tome valores particulares es\n",
        "\\begin{eqnarray*}\n",
        "p_{i\\mid j}=\\frac{p_{ij}}{p_{.j}}=\\frac{n_{ij}}{n_{.j}}\n",
        "\\end{eqnarray*}\n",
        "se puede demostrar que $\\sum_{i=1}^{k}p_{i \\mid j}=1$."
      ]
    },
    {
      "cell_type": "code",
      "metadata": {
        "id": "_jaBwyaMgmg4",
        "colab_type": "code",
        "colab": {
          "base_uri": "https://localhost:8080/",
          "height": 142
        },
        "outputId": "ff396ac9-4155-4bd2-a9cc-f991e0721bbd"
      },
      "source": [
        "pd.crosstab(Empleados.Sexo,Empleados.Estado_civil,margins=True,\n",
        "            margins_name='Total',normalize='columns')"
      ],
      "execution_count": null,
      "outputs": [
        {
          "output_type": "execute_result",
          "data": {
            "text/html": [
              "<div>\n",
              "<style scoped>\n",
              "    .dataframe tbody tr th:only-of-type {\n",
              "        vertical-align: middle;\n",
              "    }\n",
              "\n",
              "    .dataframe tbody tr th {\n",
              "        vertical-align: top;\n",
              "    }\n",
              "\n",
              "    .dataframe thead th {\n",
              "        text-align: right;\n",
              "    }\n",
              "</style>\n",
              "<table border=\"1\" class=\"dataframe\">\n",
              "  <thead>\n",
              "    <tr style=\"text-align: right;\">\n",
              "      <th>Estado_civil</th>\n",
              "      <th>Soltero(a)</th>\n",
              "      <th>Casado(a)</th>\n",
              "      <th>Divorciado(a)</th>\n",
              "      <th>Viudo(a)</th>\n",
              "      <th>Desconocido</th>\n",
              "      <th>Total</th>\n",
              "    </tr>\n",
              "    <tr>\n",
              "      <th>Sexo</th>\n",
              "      <th></th>\n",
              "      <th></th>\n",
              "      <th></th>\n",
              "      <th></th>\n",
              "      <th></th>\n",
              "      <th></th>\n",
              "    </tr>\n",
              "  </thead>\n",
              "  <tbody>\n",
              "    <tr>\n",
              "      <th>Hombre</th>\n",
              "      <td>0.25</td>\n",
              "      <td>0.461538</td>\n",
              "      <td>0.8</td>\n",
              "      <td>1.0</td>\n",
              "      <td>1.0</td>\n",
              "      <td>0.592593</td>\n",
              "    </tr>\n",
              "    <tr>\n",
              "      <th>Mujer</th>\n",
              "      <td>0.75</td>\n",
              "      <td>0.538462</td>\n",
              "      <td>0.2</td>\n",
              "      <td>0.0</td>\n",
              "      <td>0.0</td>\n",
              "      <td>0.407407</td>\n",
              "    </tr>\n",
              "  </tbody>\n",
              "</table>\n",
              "</div>"
            ],
            "text/plain": [
              "Estado_civil  Soltero(a)  Casado(a)  ...  Desconocido     Total\n",
              "Sexo                                 ...                       \n",
              "Hombre              0.25   0.461538  ...          1.0  0.592593\n",
              "Mujer               0.75   0.538462  ...          0.0  0.407407\n",
              "\n",
              "[2 rows x 6 columns]"
            ]
          },
          "metadata": {
            "tags": []
          },
          "execution_count": 9
        }
      ]
    },
    {
      "cell_type": "markdown",
      "metadata": {
        "id": "IPGKjYJEj8l8",
        "colab_type": "text"
      },
      "source": [
        "Las frecuencias de $Y$ (la variable en columnas) condicionadas a que $X$ (la variable en filas) tome valores particulares es\n",
        "\\begin{eqnarray*}\n",
        "p_{j\\mid i}=\\frac{p_{ij}}{p_{i.}}=\\frac{n_{ij}}{n_{i.}}\n",
        "\\end{eqnarray*}\n",
        "se puede demostrar que $\\sum_{j=1}^{h}p_{j \\mid i}=1$."
      ]
    },
    {
      "cell_type": "code",
      "metadata": {
        "id": "w-coF__GgqVP",
        "colab_type": "code",
        "colab": {
          "base_uri": "https://localhost:8080/",
          "height": 173
        },
        "outputId": "2ed14417-ce9f-4b5b-d6b2-0d203db3f656"
      },
      "source": [
        "pd.crosstab(Empleados.Sexo,Empleados.Estado_civil,\n",
        "            margins=True,margins_name='Total',normalize='index')"
      ],
      "execution_count": null,
      "outputs": [
        {
          "output_type": "execute_result",
          "data": {
            "text/html": [
              "<div>\n",
              "<style scoped>\n",
              "    .dataframe tbody tr th:only-of-type {\n",
              "        vertical-align: middle;\n",
              "    }\n",
              "\n",
              "    .dataframe tbody tr th {\n",
              "        vertical-align: top;\n",
              "    }\n",
              "\n",
              "    .dataframe thead th {\n",
              "        text-align: right;\n",
              "    }\n",
              "</style>\n",
              "<table border=\"1\" class=\"dataframe\">\n",
              "  <thead>\n",
              "    <tr style=\"text-align: right;\">\n",
              "      <th>Estado_civil</th>\n",
              "      <th>Soltero(a)</th>\n",
              "      <th>Casado(a)</th>\n",
              "      <th>Divorciado(a)</th>\n",
              "      <th>Viudo(a)</th>\n",
              "      <th>Desconocido</th>\n",
              "    </tr>\n",
              "    <tr>\n",
              "      <th>Sexo</th>\n",
              "      <th></th>\n",
              "      <th></th>\n",
              "      <th></th>\n",
              "      <th></th>\n",
              "      <th></th>\n",
              "    </tr>\n",
              "  </thead>\n",
              "  <tbody>\n",
              "    <tr>\n",
              "      <th>Hombre</th>\n",
              "      <td>0.062500</td>\n",
              "      <td>0.375000</td>\n",
              "      <td>0.250000</td>\n",
              "      <td>0.187500</td>\n",
              "      <td>0.125000</td>\n",
              "    </tr>\n",
              "    <tr>\n",
              "      <th>Mujer</th>\n",
              "      <td>0.272727</td>\n",
              "      <td>0.636364</td>\n",
              "      <td>0.090909</td>\n",
              "      <td>0.000000</td>\n",
              "      <td>0.000000</td>\n",
              "    </tr>\n",
              "    <tr>\n",
              "      <th>Total</th>\n",
              "      <td>0.148148</td>\n",
              "      <td>0.481481</td>\n",
              "      <td>0.185185</td>\n",
              "      <td>0.111111</td>\n",
              "      <td>0.074074</td>\n",
              "    </tr>\n",
              "  </tbody>\n",
              "</table>\n",
              "</div>"
            ],
            "text/plain": [
              "Estado_civil  Soltero(a)  Casado(a)  Divorciado(a)  Viudo(a)  Desconocido\n",
              "Sexo                                                                     \n",
              "Hombre          0.062500   0.375000       0.250000  0.187500     0.125000\n",
              "Mujer           0.272727   0.636364       0.090909  0.000000     0.000000\n",
              "Total           0.148148   0.481481       0.185185  0.111111     0.074074"
            ]
          },
          "metadata": {
            "tags": []
          },
          "execution_count": 10
        }
      ]
    },
    {
      "cell_type": "markdown",
      "metadata": {
        "id": "OHeUc3GEDizh",
        "colab_type": "text"
      },
      "source": [
        "# Estadísticos descriptivos"
      ]
    },
    {
      "cell_type": "markdown",
      "metadata": {
        "id": "h90hiKaHEzgc",
        "colab_type": "text"
      },
      "source": [
        "**Media aritmética**\n",
        "\n",
        "La media aritmética es una medida de tendencia central, que resume en un valor los valores que toma una variables cuantitativa con el fin de ser representativo del conjunto de datos.\n",
        "Sea $X_{1},$ $X_{2},$ $\\ldots ,$ $X_{n}$ una muestra de datos, la media aritmética se calcula como:\n",
        "\\begin{eqnarray*}\n",
        "\\overline{X} &=&\\frac{\\sum_{i=1}^{n}X_{i}}{n}\n",
        "\\end{eqnarray*}"
      ]
    },
    {
      "cell_type": "code",
      "metadata": {
        "id": "nR0AXRmiZs0b",
        "colab_type": "code",
        "colab": {
          "base_uri": "https://localhost:8080/",
          "height": 136
        },
        "outputId": "a523d30e-fe0e-4f8d-8823-3a90529786db"
      },
      "source": [
        "Empleados.mean()"
      ],
      "execution_count": null,
      "outputs": [
        {
          "output_type": "execute_result",
          "data": {
            "text/plain": [
              "Edad                 42.461538\n",
              "Anios_estudio        14.320000\n",
              "Ingresos           7541.576923\n",
              "Gastos             6409.807692\n",
              "Experiencia_lab      23.166667\n",
              "Balance            1131.769231\n",
              "dtype: float64"
            ]
          },
          "metadata": {
            "tags": []
          },
          "execution_count": 11
        }
      ]
    },
    {
      "cell_type": "code",
      "metadata": {
        "id": "hJhZEnFwCBan",
        "colab_type": "code",
        "colab": {
          "base_uri": "https://localhost:8080/",
          "height": 34
        },
        "outputId": "82ea161c-409a-4465-ba5a-dd6a3012533a"
      },
      "source": [
        "np.mean(Empleados.Edad)"
      ],
      "execution_count": null,
      "outputs": [
        {
          "output_type": "execute_result",
          "data": {
            "text/plain": [
              "42.46153846153846"
            ]
          },
          "metadata": {
            "tags": []
          },
          "execution_count": 12
        }
      ]
    },
    {
      "cell_type": "markdown",
      "metadata": {
        "id": "nSrJF4EEGv-4",
        "colab_type": "text"
      },
      "source": [
        "**Cuantiles**\n",
        "\n",
        "Un cuantil es una medida de posición, que indica el valor que toma una variable tal que se halla sobre una proporción $\\alpha$ de los datos. Un método de obtener un cuantil de una distribución empírica es debido a Mood \\& Graybill (1963). Primero se ordenan los datos $X_{i}$  en forma ascendente, luego se calcula $m=\\left( n+1\\right) \\alpha $ donde $n$ es el tamaño de la muestra y $\\alpha $ es la proporción de valores menores al cuantil deseado. La estimación del cuantil es\n",
        "\\begin{eqnarray*}\n",
        "\\widehat{Q}_{\\alpha } &=&X_{p}+r\\left( X_{p+1}-X_{p}\\right)\n",
        "\\end{eqnarray*}\n",
        "donde $p$ es la parte entera de $m$, $0\\leq p\\leq n$, y $r$ es la parte fraccional de $m$. Por conveniencia $X_{0}=X_{1}$ y $X_{n+1}=X_{n}$.\n"
      ]
    },
    {
      "cell_type": "code",
      "metadata": {
        "id": "0MO_igE8GPK5",
        "colab_type": "code",
        "colab": {
          "base_uri": "https://localhost:8080/",
          "height": 142
        },
        "outputId": "d5edf7c6-2be2-4a9b-e9cd-3a707b948251"
      },
      "source": [
        "Empleados.quantile(.35)\n",
        "Empleados.quantile([.45,.57,.84])"
      ],
      "execution_count": null,
      "outputs": [
        {
          "output_type": "execute_result",
          "data": {
            "text/html": [
              "<div>\n",
              "<style scoped>\n",
              "    .dataframe tbody tr th:only-of-type {\n",
              "        vertical-align: middle;\n",
              "    }\n",
              "\n",
              "    .dataframe tbody tr th {\n",
              "        vertical-align: top;\n",
              "    }\n",
              "\n",
              "    .dataframe thead th {\n",
              "        text-align: right;\n",
              "    }\n",
              "</style>\n",
              "<table border=\"1\" class=\"dataframe\">\n",
              "  <thead>\n",
              "    <tr style=\"text-align: right;\">\n",
              "      <th></th>\n",
              "      <th>Edad</th>\n",
              "      <th>Anios_estudio</th>\n",
              "      <th>Ingresos</th>\n",
              "      <th>Gastos</th>\n",
              "      <th>Experiencia_lab</th>\n",
              "      <th>Balance</th>\n",
              "    </tr>\n",
              "  </thead>\n",
              "  <tbody>\n",
              "    <tr>\n",
              "      <th>0.45</th>\n",
              "      <td>39.25</td>\n",
              "      <td>14.0</td>\n",
              "      <td>6871.50</td>\n",
              "      <td>5661.25</td>\n",
              "      <td>22.00</td>\n",
              "      <td>755.25</td>\n",
              "    </tr>\n",
              "    <tr>\n",
              "      <th>0.57</th>\n",
              "      <td>41.50</td>\n",
              "      <td>17.0</td>\n",
              "      <td>7822.75</td>\n",
              "      <td>7119.50</td>\n",
              "      <td>25.22</td>\n",
              "      <td>1527.75</td>\n",
              "    </tr>\n",
              "    <tr>\n",
              "      <th>0.84</th>\n",
              "      <td>55.00</td>\n",
              "      <td>20.0</td>\n",
              "      <td>11467.00</td>\n",
              "      <td>9344.00</td>\n",
              "      <td>35.64</td>\n",
              "      <td>2925.00</td>\n",
              "    </tr>\n",
              "  </tbody>\n",
              "</table>\n",
              "</div>"
            ],
            "text/plain": [
              "       Edad  Anios_estudio  Ingresos   Gastos  Experiencia_lab  Balance\n",
              "0.45  39.25           14.0   6871.50  5661.25            22.00   755.25\n",
              "0.57  41.50           17.0   7822.75  7119.50            25.22  1527.75\n",
              "0.84  55.00           20.0  11467.00  9344.00            35.64  2925.00"
            ]
          },
          "metadata": {
            "tags": []
          },
          "execution_count": 14
        }
      ]
    },
    {
      "cell_type": "markdown",
      "metadata": {
        "id": "BNdcpUzvQoU3",
        "colab_type": "text"
      },
      "source": [
        "Los cuantiles pueden ser:\n",
        "\n",
        "\n",
        "*   La mediana: $Me$. Se tiene que $Me=Q_{0.5}$\n",
        "*   Los cuartiles: $C_1$, $C_2$ y $C_3$. Se tiene que $C_j=Q_{ \\frac{j}{4}}$\n",
        "*   Los deciles: $D_1$, $D_2$, $...$, y $D_{10}$. Se tiene que $D_j=Q_{ \\frac{j}{10}}$\n",
        "*   Los percentiles: $P_1$, $P_2$, $...$, y $P_{100}$. Se tiene que $P_j=Q_{ \\frac{j}{100}}$\n",
        "*   $\\min=Q_0$ y $\\max=Q_1$\n"
      ]
    },
    {
      "cell_type": "code",
      "metadata": {
        "id": "OMLTsG_4SjfM",
        "colab_type": "code",
        "colab": {
          "base_uri": "https://localhost:8080/",
          "height": 136
        },
        "outputId": "268fd731-332f-4810-c082-f2f80c746bcd"
      },
      "source": [
        "Empleados.median()\n",
        "Empleados.min(numeric_only=True)\n",
        "Empleados.min()\n",
        "Empleados.max(numeric_only=True)\n",
        "Empleados.max()"
      ],
      "execution_count": null,
      "outputs": [
        {
          "output_type": "execute_result",
          "data": {
            "text/plain": [
              "Edad                  67.0\n",
              "Anios_estudio         23.0\n",
              "Ingresos           15479.0\n",
              "Gastos             11021.0\n",
              "Experiencia_lab       45.0\n",
              "Balance             6135.0\n",
              "dtype: float64"
            ]
          },
          "metadata": {
            "tags": []
          },
          "execution_count": 19
        }
      ]
    },
    {
      "cell_type": "code",
      "metadata": {
        "id": "cyxlnnyZFQDh",
        "colab_type": "code",
        "colab": {
          "base_uri": "https://localhost:8080/",
          "height": 136
        },
        "outputId": "e7c6f029-dfcd-4892-f174-e5ea3784a79a"
      },
      "source": [
        "# Cuartil 3\n",
        "Empleados.quantile(.75)"
      ],
      "execution_count": null,
      "outputs": [
        {
          "output_type": "execute_result",
          "data": {
            "text/plain": [
              "Edad                  51.75\n",
              "Anios_estudio         19.00\n",
              "Ingresos           10924.25\n",
              "Gastos              8071.00\n",
              "Experiencia_lab       30.00\n",
              "Balance             2676.00\n",
              "Name: 0.75, dtype: float64"
            ]
          },
          "metadata": {
            "tags": []
          },
          "execution_count": 20
        }
      ]
    },
    {
      "cell_type": "code",
      "metadata": {
        "id": "po1ZCmzdFZuA",
        "colab_type": "code",
        "colab": {
          "base_uri": "https://localhost:8080/",
          "height": 136
        },
        "outputId": "5ea13dff-b627-47cd-b32a-7fcd06b32baa"
      },
      "source": [
        "#Decil 7\n",
        "Empleados.quantile(.7)"
      ],
      "execution_count": null,
      "outputs": [
        {
          "output_type": "execute_result",
          "data": {
            "text/plain": [
              "Edad                  49.0\n",
              "Anios_estudio         17.8\n",
              "Ingresos           10805.5\n",
              "Gastos              7900.0\n",
              "Experiencia_lab       29.1\n",
              "Balance             2568.5\n",
              "Name: 0.7, dtype: float64"
            ]
          },
          "metadata": {
            "tags": []
          },
          "execution_count": 21
        }
      ]
    },
    {
      "cell_type": "code",
      "metadata": {
        "id": "fSpvvoQzFl31",
        "colab_type": "code",
        "colab": {
          "base_uri": "https://localhost:8080/",
          "height": 136
        },
        "outputId": "5d28e8f5-edb2-4c67-a343-952aea0eae23"
      },
      "source": [
        "#Percentil 84\n",
        "Empleados.quantile(.84)"
      ],
      "execution_count": null,
      "outputs": [
        {
          "output_type": "execute_result",
          "data": {
            "text/plain": [
              "Edad                  55.00\n",
              "Anios_estudio         20.00\n",
              "Ingresos           11467.00\n",
              "Gastos              9344.00\n",
              "Experiencia_lab       35.64\n",
              "Balance             2925.00\n",
              "Name: 0.84, dtype: float64"
            ]
          },
          "metadata": {
            "tags": []
          },
          "execution_count": 22
        }
      ]
    },
    {
      "cell_type": "markdown",
      "metadata": {
        "id": "ie4lgrg-XUCQ",
        "colab_type": "text"
      },
      "source": [
        "**Sumas y productos**"
      ]
    },
    {
      "cell_type": "code",
      "metadata": {
        "id": "heHXWZevqpab",
        "colab_type": "code",
        "colab": {
          "base_uri": "https://localhost:8080/",
          "height": 136
        },
        "outputId": "3a906d4e-d53e-43c8-a9d9-a7f22dc372d5"
      },
      "source": [
        "Empleados.sum()\n",
        "Empleados.sum(numeric_only=True)\n",
        "Empleados.prod()"
      ],
      "execution_count": null,
      "outputs": [
        {
          "output_type": "execute_result",
          "data": {
            "text/plain": [
              "Edad               9.554719e+41\n",
              "Anios_estudio      5.845885e+27\n",
              "Ingresos           1.398035e+99\n",
              "Gastos             8.345084e+97\n",
              "Experiencia_lab    1.145077e+31\n",
              "Balance           -7.320238e+80\n",
              "dtype: float64"
            ]
          },
          "metadata": {
            "tags": []
          },
          "execution_count": 25
        }
      ]
    },
    {
      "cell_type": "markdown",
      "metadata": {
        "id": "5CJrB454Ll_M",
        "colab_type": "text"
      },
      "source": [
        "**Varianza**\n",
        "\n",
        "La varianza es una medida de dispersión, que indica el grado de variabilidad que tiene una variable. La varianza de una variable $X$ es\n",
        "\\begin{eqnarray*}\n",
        "S^{2} &=&\\frac{\\sum_{i=1}^{n}\\left( X_{i}-\\overline{X}\\right) ^{2}}{n-1}\n",
        "\\end{eqnarray*}\n",
        "donde $\\overline{X}$ es la media de la variable. La división entre $n$ se puede hacer para fines descriptivos, y entre $n-1$ es para fines inferenciales. A mayores valores que tome la varianza, mayor será la dispersión y más heterogeneidad tendrán los datos."
      ]
    },
    {
      "cell_type": "code",
      "metadata": {
        "id": "NDcNxu61GuFQ",
        "colab_type": "code",
        "colab": {
          "base_uri": "https://localhost:8080/",
          "height": 136
        },
        "outputId": "f044485d-d61d-4f15-d4c4-d03471eaf7a6"
      },
      "source": [
        "Empleados.var()"
      ],
      "execution_count": null,
      "outputs": [
        {
          "output_type": "execute_result",
          "data": {
            "text/plain": [
              "Edad               1.155385e+02\n",
              "Anios_estudio      3.372667e+01\n",
              "Ingresos           1.485960e+07\n",
              "Gastos             6.137442e+06\n",
              "Experiencia_lab    1.481449e+02\n",
              "Balance            4.205604e+06\n",
              "dtype: float64"
            ]
          },
          "metadata": {
            "tags": []
          },
          "execution_count": 26
        }
      ]
    },
    {
      "cell_type": "code",
      "metadata": {
        "id": "t3_JcrtUHdcK",
        "colab_type": "code",
        "colab": {
          "base_uri": "https://localhost:8080/",
          "height": 34
        },
        "outputId": "e6caa125-6e56-420e-d718-f9dd1a952873"
      },
      "source": [
        "np.var(Empleados.Anios_estudio)"
      ],
      "execution_count": null,
      "outputs": [
        {
          "output_type": "execute_result",
          "data": {
            "text/plain": [
              "32.377599999999994"
            ]
          },
          "metadata": {
            "tags": []
          },
          "execution_count": 27
        }
      ]
    },
    {
      "cell_type": "markdown",
      "metadata": {
        "id": "R4hElNuBZ-D_",
        "colab_type": "text"
      },
      "source": [
        "**Desviación estándar**\n",
        "\n",
        "La desviación estándar es una medida de dispersión que se puede interpretar en las unidades de la variable, a diferencia de la varianza que se halla en unidades al cuadrado\n",
        "\\begin{eqnarray*}\n",
        "S &=&\\sqrt{S^{2}}\n",
        "\\end{eqnarray*}"
      ]
    },
    {
      "cell_type": "code",
      "metadata": {
        "id": "YuSZ3qhpZ2vd",
        "colab_type": "code",
        "colab": {
          "base_uri": "https://localhost:8080/",
          "height": 136
        },
        "outputId": "541d1ca8-277b-4c59-8190-77444a14f44c"
      },
      "source": [
        "Empleados.std()"
      ],
      "execution_count": null,
      "outputs": [
        {
          "output_type": "execute_result",
          "data": {
            "text/plain": [
              "Edad                 10.748882\n",
              "Anios_estudio         5.807466\n",
              "Ingresos           3854.815058\n",
              "Gastos             2477.386171\n",
              "Experiencia_lab      12.171480\n",
              "Balance            2050.756900\n",
              "dtype: float64"
            ]
          },
          "metadata": {
            "tags": []
          },
          "execution_count": 28
        }
      ]
    },
    {
      "cell_type": "code",
      "metadata": {
        "id": "sCY0rVYTIZcC",
        "colab_type": "code",
        "colab": {
          "base_uri": "https://localhost:8080/",
          "height": 34
        },
        "outputId": "df5e09de-e329-4f49-b2c4-f6c1a690fe92"
      },
      "source": [
        "np.std(Empleados.Anios_estudio)"
      ],
      "execution_count": null,
      "outputs": [
        {
          "output_type": "execute_result",
          "data": {
            "text/plain": [
              "5.690131808666649"
            ]
          },
          "metadata": {
            "tags": []
          },
          "execution_count": 29
        }
      ]
    },
    {
      "cell_type": "markdown",
      "metadata": {
        "id": "YIucFuBtQ5b3",
        "colab_type": "text"
      },
      "source": [
        "**Covarianza**\n",
        "\n",
        "La covarianza es una medida de asociación lineal de dos variables cuantitativas. La covarianza entre las variables $X$ y $Y$ es\n",
        "\\begin{eqnarray*}\n",
        "S_{xy} &=&\\frac{\\sum_{i=1}^{n}\\left( X_{i}-\\overline{X}\\right) \\left( Y_{i}-%\n",
        "\\overline{Y}\\right) }{n-1}\n",
        "\\end{eqnarray*}\n",
        "donde $\\overline{X}$ y $\\overline{Y}$ son las medias de las variables $X$ y $Y$ respectivamente. La división entre $n$ se aplica para fines descriptivos, y entre $n-1$ para fines inferenciales. Si la covarianza es positiva, entonces existe asociación lineal directa entre las variables; si es negativa, entonces la asociación lineal es inversa."
      ]
    },
    {
      "cell_type": "code",
      "metadata": {
        "id": "qbois2lGQgbQ",
        "colab_type": "code",
        "colab": {
          "base_uri": "https://localhost:8080/",
          "height": 255
        },
        "outputId": "56ed895e-3fd6-4e84-8e60-fbac21bc1972"
      },
      "source": [
        "Empleados.cov()"
      ],
      "execution_count": null,
      "outputs": [
        {
          "output_type": "execute_result",
          "data": {
            "text/html": [
              "<div>\n",
              "<style scoped>\n",
              "    .dataframe tbody tr th:only-of-type {\n",
              "        vertical-align: middle;\n",
              "    }\n",
              "\n",
              "    .dataframe tbody tr th {\n",
              "        vertical-align: top;\n",
              "    }\n",
              "\n",
              "    .dataframe thead th {\n",
              "        text-align: right;\n",
              "    }\n",
              "</style>\n",
              "<table border=\"1\" class=\"dataframe\">\n",
              "  <thead>\n",
              "    <tr style=\"text-align: right;\">\n",
              "      <th></th>\n",
              "      <th>Edad</th>\n",
              "      <th>Anios_estudio</th>\n",
              "      <th>Ingresos</th>\n",
              "      <th>Gastos</th>\n",
              "      <th>Experiencia_lab</th>\n",
              "      <th>Balance</th>\n",
              "    </tr>\n",
              "  </thead>\n",
              "  <tbody>\n",
              "    <tr>\n",
              "      <th>Edad</th>\n",
              "      <td>115.538462</td>\n",
              "      <td>-0.081522</td>\n",
              "      <td>1.271020e+04</td>\n",
              "      <td>4.836732e+03</td>\n",
              "      <td>116.282609</td>\n",
              "      <td>7.873471e+03</td>\n",
              "    </tr>\n",
              "    <tr>\n",
              "      <th>Anios_estudio</th>\n",
              "      <td>-0.081522</td>\n",
              "      <td>33.726667</td>\n",
              "      <td>1.827686e+04</td>\n",
              "      <td>1.005074e+04</td>\n",
              "      <td>-31.862319</td>\n",
              "      <td>8.226116e+03</td>\n",
              "    </tr>\n",
              "    <tr>\n",
              "      <th>Ingresos</th>\n",
              "      <td>12710.203077</td>\n",
              "      <td>18276.860507</td>\n",
              "      <td>1.485960e+07</td>\n",
              "      <td>8.395719e+06</td>\n",
              "      <td>-2393.268116</td>\n",
              "      <td>6.463880e+06</td>\n",
              "    </tr>\n",
              "    <tr>\n",
              "      <th>Gastos</th>\n",
              "      <td>4836.732308</td>\n",
              "      <td>10050.744565</td>\n",
              "      <td>8.395719e+06</td>\n",
              "      <td>6.137442e+06</td>\n",
              "      <td>-2248.804348</td>\n",
              "      <td>2.258277e+06</td>\n",
              "    </tr>\n",
              "    <tr>\n",
              "      <th>Experiencia_lab</th>\n",
              "      <td>116.282609</td>\n",
              "      <td>-31.862319</td>\n",
              "      <td>-2.393268e+03</td>\n",
              "      <td>-2.248804e+03</td>\n",
              "      <td>148.144928</td>\n",
              "      <td>-1.444638e+02</td>\n",
              "    </tr>\n",
              "    <tr>\n",
              "      <th>Balance</th>\n",
              "      <td>7873.470769</td>\n",
              "      <td>8226.115942</td>\n",
              "      <td>6.463880e+06</td>\n",
              "      <td>2.258277e+06</td>\n",
              "      <td>-144.463768</td>\n",
              "      <td>4.205604e+06</td>\n",
              "    </tr>\n",
              "  </tbody>\n",
              "</table>\n",
              "</div>"
            ],
            "text/plain": [
              "                         Edad  Anios_estudio  ...  Experiencia_lab       Balance\n",
              "Edad               115.538462      -0.081522  ...       116.282609  7.873471e+03\n",
              "Anios_estudio       -0.081522      33.726667  ...       -31.862319  8.226116e+03\n",
              "Ingresos         12710.203077   18276.860507  ...     -2393.268116  6.463880e+06\n",
              "Gastos            4836.732308   10050.744565  ...     -2248.804348  2.258277e+06\n",
              "Experiencia_lab    116.282609     -31.862319  ...       148.144928 -1.444638e+02\n",
              "Balance           7873.470769    8226.115942  ...      -144.463768  4.205604e+06\n",
              "\n",
              "[6 rows x 6 columns]"
            ]
          },
          "metadata": {
            "tags": []
          },
          "execution_count": 30
        }
      ]
    },
    {
      "cell_type": "markdown",
      "metadata": {
        "id": "ShgGyZoCaYvm",
        "colab_type": "text"
      },
      "source": [
        "**Correlación lineal**\n",
        "\n",
        "El coeficiente de correlación lineal de Pearson es una medida de asociación lineal de dos variables, se trata de una covarianza normalizada\n",
        "\\begin{eqnarray*}\n",
        "r &=&\\frac{S_{xy}}{S_{x}S_{y}}\n",
        "\\end{eqnarray*}\n",
        "donde $S_{xy}$ es la covarianza entre las variables $X$ y $Y$, $S_{x}$ y $S_{y}$ son las desviaciones estándar de $X$ y $Y$ respectivamente. La correlación varía entre $-1$ y $1$, así se tiene que:\n",
        "\n",
        "\n",
        "*   Si $r \\longrightarrow -1$, entonces, existe una alta asociación lineal inversa entre las dos variables\n",
        "*   Si $r \\longrightarrow 0$, entonces, existe una baja asociación lineal entre las dos variables\n",
        "*   Si $r \\longrightarrow 1$, entonces, existe una alta asociación lineal directa entre las dos variables\n",
        "\n"
      ]
    },
    {
      "cell_type": "code",
      "metadata": {
        "id": "1wLh3Skpaizu",
        "colab_type": "code",
        "colab": {
          "base_uri": "https://localhost:8080/",
          "height": 166
        },
        "outputId": "f8ee96a9-c93d-42a1-990e-9356f66f41d1"
      },
      "source": [
        "Empleados.corr()\n",
        "Empleados.corr().style.background_gradient(cmap='coolwarm').set_precision(4)"
      ],
      "execution_count": null,
      "outputs": [
        {
          "output_type": "execute_result",
          "data": {
            "text/html": [
              "<style  type=\"text/css\" >\n",
              "    #T_ead0ebac_cec8_11ea_9a2c_0242ac1c0002row0_col0 {\n",
              "            background-color:  #b40426;\n",
              "            color:  #f1f1f1;\n",
              "        }    #T_ead0ebac_cec8_11ea_9a2c_0242ac1c0002row0_col1 {\n",
              "            background-color:  #a3c2fe;\n",
              "            color:  #000000;\n",
              "        }    #T_ead0ebac_cec8_11ea_9a2c_0242ac1c0002row0_col2 {\n",
              "            background-color:  #adc9fd;\n",
              "            color:  #000000;\n",
              "        }    #T_ead0ebac_cec8_11ea_9a2c_0242ac1c0002row0_col3 {\n",
              "            background-color:  #8badfd;\n",
              "            color:  #000000;\n",
              "        }    #T_ead0ebac_cec8_11ea_9a2c_0242ac1c0002row0_col4 {\n",
              "            background-color:  #cf453c;\n",
              "            color:  #f1f1f1;\n",
              "        }    #T_ead0ebac_cec8_11ea_9a2c_0242ac1c0002row0_col5 {\n",
              "            background-color:  #b3cdfb;\n",
              "            color:  #000000;\n",
              "        }    #T_ead0ebac_cec8_11ea_9a2c_0242ac1c0002row1_col0 {\n",
              "            background-color:  #3b4cc0;\n",
              "            color:  #f1f1f1;\n",
              "        }    #T_ead0ebac_cec8_11ea_9a2c_0242ac1c0002row1_col1 {\n",
              "            background-color:  #b40426;\n",
              "            color:  #f1f1f1;\n",
              "        }    #T_ead0ebac_cec8_11ea_9a2c_0242ac1c0002row1_col2 {\n",
              "            background-color:  #d85646;\n",
              "            color:  #000000;\n",
              "        }    #T_ead0ebac_cec8_11ea_9a2c_0242ac1c0002row1_col3 {\n",
              "            background-color:  #ec8165;\n",
              "            color:  #000000;\n",
              "        }    #T_ead0ebac_cec8_11ea_9a2c_0242ac1c0002row1_col4 {\n",
              "            background-color:  #3b4cc0;\n",
              "            color:  #f1f1f1;\n",
              "        }    #T_ead0ebac_cec8_11ea_9a2c_0242ac1c0002row1_col5 {\n",
              "            background-color:  #f7a889;\n",
              "            color:  #000000;\n",
              "        }    #T_ead0ebac_cec8_11ea_9a2c_0242ac1c0002row2_col0 {\n",
              "            background-color:  #a1c0ff;\n",
              "            color:  #000000;\n",
              "        }    #T_ead0ebac_cec8_11ea_9a2c_0242ac1c0002row2_col1 {\n",
              "            background-color:  #cf453c;\n",
              "            color:  #f1f1f1;\n",
              "        }    #T_ead0ebac_cec8_11ea_9a2c_0242ac1c0002row2_col2 {\n",
              "            background-color:  #b40426;\n",
              "            color:  #f1f1f1;\n",
              "        }    #T_ead0ebac_cec8_11ea_9a2c_0242ac1c0002row2_col3 {\n",
              "            background-color:  #d95847;\n",
              "            color:  #000000;\n",
              "        }    #T_ead0ebac_cec8_11ea_9a2c_0242ac1c0002row2_col4 {\n",
              "            background-color:  #97b8ff;\n",
              "            color:  #000000;\n",
              "        }    #T_ead0ebac_cec8_11ea_9a2c_0242ac1c0002row2_col5 {\n",
              "            background-color:  #ea7b60;\n",
              "            color:  #000000;\n",
              "        }    #T_ead0ebac_cec8_11ea_9a2c_0242ac1c0002row3_col0 {\n",
              "            background-color:  #7597f6;\n",
              "            color:  #000000;\n",
              "        }    #T_ead0ebac_cec8_11ea_9a2c_0242ac1c0002row3_col1 {\n",
              "            background-color:  #e26952;\n",
              "            color:  #000000;\n",
              "        }    #T_ead0ebac_cec8_11ea_9a2c_0242ac1c0002row3_col2 {\n",
              "            background-color:  #da5a49;\n",
              "            color:  #000000;\n",
              "        }    #T_ead0ebac_cec8_11ea_9a2c_0242ac1c0002row3_col3 {\n",
              "            background-color:  #b40426;\n",
              "            color:  #f1f1f1;\n",
              "        }    #T_ead0ebac_cec8_11ea_9a2c_0242ac1c0002row3_col4 {\n",
              "            background-color:  #90b2fe;\n",
              "            color:  #000000;\n",
              "        }    #T_ead0ebac_cec8_11ea_9a2c_0242ac1c0002row3_col5 {\n",
              "            background-color:  #cedaeb;\n",
              "            color:  #000000;\n",
              "        }    #T_ead0ebac_cec8_11ea_9a2c_0242ac1c0002row4_col0 {\n",
              "            background-color:  #da5a49;\n",
              "            color:  #000000;\n",
              "        }    #T_ead0ebac_cec8_11ea_9a2c_0242ac1c0002row4_col1 {\n",
              "            background-color:  #3b4cc0;\n",
              "            color:  #f1f1f1;\n",
              "        }    #T_ead0ebac_cec8_11ea_9a2c_0242ac1c0002row4_col2 {\n",
              "            background-color:  #3b4cc0;\n",
              "            color:  #f1f1f1;\n",
              "        }    #T_ead0ebac_cec8_11ea_9a2c_0242ac1c0002row4_col3 {\n",
              "            background-color:  #3b4cc0;\n",
              "            color:  #f1f1f1;\n",
              "        }    #T_ead0ebac_cec8_11ea_9a2c_0242ac1c0002row4_col4 {\n",
              "            background-color:  #b40426;\n",
              "            color:  #f1f1f1;\n",
              "        }    #T_ead0ebac_cec8_11ea_9a2c_0242ac1c0002row4_col5 {\n",
              "            background-color:  #3b4cc0;\n",
              "            color:  #f1f1f1;\n",
              "        }    #T_ead0ebac_cec8_11ea_9a2c_0242ac1c0002row5_col0 {\n",
              "            background-color:  #b2ccfb;\n",
              "            color:  #000000;\n",
              "        }    #T_ead0ebac_cec8_11ea_9a2c_0242ac1c0002row5_col1 {\n",
              "            background-color:  #ed8366;\n",
              "            color:  #000000;\n",
              "        }    #T_ead0ebac_cec8_11ea_9a2c_0242ac1c0002row5_col2 {\n",
              "            background-color:  #e9785d;\n",
              "            color:  #000000;\n",
              "        }    #T_ead0ebac_cec8_11ea_9a2c_0242ac1c0002row5_col3 {\n",
              "            background-color:  #d9dce1;\n",
              "            color:  #000000;\n",
              "        }    #T_ead0ebac_cec8_11ea_9a2c_0242ac1c0002row5_col4 {\n",
              "            background-color:  #a3c2fe;\n",
              "            color:  #000000;\n",
              "        }    #T_ead0ebac_cec8_11ea_9a2c_0242ac1c0002row5_col5 {\n",
              "            background-color:  #b40426;\n",
              "            color:  #f1f1f1;\n",
              "        }</style><table id=\"T_ead0ebac_cec8_11ea_9a2c_0242ac1c0002\" ><thead>    <tr>        <th class=\"blank level0\" ></th>        <th class=\"col_heading level0 col0\" >Edad</th>        <th class=\"col_heading level0 col1\" >Anios_estudio</th>        <th class=\"col_heading level0 col2\" >Ingresos</th>        <th class=\"col_heading level0 col3\" >Gastos</th>        <th class=\"col_heading level0 col4\" >Experiencia_lab</th>        <th class=\"col_heading level0 col5\" >Balance</th>    </tr></thead><tbody>\n",
              "                <tr>\n",
              "                        <th id=\"T_ead0ebac_cec8_11ea_9a2c_0242ac1c0002level0_row0\" class=\"row_heading level0 row0\" >Edad</th>\n",
              "                        <td id=\"T_ead0ebac_cec8_11ea_9a2c_0242ac1c0002row0_col0\" class=\"data row0 col0\" >1.0000</td>\n",
              "                        <td id=\"T_ead0ebac_cec8_11ea_9a2c_0242ac1c0002row0_col1\" class=\"data row0 col1\" >-0.0013</td>\n",
              "                        <td id=\"T_ead0ebac_cec8_11ea_9a2c_0242ac1c0002row0_col2\" class=\"data row0 col2\" >0.3068</td>\n",
              "                        <td id=\"T_ead0ebac_cec8_11ea_9a2c_0242ac1c0002row0_col3\" class=\"data row0 col3\" >0.1816</td>\n",
              "                        <td id=\"T_ead0ebac_cec8_11ea_9a2c_0242ac1c0002row0_col4\" class=\"data row0 col4\" >0.8863</td>\n",
              "                        <td id=\"T_ead0ebac_cec8_11ea_9a2c_0242ac1c0002row0_col5\" class=\"data row0 col5\" >0.3572</td>\n",
              "            </tr>\n",
              "            <tr>\n",
              "                        <th id=\"T_ead0ebac_cec8_11ea_9a2c_0242ac1c0002level0_row1\" class=\"row_heading level0 row1\" >Anios_estudio</th>\n",
              "                        <td id=\"T_ead0ebac_cec8_11ea_9a2c_0242ac1c0002row1_col0\" class=\"data row1 col0\" >-0.0013</td>\n",
              "                        <td id=\"T_ead0ebac_cec8_11ea_9a2c_0242ac1c0002row1_col1\" class=\"data row1 col1\" >1.0000</td>\n",
              "                        <td id=\"T_ead0ebac_cec8_11ea_9a2c_0242ac1c0002row1_col2\" class=\"data row1 col2\" >0.8860</td>\n",
              "                        <td id=\"T_ead0ebac_cec8_11ea_9a2c_0242ac1c0002row1_col3\" class=\"data row1 col3\" >0.7906</td>\n",
              "                        <td id=\"T_ead0ebac_cec8_11ea_9a2c_0242ac1c0002row1_col4\" class=\"data row1 col4\" >-0.4644</td>\n",
              "                        <td id=\"T_ead0ebac_cec8_11ea_9a2c_0242ac1c0002row1_col5\" class=\"data row1 col5\" >0.7103</td>\n",
              "            </tr>\n",
              "            <tr>\n",
              "                        <th id=\"T_ead0ebac_cec8_11ea_9a2c_0242ac1c0002level0_row2\" class=\"row_heading level0 row2\" >Ingresos</th>\n",
              "                        <td id=\"T_ead0ebac_cec8_11ea_9a2c_0242ac1c0002row2_col0\" class=\"data row2 col0\" >0.3068</td>\n",
              "                        <td id=\"T_ead0ebac_cec8_11ea_9a2c_0242ac1c0002row2_col1\" class=\"data row2 col1\" >0.8860</td>\n",
              "                        <td id=\"T_ead0ebac_cec8_11ea_9a2c_0242ac1c0002row2_col2\" class=\"data row2 col2\" >1.0000</td>\n",
              "                        <td id=\"T_ead0ebac_cec8_11ea_9a2c_0242ac1c0002row2_col3\" class=\"data row2 col3\" >0.8791</td>\n",
              "                        <td id=\"T_ead0ebac_cec8_11ea_9a2c_0242ac1c0002row2_col4\" class=\"data row2 col4\" >-0.0537</td>\n",
              "                        <td id=\"T_ead0ebac_cec8_11ea_9a2c_0242ac1c0002row2_col5\" class=\"data row2 col5\" >0.8177</td>\n",
              "            </tr>\n",
              "            <tr>\n",
              "                        <th id=\"T_ead0ebac_cec8_11ea_9a2c_0242ac1c0002level0_row3\" class=\"row_heading level0 row3\" >Gastos</th>\n",
              "                        <td id=\"T_ead0ebac_cec8_11ea_9a2c_0242ac1c0002row3_col0\" class=\"data row3 col0\" >0.1816</td>\n",
              "                        <td id=\"T_ead0ebac_cec8_11ea_9a2c_0242ac1c0002row3_col1\" class=\"data row3 col1\" >0.7906</td>\n",
              "                        <td id=\"T_ead0ebac_cec8_11ea_9a2c_0242ac1c0002row3_col2\" class=\"data row3 col2\" >0.8791</td>\n",
              "                        <td id=\"T_ead0ebac_cec8_11ea_9a2c_0242ac1c0002row3_col3\" class=\"data row3 col3\" >1.0000</td>\n",
              "                        <td id=\"T_ead0ebac_cec8_11ea_9a2c_0242ac1c0002row3_col4\" class=\"data row3 col4\" >-0.0819</td>\n",
              "                        <td id=\"T_ead0ebac_cec8_11ea_9a2c_0242ac1c0002row3_col5\" class=\"data row3 col5\" >0.4445</td>\n",
              "            </tr>\n",
              "            <tr>\n",
              "                        <th id=\"T_ead0ebac_cec8_11ea_9a2c_0242ac1c0002level0_row4\" class=\"row_heading level0 row4\" >Experiencia_lab</th>\n",
              "                        <td id=\"T_ead0ebac_cec8_11ea_9a2c_0242ac1c0002row4_col0\" class=\"data row4 col0\" >0.8863</td>\n",
              "                        <td id=\"T_ead0ebac_cec8_11ea_9a2c_0242ac1c0002row4_col1\" class=\"data row4 col1\" >-0.4644</td>\n",
              "                        <td id=\"T_ead0ebac_cec8_11ea_9a2c_0242ac1c0002row4_col2\" class=\"data row4 col2\" >-0.0537</td>\n",
              "                        <td id=\"T_ead0ebac_cec8_11ea_9a2c_0242ac1c0002row4_col3\" class=\"data row4 col3\" >-0.0819</td>\n",
              "                        <td id=\"T_ead0ebac_cec8_11ea_9a2c_0242ac1c0002row4_col4\" class=\"data row4 col4\" >1.0000</td>\n",
              "                        <td id=\"T_ead0ebac_cec8_11ea_9a2c_0242ac1c0002row4_col5\" class=\"data row4 col5\" >-0.0058</td>\n",
              "            </tr>\n",
              "            <tr>\n",
              "                        <th id=\"T_ead0ebac_cec8_11ea_9a2c_0242ac1c0002level0_row5\" class=\"row_heading level0 row5\" >Balance</th>\n",
              "                        <td id=\"T_ead0ebac_cec8_11ea_9a2c_0242ac1c0002row5_col0\" class=\"data row5 col0\" >0.3572</td>\n",
              "                        <td id=\"T_ead0ebac_cec8_11ea_9a2c_0242ac1c0002row5_col1\" class=\"data row5 col1\" >0.7103</td>\n",
              "                        <td id=\"T_ead0ebac_cec8_11ea_9a2c_0242ac1c0002row5_col2\" class=\"data row5 col2\" >0.8177</td>\n",
              "                        <td id=\"T_ead0ebac_cec8_11ea_9a2c_0242ac1c0002row5_col3\" class=\"data row5 col3\" >0.4445</td>\n",
              "                        <td id=\"T_ead0ebac_cec8_11ea_9a2c_0242ac1c0002row5_col4\" class=\"data row5 col4\" >-0.0058</td>\n",
              "                        <td id=\"T_ead0ebac_cec8_11ea_9a2c_0242ac1c0002row5_col5\" class=\"data row5 col5\" >1.0000</td>\n",
              "            </tr>\n",
              "    </tbody></table>"
            ],
            "text/plain": [
              "<pandas.io.formats.style.Styler at 0x7f7bc553edd8>"
            ]
          },
          "metadata": {
            "tags": []
          },
          "execution_count": 32
        }
      ]
    },
    {
      "cell_type": "markdown",
      "metadata": {
        "id": "-35Ym-vSf67e",
        "colab_type": "text"
      },
      "source": [
        "**Resumen**"
      ]
    },
    {
      "cell_type": "code",
      "metadata": {
        "id": "I9L4AZDLZCJI",
        "colab_type": "code",
        "colab": {
          "base_uri": "https://localhost:8080/",
          "height": 317
        },
        "outputId": "bc339397-f06b-4804-8c47-4fc2df707d37"
      },
      "source": [
        "Empleados.describe()"
      ],
      "execution_count": null,
      "outputs": [
        {
          "output_type": "execute_result",
          "data": {
            "text/html": [
              "<div>\n",
              "<style scoped>\n",
              "    .dataframe tbody tr th:only-of-type {\n",
              "        vertical-align: middle;\n",
              "    }\n",
              "\n",
              "    .dataframe tbody tr th {\n",
              "        vertical-align: top;\n",
              "    }\n",
              "\n",
              "    .dataframe thead th {\n",
              "        text-align: right;\n",
              "    }\n",
              "</style>\n",
              "<table border=\"1\" class=\"dataframe\">\n",
              "  <thead>\n",
              "    <tr style=\"text-align: right;\">\n",
              "      <th></th>\n",
              "      <th>Edad</th>\n",
              "      <th>Anios_estudio</th>\n",
              "      <th>Ingresos</th>\n",
              "      <th>Gastos</th>\n",
              "      <th>Experiencia_lab</th>\n",
              "      <th>Balance</th>\n",
              "    </tr>\n",
              "  </thead>\n",
              "  <tbody>\n",
              "    <tr>\n",
              "      <th>count</th>\n",
              "      <td>26.000000</td>\n",
              "      <td>25.000000</td>\n",
              "      <td>26.000000</td>\n",
              "      <td>26.000000</td>\n",
              "      <td>24.000000</td>\n",
              "      <td>26.000000</td>\n",
              "    </tr>\n",
              "    <tr>\n",
              "      <th>mean</th>\n",
              "      <td>42.461538</td>\n",
              "      <td>14.320000</td>\n",
              "      <td>7541.576923</td>\n",
              "      <td>6409.807692</td>\n",
              "      <td>23.166667</td>\n",
              "      <td>1131.769231</td>\n",
              "    </tr>\n",
              "    <tr>\n",
              "      <th>std</th>\n",
              "      <td>10.748882</td>\n",
              "      <td>5.807466</td>\n",
              "      <td>3854.815058</td>\n",
              "      <td>2477.386171</td>\n",
              "      <td>12.171480</td>\n",
              "      <td>2050.756900</td>\n",
              "    </tr>\n",
              "    <tr>\n",
              "      <th>min</th>\n",
              "      <td>26.000000</td>\n",
              "      <td>5.000000</td>\n",
              "      <td>2117.000000</td>\n",
              "      <td>1217.000000</td>\n",
              "      <td>5.000000</td>\n",
              "      <td>-1888.000000</td>\n",
              "    </tr>\n",
              "    <tr>\n",
              "      <th>25%</th>\n",
              "      <td>35.250000</td>\n",
              "      <td>11.000000</td>\n",
              "      <td>4003.000000</td>\n",
              "      <td>4938.250000</td>\n",
              "      <td>12.500000</td>\n",
              "      <td>-668.500000</td>\n",
              "    </tr>\n",
              "    <tr>\n",
              "      <th>50%</th>\n",
              "      <td>40.000000</td>\n",
              "      <td>16.000000</td>\n",
              "      <td>7360.000000</td>\n",
              "      <td>6117.500000</td>\n",
              "      <td>23.500000</td>\n",
              "      <td>944.500000</td>\n",
              "    </tr>\n",
              "    <tr>\n",
              "      <th>75%</th>\n",
              "      <td>51.750000</td>\n",
              "      <td>19.000000</td>\n",
              "      <td>10924.250000</td>\n",
              "      <td>8071.000000</td>\n",
              "      <td>30.000000</td>\n",
              "      <td>2676.000000</td>\n",
              "    </tr>\n",
              "    <tr>\n",
              "      <th>max</th>\n",
              "      <td>67.000000</td>\n",
              "      <td>23.000000</td>\n",
              "      <td>15479.000000</td>\n",
              "      <td>11021.000000</td>\n",
              "      <td>45.000000</td>\n",
              "      <td>6135.000000</td>\n",
              "    </tr>\n",
              "  </tbody>\n",
              "</table>\n",
              "</div>"
            ],
            "text/plain": [
              "            Edad  Anios_estudio  ...  Experiencia_lab      Balance\n",
              "count  26.000000      25.000000  ...        24.000000    26.000000\n",
              "mean   42.461538      14.320000  ...        23.166667  1131.769231\n",
              "std    10.748882       5.807466  ...        12.171480  2050.756900\n",
              "min    26.000000       5.000000  ...         5.000000 -1888.000000\n",
              "25%    35.250000      11.000000  ...        12.500000  -668.500000\n",
              "50%    40.000000      16.000000  ...        23.500000   944.500000\n",
              "75%    51.750000      19.000000  ...        30.000000  2676.000000\n",
              "max    67.000000      23.000000  ...        45.000000  6135.000000\n",
              "\n",
              "[8 rows x 6 columns]"
            ]
          },
          "metadata": {
            "tags": []
          },
          "execution_count": 33
        }
      ]
    },
    {
      "cell_type": "markdown",
      "metadata": {
        "id": "H6DMQ_vTfxjq",
        "colab_type": "text"
      },
      "source": [
        "# Gráficos"
      ]
    },
    {
      "cell_type": "markdown",
      "metadata": {
        "id": "FWieg6kn8Ppf",
        "colab_type": "text"
      },
      "source": [
        "**Diagrama de caja**\n",
        "\n",
        "El diagrama de caja se utiliza para visualizar la dispersión de variables cuantitativas. La longitud de la caja comprende el rango entre el 1er y 3er cuartil. Aproximadamente en la parte central de la caja, mediante una línea se representa la mediana. Se calculan el mínimo y máximo sin datos atípicos y se los representa mediante líneas de los extremos. Y los valores atípicos se los representan como puntos más allá de los mínimo y máximo."
      ]
    },
    {
      "cell_type": "code",
      "metadata": {
        "id": "mZrwLhSpLyL6",
        "colab_type": "code",
        "colab": {
          "base_uri": "https://localhost:8080/",
          "height": 287
        },
        "outputId": "b9ee0d48-58f2-4380-a245-57b42f2ed521"
      },
      "source": [
        "Empleados.boxplot()\n",
        "Empleados[['Edad','Anios_estudio','Experiencia_lab']].boxplot()"
      ],
      "execution_count": null,
      "outputs": [
        {
          "output_type": "execute_result",
          "data": {
            "text/plain": [
              "<matplotlib.axes._subplots.AxesSubplot at 0x7f7bc4b82d68>"
            ]
          },
          "metadata": {
            "tags": []
          },
          "execution_count": 35
        },
        {
          "output_type": "display_data",
          "data": {
            "image/png": "[encoded data removed]",
            "text/plain": [
              "<Figure size 432x288 with 1 Axes>"
            ]
          },
          "metadata": {
            "tags": [],
            "needs_background": "light"
          }
        }
      ]
    },
    {
      "cell_type": "markdown",
      "metadata": {
        "id": "XrJSkI_Z_2LS",
        "colab_type": "text"
      },
      "source": [
        "**Histograma**\n",
        "\n",
        "El histograma representa la distribución de una variable, mediante las frecuencias absolutas o relativas de las clases de una variable continua categorizada. La representación lo hace mediante áreas de barras rectangulares contiguas en el orden respectivo de las clases."
      ]
    },
    {
      "cell_type": "code",
      "metadata": {
        "id": "mvp7pNJ6_bHK",
        "colab_type": "code",
        "colab": {
          "base_uri": "https://localhost:8080/",
          "height": 400
        },
        "outputId": "d4a77f42-03b3-4304-c097-d597ee77ccd4"
      },
      "source": [
        "Empleados.hist()"
      ],
      "execution_count": null,
      "outputs": [
        {
          "output_type": "execute_result",
          "data": {
            "text/plain": [
              "array([[<matplotlib.axes._subplots.AxesSubplot object at 0x7f7bc4bb1780>,\n",
              "        <matplotlib.axes._subplots.AxesSubplot object at 0x7f7bc4a1b5f8>],\n",
              "       [<matplotlib.axes._subplots.AxesSubplot object at 0x7f7bc49cb860>,\n",
              "        <matplotlib.axes._subplots.AxesSubplot object at 0x7f7bc4a02ac8>],\n",
              "       [<matplotlib.axes._subplots.AxesSubplot object at 0x7f7bc49b5d30>,\n",
              "        <matplotlib.axes._subplots.AxesSubplot object at 0x7f7bc496cf98>]],\n",
              "      dtype=object)"
            ]
          },
          "metadata": {
            "tags": []
          },
          "execution_count": 36
        },
        {
          "output_type": "display_data",
          "data": {
            "image/png": "[encoded data removed]",
            "text/plain": [
              "<Figure size 432x288 with 6 Axes>"
            ]
          },
          "metadata": {
            "tags": [],
            "needs_background": "light"
          }
        }
      ]
    },
    {
      "cell_type": "markdown",
      "metadata": {
        "id": "uetskiSvBl-Z",
        "colab_type": "text"
      },
      "source": [
        "**Densidad núcleo**\n",
        "\n",
        "La densidad núcleo es una especie de suavizamiento de un histograma y una estimación de la función de densidad de probabilidad de una variable aleatoria $X$. La estimación se hace mediante una mezcla de densidades. Sean los datos $X_{i}$ para $i=1,2,\\ldots ,n$, el estimador de su densidad de probabilidad es\n",
        "\\begin{equation*}\n",
        "\\widehat{f}\\left( X\\right) =\\frac{1}{nh}\\sum_{i=1}^{n}K\\left( \\frac{X-X_{i}}{h}\\right)\n",
        "\\end{equation*}\n",
        "donde $K$ es la función de densidad de probabilidad núcleo o Kernel, y $h$ es un parámetro de suavizado, o ventana. Algunas densidades núcleo son:\n",
        "\n",
        "Epanechnikov\n",
        "\\begin{equation*}\n",
        "K\\left( z\\right) =\\left\\{\\begin{array}{cc}\n",
        "\\frac{3}{4}\\left( 1-z^{2}\\right) & \\left\\vert z\\right\\vert \\leq 1 \\\\ \n",
        "0 & \\left\\vert z\\right\\vert >1\n",
        "\\end{array}\\right.\n",
        "\\end{equation*}\n",
        "Gaussiana\n",
        "\\begin{equation*}\n",
        "K\\left( z\\right) =\\frac{1}{\\sqrt{2\\pi }}e^{-\\frac{1}{2}z^{2}}\n",
        "\\end{equation*}\n",
        "Uniforme\n",
        "\\begin{equation*}\n",
        "K\\left( z\\right) =\\left\\{\\begin{array}{cc}\n",
        "\\frac{1}{2} & \\left\\vert z\\right\\vert \\leq 1 \\\\ \n",
        "0 & \\left\\vert z\\right\\vert >1\n",
        "\\end{array}\n",
        "\\right.\n",
        "\\end{equation*}\n",
        "Se elige la ventana tal que se minimice el error cuadrático integrado medio\n",
        "\\begin{equation*}\n",
        "MISE=E\\left\\{ \\int_{%TCIMACRO{\\U{211d} }\n",
        "%BeginExpansion\n",
        "\\mathbb{R}\n",
        "%EndExpansion\n",
        "}\\left[ \\widehat{f}\\left( x\\right) -f\\left( x\\right) \\right] ^{2}dx\\right\\}\n",
        "\\end{equation*}entonces\n",
        "\\begin{equation*}\n",
        "\\frac{\\partial MISE}{\\partial h}=0\n",
        "\\end{equation*}\n",
        "Un estimador plug-in es $\\widehat{h}=2.345n^{-0.2}s$ para Epanechnikov y $\n",
        "\\widehat{h}=1.059n^{-0.2}s$ para la Gaussiana."
      ]
    },
    {
      "cell_type": "code",
      "metadata": {
        "id": "ZgtSDH_-Az3F",
        "colab_type": "code",
        "colab": {
          "base_uri": "https://localhost:8080/",
          "height": 293
        },
        "outputId": "59ed1897-7bb6-4d82-fe00-2a03144b9633"
      },
      "source": [
        "Empleados.Ingresos.plot.density()"
      ],
      "execution_count": null,
      "outputs": [
        {
          "output_type": "execute_result",
          "data": {
            "text/plain": [
              "<matplotlib.axes._subplots.AxesSubplot at 0x7f7bbaf36278>"
            ]
          },
          "metadata": {
            "tags": []
          },
          "execution_count": 39
        },
        {
          "output_type": "display_data",
          "data": {
            "image/png": "[encoded data removed]",
            "text/plain": [
              "<Figure size 432x288 with 1 Axes>"
            ]
          },
          "metadata": {
            "tags": [],
            "needs_background": "light"
          }
        }
      ]
    },
    {
      "cell_type": "markdown",
      "metadata": {
        "id": "SfXXEogbgKxJ",
        "colab_type": "text"
      },
      "source": [
        "# Apply"
      ]
    },
    {
      "cell_type": "code",
      "metadata": {
        "id": "FC74PHYrfkux",
        "colab_type": "code",
        "colab": {
          "base_uri": "https://localhost:8080/",
          "height": 244
        },
        "outputId": "d172bb1f-15a5-4aaa-d480-8ea9177c4a53"
      },
      "source": [
        "# Aplica la media, la mediana, el mínimo y el máximo a las variables del dataframe Empleados\n",
        "Empleados.apply(['mean','median','min','max'])"
      ],
      "execution_count": 4,
      "outputs": [
        {
          "output_type": "execute_result",
          "data": {
            "text/html": [
              "<div>\n",
              "<style scoped>\n",
              "    .dataframe tbody tr th:only-of-type {\n",
              "        vertical-align: middle;\n",
              "    }\n",
              "\n",
              "    .dataframe tbody tr th {\n",
              "        vertical-align: top;\n",
              "    }\n",
              "\n",
              "    .dataframe thead th {\n",
              "        text-align: right;\n",
              "    }\n",
              "</style>\n",
              "<table border=\"1\" class=\"dataframe\">\n",
              "  <thead>\n",
              "    <tr style=\"text-align: right;\">\n",
              "      <th></th>\n",
              "      <th>Nombres</th>\n",
              "      <th>Apellidos</th>\n",
              "      <th>Edad</th>\n",
              "      <th>Anios_estudio</th>\n",
              "      <th>Ingresos</th>\n",
              "      <th>Gastos</th>\n",
              "      <th>Fecha_contrato</th>\n",
              "      <th>Experiencia_lab</th>\n",
              "      <th>Balance</th>\n",
              "    </tr>\n",
              "  </thead>\n",
              "  <tbody>\n",
              "    <tr>\n",
              "      <th>min</th>\n",
              "      <td>Alejandro Tito</td>\n",
              "      <td>Barrientos Gómez</td>\n",
              "      <td>26.000000</td>\n",
              "      <td>5.00</td>\n",
              "      <td>2117.000000</td>\n",
              "      <td>1217.000000</td>\n",
              "      <td>2009-01-26 00:00:00</td>\n",
              "      <td>5.000000</td>\n",
              "      <td>-1888.000000</td>\n",
              "    </tr>\n",
              "    <tr>\n",
              "      <th>max</th>\n",
              "      <td>Vicente</td>\n",
              "      <td>Zuñiga Fernández</td>\n",
              "      <td>67.000000</td>\n",
              "      <td>23.00</td>\n",
              "      <td>15479.000000</td>\n",
              "      <td>11021.000000</td>\n",
              "      <td>2019-08-10 00:00:00</td>\n",
              "      <td>45.000000</td>\n",
              "      <td>6135.000000</td>\n",
              "    </tr>\n",
              "    <tr>\n",
              "      <th>mean</th>\n",
              "      <td>NaN</td>\n",
              "      <td>NaN</td>\n",
              "      <td>42.461538</td>\n",
              "      <td>14.32</td>\n",
              "      <td>7541.576923</td>\n",
              "      <td>6409.807692</td>\n",
              "      <td>2014-05-21 18:00:00</td>\n",
              "      <td>23.166667</td>\n",
              "      <td>1131.769231</td>\n",
              "    </tr>\n",
              "    <tr>\n",
              "      <th>median</th>\n",
              "      <td>NaN</td>\n",
              "      <td>NaN</td>\n",
              "      <td>40.000000</td>\n",
              "      <td>16.00</td>\n",
              "      <td>7360.000000</td>\n",
              "      <td>6117.500000</td>\n",
              "      <td>NaT</td>\n",
              "      <td>23.500000</td>\n",
              "      <td>944.500000</td>\n",
              "    </tr>\n",
              "  </tbody>\n",
              "</table>\n",
              "</div>"
            ],
            "text/plain": [
              "               Nombres         Apellidos  ...  Experiencia_lab      Balance\n",
              "min     Alejandro Tito  Barrientos Gómez  ...         5.000000 -1888.000000\n",
              "max            Vicente  Zuñiga Fernández  ...        45.000000  6135.000000\n",
              "mean               NaN               NaN  ...        23.166667  1131.769231\n",
              "median             NaN               NaN  ...        23.500000   944.500000\n",
              "\n",
              "[4 rows x 9 columns]"
            ]
          },
          "metadata": {
            "tags": []
          },
          "execution_count": 4
        }
      ]
    },
    {
      "cell_type": "code",
      "metadata": {
        "id": "0ejySQKYrzFm",
        "colab_type": "code",
        "colab": {}
      },
      "source": [
        "#Función de una sola línea que calcula la medida de entropía de Shannon\n",
        "lambda x: -np.sum(x/np.sum(x)*np.log(x/np.sum(x)))"
      ],
      "execution_count": null,
      "outputs": []
    },
    {
      "cell_type": "code",
      "metadata": {
        "id": "51sYLrdWrOim",
        "colab_type": "code",
        "colab": {
          "base_uri": "https://localhost:8080/",
          "height": 85
        },
        "outputId": "2b4b5bb2-2567-4e3d-d3b2-96c144dfdedb"
      },
      "source": [
        "#Calcula la medida de entropía de las variables Edad, Ingresos y Gastos\n",
        "Empleados[['Edad','Ingresos','Gastos']].apply(lambda x:-np.sum(x/np.sum(x)*np.log(x/np.sum(x))))"
      ],
      "execution_count": 6,
      "outputs": [
        {
          "output_type": "execute_result",
          "data": {
            "text/plain": [
              "Edad        3.227628\n",
              "Ingresos    3.127931\n",
              "Gastos      3.180385\n",
              "dtype: float64"
            ]
          },
          "metadata": {
            "tags": []
          },
          "execution_count": 6
        }
      ]
    },
    {
      "cell_type": "markdown",
      "metadata": {
        "id": "EFjBBJsifsQw",
        "colab_type": "text"
      },
      "source": [
        "# Estadísticos por fila"
      ]
    },
    {
      "cell_type": "code",
      "metadata": {
        "id": "_E7gWTcZftcD",
        "colab_type": "code",
        "colab": {}
      },
      "source": [
        "#Calcula las medias por fila, es decir, de cada observación (empleado)\n",
        "Empleados.mean(axis=1)"
      ],
      "execution_count": null,
      "outputs": []
    },
    {
      "cell_type": "code",
      "metadata": {
        "id": "sb9HBsN2ucVm",
        "colab_type": "code",
        "colab": {
          "base_uri": "https://localhost:8080/",
          "height": 493
        },
        "outputId": "efe74e05-9875-4add-9cfd-9b08268378ec"
      },
      "source": [
        "#Media de ingresos y gastos para cada empleado\n",
        "Empleados[['Ingresos', 'Gastos']].mean(axis=1)"
      ],
      "execution_count": 8,
      "outputs": [
        {
          "output_type": "execute_result",
          "data": {
            "text/plain": [
              "0      3308.5\n",
              "1         NaN\n",
              "2      4121.5\n",
              "4     12411.5\n",
              "6      6283.5\n",
              "7     10250.5\n",
              "9      4658.0\n",
              "10     1667.0\n",
              "11     7346.0\n",
              "12     2954.0\n",
              "13    10734.0\n",
              "14     5878.0\n",
              "15    10617.5\n",
              "16     4730.0\n",
              "17     7303.5\n",
              "18     7114.0\n",
              "19     4343.0\n",
              "20     9407.0\n",
              "21     5634.0\n",
              "22     9694.0\n",
              "23    10124.0\n",
              "24     2936.5\n",
              "25     9420.0\n",
              "26    12256.0\n",
              "27     5722.5\n",
              "28     7869.5\n",
              "29     4584.0\n",
              "dtype: float64"
            ]
          },
          "metadata": {
            "tags": []
          },
          "execution_count": 8
        }
      ]
    },
    {
      "cell_type": "code",
      "metadata": {
        "id": "UFG4pWcGtkB6",
        "colab_type": "code",
        "colab": {
          "base_uri": "https://localhost:8080/",
          "height": 493
        },
        "outputId": "73a4e7cd-c994-438c-adf8-394c34bef897"
      },
      "source": [
        "#Aplica una función a cada empleado\n",
        "Empleados[['Edad','Ingresos','Gastos']].apply(lambda x: np.prod(np.exp(1/x)), axis=1)"
      ],
      "execution_count": 9,
      "outputs": [
        {
          "output_type": "execute_result",
          "data": {
            "text/plain": [
              "0     1.019670\n",
              "1     1.000000\n",
              "2     1.026471\n",
              "4     1.018523\n",
              "6     1.034238\n",
              "7     1.030972\n",
              "9     1.039663\n",
              "10    1.019336\n",
              "11    1.024969\n",
              "12    1.028149\n",
              "13    1.015230\n",
              "14    1.027015\n",
              "15    1.026859\n",
              "16    1.022420\n",
              "17    1.025620\n",
              "18    1.028457\n",
              "19    1.025796\n",
              "20    1.017613\n",
              "21    1.035454\n",
              "22    1.019634\n",
              "23    1.029188\n",
              "24    1.038439\n",
              "25    1.021726\n",
              "26    1.019969\n",
              "27    1.023911\n",
              "28    1.032008\n",
              "29    1.018812\n",
              "dtype: float64"
            ]
          },
          "metadata": {
            "tags": []
          },
          "execution_count": 9
        }
      ]
    },
    {
      "cell_type": "markdown",
      "metadata": {
        "id": "Wsb-DoqXf35s",
        "colab_type": "text"
      },
      "source": [
        "# Estadísticos por grupos"
      ]
    },
    {
      "cell_type": "code",
      "metadata": {
        "id": "RIySyxa39NTC",
        "colab_type": "code",
        "colab": {
          "base_uri": "https://localhost:8080/",
          "height": 142
        },
        "outputId": "c1c42e3c-10e8-4aba-dd34-b53c0b7af5b0"
      },
      "source": [
        "#Calcula las medias de las variables cuantitativas de Empleados agrupando por sexo\n",
        "Empleados.groupby('Sexo').mean()"
      ],
      "execution_count": 10,
      "outputs": [
        {
          "output_type": "execute_result",
          "data": {
            "text/html": [
              "<div>\n",
              "<style scoped>\n",
              "    .dataframe tbody tr th:only-of-type {\n",
              "        vertical-align: middle;\n",
              "    }\n",
              "\n",
              "    .dataframe tbody tr th {\n",
              "        vertical-align: top;\n",
              "    }\n",
              "\n",
              "    .dataframe thead th {\n",
              "        text-align: right;\n",
              "    }\n",
              "</style>\n",
              "<table border=\"1\" class=\"dataframe\">\n",
              "  <thead>\n",
              "    <tr style=\"text-align: right;\">\n",
              "      <th></th>\n",
              "      <th>Edad</th>\n",
              "      <th>Anios_estudio</th>\n",
              "      <th>Ingresos</th>\n",
              "      <th>Gastos</th>\n",
              "      <th>Experiencia_lab</th>\n",
              "      <th>Balance</th>\n",
              "    </tr>\n",
              "    <tr>\n",
              "      <th>Sexo</th>\n",
              "      <th></th>\n",
              "      <th></th>\n",
              "      <th></th>\n",
              "      <th></th>\n",
              "      <th></th>\n",
              "      <th></th>\n",
              "    </tr>\n",
              "  </thead>\n",
              "  <tbody>\n",
              "    <tr>\n",
              "      <th>Hombre</th>\n",
              "      <td>46.5</td>\n",
              "      <td>12.785714</td>\n",
              "      <td>7263.6875</td>\n",
              "      <td>6208.8125</td>\n",
              "      <td>28.714286</td>\n",
              "      <td>1054.875</td>\n",
              "    </tr>\n",
              "    <tr>\n",
              "      <th>Mujer</th>\n",
              "      <td>36.0</td>\n",
              "      <td>16.272727</td>\n",
              "      <td>7986.2000</td>\n",
              "      <td>6731.4000</td>\n",
              "      <td>15.400000</td>\n",
              "      <td>1254.800</td>\n",
              "    </tr>\n",
              "  </tbody>\n",
              "</table>\n",
              "</div>"
            ],
            "text/plain": [
              "        Edad  Anios_estudio   Ingresos     Gastos  Experiencia_lab   Balance\n",
              "Sexo                                                                        \n",
              "Hombre  46.5      12.785714  7263.6875  6208.8125        28.714286  1054.875\n",
              "Mujer   36.0      16.272727  7986.2000  6731.4000        15.400000  1254.800"
            ]
          },
          "metadata": {
            "tags": []
          },
          "execution_count": 10
        }
      ]
    },
    {
      "cell_type": "code",
      "metadata": {
        "id": "NBeWDRENv5PQ",
        "colab_type": "code",
        "colab": {
          "base_uri": "https://localhost:8080/",
          "height": 235
        },
        "outputId": "bb5d3be0-ade8-4c1c-b145-6c0c4b600f73"
      },
      "source": [
        "#Calcula las medianas de las variables cuantitativas de Empleados agrupando por Estado civil\n",
        "Empleados.groupby('Estado_civil').median()"
      ],
      "execution_count": 11,
      "outputs": [
        {
          "output_type": "execute_result",
          "data": {
            "text/html": [
              "<div>\n",
              "<style scoped>\n",
              "    .dataframe tbody tr th:only-of-type {\n",
              "        vertical-align: middle;\n",
              "    }\n",
              "\n",
              "    .dataframe tbody tr th {\n",
              "        vertical-align: top;\n",
              "    }\n",
              "\n",
              "    .dataframe thead th {\n",
              "        text-align: right;\n",
              "    }\n",
              "</style>\n",
              "<table border=\"1\" class=\"dataframe\">\n",
              "  <thead>\n",
              "    <tr style=\"text-align: right;\">\n",
              "      <th></th>\n",
              "      <th>Edad</th>\n",
              "      <th>Anios_estudio</th>\n",
              "      <th>Ingresos</th>\n",
              "      <th>Gastos</th>\n",
              "      <th>Experiencia_lab</th>\n",
              "      <th>Balance</th>\n",
              "    </tr>\n",
              "    <tr>\n",
              "      <th>Estado_civil</th>\n",
              "      <th></th>\n",
              "      <th></th>\n",
              "      <th></th>\n",
              "      <th></th>\n",
              "      <th></th>\n",
              "      <th></th>\n",
              "    </tr>\n",
              "  </thead>\n",
              "  <tbody>\n",
              "    <tr>\n",
              "      <th>Soltero(a)</th>\n",
              "      <td>27.0</td>\n",
              "      <td>14.5</td>\n",
              "      <td>4135.0</td>\n",
              "      <td>5014.0</td>\n",
              "      <td>10.0</td>\n",
              "      <td>61.0</td>\n",
              "    </tr>\n",
              "    <tr>\n",
              "      <th>Casado(a)</th>\n",
              "      <td>38.0</td>\n",
              "      <td>14.0</td>\n",
              "      <td>7185.0</td>\n",
              "      <td>6174.0</td>\n",
              "      <td>18.0</td>\n",
              "      <td>378.0</td>\n",
              "    </tr>\n",
              "    <tr>\n",
              "      <th>Divorciado(a)</th>\n",
              "      <td>52.0</td>\n",
              "      <td>17.0</td>\n",
              "      <td>11467.0</td>\n",
              "      <td>8121.0</td>\n",
              "      <td>30.0</td>\n",
              "      <td>2598.0</td>\n",
              "    </tr>\n",
              "    <tr>\n",
              "      <th>Viudo(a)</th>\n",
              "      <td>58.0</td>\n",
              "      <td>16.0</td>\n",
              "      <td>10935.0</td>\n",
              "      <td>7879.0</td>\n",
              "      <td>45.0</td>\n",
              "      <td>2702.0</td>\n",
              "    </tr>\n",
              "    <tr>\n",
              "      <th>Desconocido</th>\n",
              "      <td>46.5</td>\n",
              "      <td>NaN</td>\n",
              "      <td>2127.0</td>\n",
              "      <td>2494.0</td>\n",
              "      <td>NaN</td>\n",
              "      <td>-367.0</td>\n",
              "    </tr>\n",
              "  </tbody>\n",
              "</table>\n",
              "</div>"
            ],
            "text/plain": [
              "               Edad  Anios_estudio  Ingresos  Gastos  Experiencia_lab  Balance\n",
              "Estado_civil                                                                  \n",
              "Soltero(a)     27.0           14.5    4135.0  5014.0             10.0     61.0\n",
              "Casado(a)      38.0           14.0    7185.0  6174.0             18.0    378.0\n",
              "Divorciado(a)  52.0           17.0   11467.0  8121.0             30.0   2598.0\n",
              "Viudo(a)       58.0           16.0   10935.0  7879.0             45.0   2702.0\n",
              "Desconocido    46.5            NaN    2127.0  2494.0              NaN   -367.0"
            ]
          },
          "metadata": {
            "tags": []
          },
          "execution_count": 11
        }
      ]
    },
    {
      "cell_type": "code",
      "metadata": {
        "id": "SJIC6eydvxma",
        "colab_type": "code",
        "colab": {
          "base_uri": "https://localhost:8080/",
          "height": 1000
        },
        "outputId": "f929a927-6157-44a9-e033-f11e6ee867ee"
      },
      "source": [
        "#Calcula las matrices de correlaciones de las variables cuantitativas\n",
        "#de Empleados agrupando por Estado civil\n",
        "Empleados.groupby('Estado_civil').corr()"
      ],
      "execution_count": 18,
      "outputs": [
        {
          "output_type": "execute_result",
          "data": {
            "text/html": [
              "<div>\n",
              "<style scoped>\n",
              "    .dataframe tbody tr th:only-of-type {\n",
              "        vertical-align: middle;\n",
              "    }\n",
              "\n",
              "    .dataframe tbody tr th {\n",
              "        vertical-align: top;\n",
              "    }\n",
              "\n",
              "    .dataframe thead th {\n",
              "        text-align: right;\n",
              "    }\n",
              "</style>\n",
              "<table border=\"1\" class=\"dataframe\">\n",
              "  <thead>\n",
              "    <tr style=\"text-align: right;\">\n",
              "      <th></th>\n",
              "      <th></th>\n",
              "      <th>Edad</th>\n",
              "      <th>Anios_estudio</th>\n",
              "      <th>Ingresos</th>\n",
              "      <th>Gastos</th>\n",
              "      <th>Experiencia_lab</th>\n",
              "      <th>Balance</th>\n",
              "    </tr>\n",
              "    <tr>\n",
              "      <th>Estado_civil</th>\n",
              "      <th></th>\n",
              "      <th></th>\n",
              "      <th></th>\n",
              "      <th></th>\n",
              "      <th></th>\n",
              "      <th></th>\n",
              "      <th></th>\n",
              "    </tr>\n",
              "  </thead>\n",
              "  <tbody>\n",
              "    <tr>\n",
              "      <th rowspan=\"6\" valign=\"top\">Soltero(a)</th>\n",
              "      <th>Edad</th>\n",
              "      <td>1.000000</td>\n",
              "      <td>0.783677</td>\n",
              "      <td>0.882271</td>\n",
              "      <td>0.213481</td>\n",
              "      <td>-0.576557</td>\n",
              "      <td>0.997970</td>\n",
              "    </tr>\n",
              "    <tr>\n",
              "      <th>Anios_estudio</th>\n",
              "      <td>0.783677</td>\n",
              "      <td>1.000000</td>\n",
              "      <td>0.983826</td>\n",
              "      <td>0.774149</td>\n",
              "      <td>-0.959364</td>\n",
              "      <td>0.742528</td>\n",
              "    </tr>\n",
              "    <tr>\n",
              "      <th>Ingresos</th>\n",
              "      <td>0.882271</td>\n",
              "      <td>0.983826</td>\n",
              "      <td>1.000000</td>\n",
              "      <td>0.648238</td>\n",
              "      <td>-0.893302</td>\n",
              "      <td>0.850501</td>\n",
              "    </tr>\n",
              "    <tr>\n",
              "      <th>Gastos</th>\n",
              "      <td>0.213481</td>\n",
              "      <td>0.774149</td>\n",
              "      <td>0.648238</td>\n",
              "      <td>1.000000</td>\n",
              "      <td>-0.921305</td>\n",
              "      <td>0.150831</td>\n",
              "    </tr>\n",
              "    <tr>\n",
              "      <th>Experiencia_lab</th>\n",
              "      <td>-0.576557</td>\n",
              "      <td>-0.959364</td>\n",
              "      <td>-0.893302</td>\n",
              "      <td>-0.921305</td>\n",
              "      <td>1.000000</td>\n",
              "      <td>-0.523353</td>\n",
              "    </tr>\n",
              "    <tr>\n",
              "      <th>Balance</th>\n",
              "      <td>0.997970</td>\n",
              "      <td>0.742528</td>\n",
              "      <td>0.850501</td>\n",
              "      <td>0.150831</td>\n",
              "      <td>-0.523353</td>\n",
              "      <td>1.000000</td>\n",
              "    </tr>\n",
              "    <tr>\n",
              "      <th rowspan=\"6\" valign=\"top\">Casado(a)</th>\n",
              "      <th>Edad</th>\n",
              "      <td>1.000000</td>\n",
              "      <td>-0.542159</td>\n",
              "      <td>-0.337870</td>\n",
              "      <td>-0.436934</td>\n",
              "      <td>0.851116</td>\n",
              "      <td>-0.059469</td>\n",
              "    </tr>\n",
              "    <tr>\n",
              "      <th>Anios_estudio</th>\n",
              "      <td>-0.542159</td>\n",
              "      <td>1.000000</td>\n",
              "      <td>0.967603</td>\n",
              "      <td>0.786571</td>\n",
              "      <td>-0.902566</td>\n",
              "      <td>0.678315</td>\n",
              "    </tr>\n",
              "    <tr>\n",
              "      <th>Ingresos</th>\n",
              "      <td>-0.337870</td>\n",
              "      <td>0.967603</td>\n",
              "      <td>1.000000</td>\n",
              "      <td>0.783188</td>\n",
              "      <td>-0.777650</td>\n",
              "      <td>0.733511</td>\n",
              "    </tr>\n",
              "    <tr>\n",
              "      <th>Gastos</th>\n",
              "      <td>-0.436934</td>\n",
              "      <td>0.786571</td>\n",
              "      <td>0.783188</td>\n",
              "      <td>1.000000</td>\n",
              "      <td>-0.715306</td>\n",
              "      <td>0.151864</td>\n",
              "    </tr>\n",
              "    <tr>\n",
              "      <th>Experiencia_lab</th>\n",
              "      <td>0.851116</td>\n",
              "      <td>-0.902566</td>\n",
              "      <td>-0.777650</td>\n",
              "      <td>-0.715306</td>\n",
              "      <td>1.000000</td>\n",
              "      <td>-0.454260</td>\n",
              "    </tr>\n",
              "    <tr>\n",
              "      <th>Balance</th>\n",
              "      <td>-0.059469</td>\n",
              "      <td>0.678315</td>\n",
              "      <td>0.733511</td>\n",
              "      <td>0.151864</td>\n",
              "      <td>-0.454260</td>\n",
              "      <td>1.000000</td>\n",
              "    </tr>\n",
              "    <tr>\n",
              "      <th rowspan=\"6\" valign=\"top\">Divorciado(a)</th>\n",
              "      <th>Edad</th>\n",
              "      <td>1.000000</td>\n",
              "      <td>-0.108360</td>\n",
              "      <td>0.092862</td>\n",
              "      <td>-0.136871</td>\n",
              "      <td>0.515068</td>\n",
              "      <td>0.417208</td>\n",
              "    </tr>\n",
              "    <tr>\n",
              "      <th>Anios_estudio</th>\n",
              "      <td>-0.108360</td>\n",
              "      <td>1.000000</td>\n",
              "      <td>0.976375</td>\n",
              "      <td>0.953476</td>\n",
              "      <td>-0.907915</td>\n",
              "      <td>0.757196</td>\n",
              "    </tr>\n",
              "    <tr>\n",
              "      <th>Ingresos</th>\n",
              "      <td>0.092862</td>\n",
              "      <td>0.976375</td>\n",
              "      <td>1.000000</td>\n",
              "      <td>0.933917</td>\n",
              "      <td>-0.802702</td>\n",
              "      <td>0.840186</td>\n",
              "    </tr>\n",
              "    <tr>\n",
              "      <th>Gastos</th>\n",
              "      <td>-0.136871</td>\n",
              "      <td>0.953476</td>\n",
              "      <td>0.933917</td>\n",
              "      <td>1.000000</td>\n",
              "      <td>-0.879823</td>\n",
              "      <td>0.590798</td>\n",
              "    </tr>\n",
              "    <tr>\n",
              "      <th>Experiencia_lab</th>\n",
              "      <td>0.515068</td>\n",
              "      <td>-0.907915</td>\n",
              "      <td>-0.802702</td>\n",
              "      <td>-0.879823</td>\n",
              "      <td>1.000000</td>\n",
              "      <td>-0.476964</td>\n",
              "    </tr>\n",
              "    <tr>\n",
              "      <th>Balance</th>\n",
              "      <td>0.417208</td>\n",
              "      <td>0.757196</td>\n",
              "      <td>0.840186</td>\n",
              "      <td>0.590798</td>\n",
              "      <td>-0.476964</td>\n",
              "      <td>1.000000</td>\n",
              "    </tr>\n",
              "    <tr>\n",
              "      <th rowspan=\"6\" valign=\"top\">Viudo(a)</th>\n",
              "      <th>Edad</th>\n",
              "      <td>1.000000</td>\n",
              "      <td>0.745528</td>\n",
              "      <td>0.778355</td>\n",
              "      <td>0.918228</td>\n",
              "      <td>0.277350</td>\n",
              "      <td>0.645700</td>\n",
              "    </tr>\n",
              "    <tr>\n",
              "      <th>Anios_estudio</th>\n",
              "      <td>0.745528</td>\n",
              "      <td>1.000000</td>\n",
              "      <td>0.998714</td>\n",
              "      <td>0.948523</td>\n",
              "      <td>-0.433555</td>\n",
              "      <td>0.990301</td>\n",
              "    </tr>\n",
              "    <tr>\n",
              "      <th>Ingresos</th>\n",
              "      <td>0.778355</td>\n",
              "      <td>0.998714</td>\n",
              "      <td>1.000000</td>\n",
              "      <td>0.963358</td>\n",
              "      <td>-0.387318</td>\n",
              "      <td>0.981985</td>\n",
              "    </tr>\n",
              "    <tr>\n",
              "      <th>Gastos</th>\n",
              "      <td>0.918228</td>\n",
              "      <td>0.948523</td>\n",
              "      <td>0.963358</td>\n",
              "      <td>1.000000</td>\n",
              "      <td>-0.125844</td>\n",
              "      <td>0.895322</td>\n",
              "    </tr>\n",
              "    <tr>\n",
              "      <th>Experiencia_lab</th>\n",
              "      <td>0.277350</td>\n",
              "      <td>-0.433555</td>\n",
              "      <td>-0.387318</td>\n",
              "      <td>-0.125844</td>\n",
              "      <td>1.000000</td>\n",
              "      <td>-0.554550</td>\n",
              "    </tr>\n",
              "    <tr>\n",
              "      <th>Balance</th>\n",
              "      <td>0.645700</td>\n",
              "      <td>0.990301</td>\n",
              "      <td>0.981985</td>\n",
              "      <td>0.895322</td>\n",
              "      <td>-0.554550</td>\n",
              "      <td>1.000000</td>\n",
              "    </tr>\n",
              "    <tr>\n",
              "      <th rowspan=\"6\" valign=\"top\">Desconocido</th>\n",
              "      <th>Edad</th>\n",
              "      <td>1.000000</td>\n",
              "      <td>NaN</td>\n",
              "      <td>-1.000000</td>\n",
              "      <td>-1.000000</td>\n",
              "      <td>NaN</td>\n",
              "      <td>1.000000</td>\n",
              "    </tr>\n",
              "    <tr>\n",
              "      <th>Anios_estudio</th>\n",
              "      <td>NaN</td>\n",
              "      <td>NaN</td>\n",
              "      <td>NaN</td>\n",
              "      <td>NaN</td>\n",
              "      <td>NaN</td>\n",
              "      <td>NaN</td>\n",
              "    </tr>\n",
              "    <tr>\n",
              "      <th>Ingresos</th>\n",
              "      <td>-1.000000</td>\n",
              "      <td>NaN</td>\n",
              "      <td>1.000000</td>\n",
              "      <td>1.000000</td>\n",
              "      <td>NaN</td>\n",
              "      <td>-1.000000</td>\n",
              "    </tr>\n",
              "    <tr>\n",
              "      <th>Gastos</th>\n",
              "      <td>-1.000000</td>\n",
              "      <td>NaN</td>\n",
              "      <td>1.000000</td>\n",
              "      <td>1.000000</td>\n",
              "      <td>NaN</td>\n",
              "      <td>-1.000000</td>\n",
              "    </tr>\n",
              "    <tr>\n",
              "      <th>Experiencia_lab</th>\n",
              "      <td>NaN</td>\n",
              "      <td>NaN</td>\n",
              "      <td>NaN</td>\n",
              "      <td>NaN</td>\n",
              "      <td>NaN</td>\n",
              "      <td>NaN</td>\n",
              "    </tr>\n",
              "    <tr>\n",
              "      <th>Balance</th>\n",
              "      <td>1.000000</td>\n",
              "      <td>NaN</td>\n",
              "      <td>-1.000000</td>\n",
              "      <td>-1.000000</td>\n",
              "      <td>NaN</td>\n",
              "      <td>1.000000</td>\n",
              "    </tr>\n",
              "  </tbody>\n",
              "</table>\n",
              "</div>"
            ],
            "text/plain": [
              "                                   Edad  ...   Balance\n",
              "Estado_civil                             ...          \n",
              "Soltero(a)    Edad             1.000000  ...  0.997970\n",
              "              Anios_estudio    0.783677  ...  0.742528\n",
              "              Ingresos         0.882271  ...  0.850501\n",
              "              Gastos           0.213481  ...  0.150831\n",
              "              Experiencia_lab -0.576557  ... -0.523353\n",
              "              Balance          0.997970  ...  1.000000\n",
              "Casado(a)     Edad             1.000000  ... -0.059469\n",
              "              Anios_estudio   -0.542159  ...  0.678315\n",
              "              Ingresos        -0.337870  ...  0.733511\n",
              "              Gastos          -0.436934  ...  0.151864\n",
              "              Experiencia_lab  0.851116  ... -0.454260\n",
              "              Balance         -0.059469  ...  1.000000\n",
              "Divorciado(a) Edad             1.000000  ...  0.417208\n",
              "              Anios_estudio   -0.108360  ...  0.757196\n",
              "              Ingresos         0.092862  ...  0.840186\n",
              "              Gastos          -0.136871  ...  0.590798\n",
              "              Experiencia_lab  0.515068  ... -0.476964\n",
              "              Balance          0.417208  ...  1.000000\n",
              "Viudo(a)      Edad             1.000000  ...  0.645700\n",
              "              Anios_estudio    0.745528  ...  0.990301\n",
              "              Ingresos         0.778355  ...  0.981985\n",
              "              Gastos           0.918228  ...  0.895322\n",
              "              Experiencia_lab  0.277350  ... -0.554550\n",
              "              Balance          0.645700  ...  1.000000\n",
              "Desconocido   Edad             1.000000  ...  1.000000\n",
              "              Anios_estudio         NaN  ...       NaN\n",
              "              Ingresos        -1.000000  ... -1.000000\n",
              "              Gastos          -1.000000  ... -1.000000\n",
              "              Experiencia_lab       NaN  ...       NaN\n",
              "              Balance          1.000000  ...  1.000000\n",
              "\n",
              "[30 rows x 6 columns]"
            ]
          },
          "metadata": {
            "tags": []
          },
          "execution_count": 18
        }
      ]
    },
    {
      "cell_type": "code",
      "metadata": {
        "id": "e8P-Yx_dwRyk",
        "colab_type": "code",
        "colab": {}
      },
      "source": [
        "lista = ['Edad','Anios_estudio','Experiencia_lab','Estado_civil']\n",
        "Empleados[lista].groupby('Estado_civil').boxplot()"
      ],
      "execution_count": null,
      "outputs": []
    },
    {
      "cell_type": "code",
      "metadata": {
        "id": "Y47nmC6xND2_",
        "colab_type": "code",
        "colab": {
          "base_uri": "https://localhost:8080/",
          "height": 193
        },
        "outputId": "a5d3bc2d-8d9e-4448-9592-6e266fb9617c"
      },
      "source": [
        "#Calcula la media de gastos por Sexo y Estado civil\n",
        "pd.crosstab(Empleados.Sexo, Empleados.Estado_civil, values=Empleados.Gastos,\n",
        "            aggfunc='mean', margins=True, margins_name='Total')"
      ],
      "execution_count": 21,
      "outputs": [
        {
          "output_type": "execute_result",
          "data": {
            "text/html": [
              "<div>\n",
              "<style scoped>\n",
              "    .dataframe tbody tr th:only-of-type {\n",
              "        vertical-align: middle;\n",
              "    }\n",
              "\n",
              "    .dataframe tbody tr th {\n",
              "        vertical-align: top;\n",
              "    }\n",
              "\n",
              "    .dataframe thead th {\n",
              "        text-align: right;\n",
              "    }\n",
              "</style>\n",
              "<table border=\"1\" class=\"dataframe\">\n",
              "  <thead>\n",
              "    <tr style=\"text-align: right;\">\n",
              "      <th>Estado_civil</th>\n",
              "      <th>Soltero(a)</th>\n",
              "      <th>Casado(a)</th>\n",
              "      <th>Divorciado(a)</th>\n",
              "      <th>Viudo(a)</th>\n",
              "      <th>Desconocido</th>\n",
              "      <th>Total</th>\n",
              "    </tr>\n",
              "    <tr>\n",
              "      <th>Sexo</th>\n",
              "      <th></th>\n",
              "      <th></th>\n",
              "      <th></th>\n",
              "      <th></th>\n",
              "      <th></th>\n",
              "      <th></th>\n",
              "    </tr>\n",
              "  </thead>\n",
              "  <tbody>\n",
              "    <tr>\n",
              "      <th>Hombre</th>\n",
              "      <td>5181.0</td>\n",
              "      <td>5856.833333</td>\n",
              "      <td>7810.25</td>\n",
              "      <td>7596.666667</td>\n",
              "      <td>2494.0</td>\n",
              "      <td>6208.812500</td>\n",
              "    </tr>\n",
              "    <tr>\n",
              "      <th>Mujer</th>\n",
              "      <td>3960.0</td>\n",
              "      <td>7324.714286</td>\n",
              "      <td>8121.00</td>\n",
              "      <td>NaN</td>\n",
              "      <td>NaN</td>\n",
              "      <td>6731.400000</td>\n",
              "    </tr>\n",
              "    <tr>\n",
              "      <th>Total</th>\n",
              "      <td>4367.0</td>\n",
              "      <td>6647.230769</td>\n",
              "      <td>7872.40</td>\n",
              "      <td>7596.666667</td>\n",
              "      <td>2494.0</td>\n",
              "      <td>6409.807692</td>\n",
              "    </tr>\n",
              "  </tbody>\n",
              "</table>\n",
              "</div>"
            ],
            "text/plain": [
              "Estado_civil  Soltero(a)    Casado(a)  ...  Desconocido        Total\n",
              "Sexo                                   ...                          \n",
              "Hombre            5181.0  5856.833333  ...       2494.0  6208.812500\n",
              "Mujer             3960.0  7324.714286  ...          NaN  6731.400000\n",
              "Total             4367.0  6647.230769  ...       2494.0  6409.807692\n",
              "\n",
              "[3 rows x 6 columns]"
            ]
          },
          "metadata": {
            "tags": []
          },
          "execution_count": 21
        }
      ]
    },
    {
      "cell_type": "markdown",
      "metadata": {
        "id": "v9TjSaMKcDHI",
        "colab_type": "text"
      },
      "source": [
        "# ANOVA y Prueba Chi cuadrado"
      ]
    },
    {
      "cell_type": "code",
      "metadata": {
        "id": "bUF7qpfXZZrf",
        "colab_type": "code",
        "colab": {}
      },
      "source": [
        "import scipy.stats as st"
      ],
      "execution_count": 22,
      "outputs": []
    },
    {
      "cell_type": "markdown",
      "metadata": {
        "id": "5IDOfW3WigEX",
        "colab_type": "text"
      },
      "source": [
        "**Análisis de varianza (ANOVA)**\n",
        "\n",
        "El método ANOVA a una vía (o un factor) es una prueba estadística para comparar las medias de $k$ muestras provenientes de $k$ respectivas poblaciones. La hipótesis de prueba (nula) es que las medias de las $k$ poblaciones son iguales, es decir, $H_{0}:\\mu _{1}=\\mu _{2}=\\ldots =\\mu _{k}$ contra la hipótesis alternativa de que al menos una es diferente, o sea, $H_{1}:\\exists \\left( \\mu _{i}\\neq \\mu _{j}\\right)$ para $ i\\neq j$. La cantidad de observaciones (tamaño del grupo) en cada nivel del factor es $n_{i}$ con $i=1,2,\\ldots ,k$. Las medias de cada grupo son:\n",
        "\\begin{eqnarray*}\n",
        "\\overline{X}_{i}=\\frac{\\sum_{j=1}^{n_{i}}X_{ij}}{n_{i}}\\qquad i=1,2,\\ldots,k\n",
        "\\end{eqnarray*}\n",
        "La media de medias es $\\overline{X}=\\frac{\\sum_{i=1}^{k}\\overline{X}_{i}n_{i}}{n} $ y el total de observaciones es $n=\\sum_{i=1}^{k}n_{i}$. Las sumas de cuadrados son:\n",
        "\\begin{eqnarray*}\n",
        "SCT &=&SCG+SCD \\\\\n",
        "\\sum_{i=1}^{k}\\sum_{j=1}^{n_{i}}\\left( X_{ij}-\\overline{X}\\right) ^{2}\n",
        "&=&\\sum_{i=1}^{k}\\left( \\overline{X}_{i}-\\overline{X}\\right)\n",
        "^{2}n_{i}+\\sum_{i=1}^{k}\\sum_{j=1}^{n_{i}}\\left( X_{ij}-\\overline{X}%\n",
        "_{i}\\right) ^{2}\n",
        "\\end{eqnarray*}\n",
        "Si la $H_{0}$ es verdadera, y se cumplen los supuestos de iguales varianzas, asimismo, las poblaciones son independientes, y sus distribuciones son normales, entonces el cociente\n",
        "\\begin{eqnarray*}\n",
        "F=\\frac{\\frac{SCG}{k-1}}{\\frac{SCD}{n-k}}=\\frac{MCG}{MCD}\n",
        "\\end{eqnarray*}\n",
        "sigue una distribución $F$ con $k-1$ grados de libertad para el numerador $MCG$, y $n-k$ grados de libertad para el denominador $MCD$, donde la media de cuadrados entre los grupos es $MCG=\\frac{SCG}{k-1}$ y la media de cuadrados dentro de los grupos es $MCD=\\frac{SCD}{n-k}$.\n",
        "\n",
        "La distribución $F$ está definida para el dominio $\\boldsymbol{F}>0$, y es asimétrica con sesgo a la derecha, entonces si el estadístico $F$ toma valores muy altos, la $H_{0}$ podría no ser verdadera. Para tomar una decisión, se establece una regla, que consiste en que se rechace la $H_{0}$ si el estadístico $F$ calculado es mayor al cuantil $1-\\alpha $ que se escribirá como $F_{\\alpha }$, denominado también como valor crítico. Otra forma de realizar la prueba es calculando la probabilidad $\\Pr \\left( \n",
        "\\boldsymbol{F}>F\\right) $, es decir, la probabilidad de que la variable aleatoria $\\boldsymbol{F}$ sea mayor al valor calculado $F$, tal probabilidad se conoce como p-valor o p-value. Por tanto si se cumple que $\\Pr \\left( \\boldsymbol{F}>F\\right) <\\alpha $\n",
        "para un $\\alpha $ pequeño, entonces se rechaza la $H_{0}$ dado que es muy baja la probabilidad de que los posibles valores $\\boldsymbol{F}$ sean mayores a $F$, lo que quiere decir que la distribución $F$ bajo $H_{0}$ no debe ser la verdadera. Por supuesto la $H_{0}$ no se rechaza si $\\Pr \\left( \\boldsymbol{F}>F\\right) \\geq \\alpha $."
      ]
    },
    {
      "cell_type": "code",
      "metadata": {
        "id": "m_ha8rlWHrfM",
        "colab_type": "code",
        "colab": {
          "base_uri": "https://localhost:8080/",
          "height": 34
        },
        "outputId": "4a5bc87f-9598-4938-8227-56a230aea7ec"
      },
      "source": [
        "# Se prueba la hipótesis de que la media de ingresos de los casados es igual a la\n",
        "# media de ingresos de los divorciados y de los viudos\n",
        "anova=st.f_oneway(Empleados.Ingresos[Empleados.Estado_civil=='Casado(a)'],\n",
        "                  Empleados.Ingresos[Empleados.Estado_civil=='Divorciado(a)'],\n",
        "                  Empleados.Ingresos[Empleados.Estado_civil=='Viudo(a)'],)\n",
        "anova[1] #acceder al p-valor\n",
        "# No se rechaza la hipótesis de igualdad"
      ],
      "execution_count": 26,
      "outputs": [
        {
          "output_type": "execute_result",
          "data": {
            "text/plain": [
              "0.16660925838363422"
            ]
          },
          "metadata": {
            "tags": []
          },
          "execution_count": 26
        }
      ]
    },
    {
      "cell_type": "markdown",
      "metadata": {
        "id": "9YiWcXUArrDQ",
        "colab_type": "text"
      },
      "source": [
        "**Prueba Chi cuadrado**\n",
        "\n",
        "La prueba chi cuadrado para tablas de doble entrada (tablas de contingencia) docima la hipótesis que las dos variables categóricas son independientes. La hipótesis de nula es que la frecuencia conjunta de cada par de categorías es igual al producto de las frecuencias marginales respectivas, es decir, $H_{0}:\\pi_{ij}=\\pi_{i.}\\pi_{.j}$ contra la hipótesis alternativa de que son diferentes, o sea, $H_{1}:\\pi_{ij}\\neq \\pi_{i.}\\pi_{.j}$. Entonces el estadístico de prueba es:\n",
        "\\begin{eqnarray*}\n",
        "\\chi ^{2} &=&\\sum_{j=1}^{h}\\sum_{i=1}^{k}\\frac{\\left( n_{ij}-e_{ij}\\right)^{2}}{e_{ij}}\n",
        "\\end{eqnarray*}\n",
        "donde $n_{ij}$ es la frecuencia conjunta observada y $e_{ij}$ es la frecuencia esperada que se calcula como\n",
        "\\begin{eqnarray*}\n",
        "e_{ij} &=&\\frac{n_{i.}n_{.j}}{n}\n",
        "\\end{eqnarray*}\n",
        "El estadístico $\\chi^{2}$ sigue asintóticamente una distribución chi cuadrado con $\\left( k-1\\right)\\left( h-1\\right)$ grados de libertad. Si $\\chi^{2}$ toma valores altos, entonces se rechaza la hipótesis nula. Para una decisión basada en un umbral se puede utilizar el p-valor de la prueba que generalmente se fija en 0.05. Por tanto si el p-valor es menor a 0.05 entonces se rechaza la hipótesis de que las variables son independientes, caso contrario no se rechaza la independencia."
      ]
    },
    {
      "cell_type": "code",
      "metadata": {
        "id": "ULYkHHP9Lf2n",
        "colab_type": "code",
        "colab": {
          "base_uri": "https://localhost:8080/",
          "height": 34
        },
        "outputId": "95073008-9a15-45d2-aaf5-0ee192b8d03e"
      },
      "source": [
        "ji2=st.chi2_contingency(pd.crosstab(Empleados.Estado_civil,\n",
        "                                    Empleados.Satisfaccion_trabajo))\n",
        "ji2[1] #accede al p-valor del estadístico chi2"
      ],
      "execution_count": 27,
      "outputs": [
        {
          "output_type": "execute_result",
          "data": {
            "text/plain": [
              "0.016498126998304875"
            ]
          },
          "metadata": {
            "tags": []
          },
          "execution_count": 27
        }
      ]
    },
    {
      "cell_type": "markdown",
      "metadata": {
        "id": "xNOHQFYFbnuh",
        "colab_type": "text"
      },
      "source": [
        "# Regresión lineal simple"
      ]
    },
    {
      "cell_type": "code",
      "metadata": {
        "id": "AXQaaj7ZIoC7",
        "colab_type": "code",
        "colab": {}
      },
      "source": [
        "from statsmodels.formula.api import ols\n",
        "modelo1=ols('Gastos~Ingresos',data=Empleados).fit()\n",
        "modelo1.rsquared\n",
        "modelo1.mse_resid\n",
        "modelo1.summary()\n",
        "modelo1.predict(Empleados.Ingresos)\n",
        "modelo1.predict({'Ingresos':np.arange(100,500,50)})"
      ],
      "execution_count": null,
      "outputs": []
    }
  ]
}