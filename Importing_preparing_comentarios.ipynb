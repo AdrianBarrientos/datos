{
  "nbformat": 4,
  "nbformat_minor": 0,
  "metadata": {
    "colab": {
      "name": "Importing_preparing.ipynb",
      "provenance": [],
      "collapsed_sections": [
        "Fu_eQNk7WYja",
        "d602wduwUpiG",
        "QgyE7Gt1jq4q",
        "E1sTQD7ljymR",
        "Oyg2KKjK41qo",
        "th2E6b-x5Xaj",
        "HfUdETfc6S06"
      ],
      "authorship_tag": "ABX9TyNBZyCfUp/hMmrqCPD801vv",
      "include_colab_link": true
    },
    "kernelspec": {
      "name": "python3",
      "display_name": "Python 3"
    }
  },
  "cells": [
    {
      "cell_type": "markdown",
      "metadata": {
        "id": "view-in-github",
        "colab_type": "text"
      },
      "source": [
        "<a href=\"https://colab.research.google.com/github/AlcidesOxa/datos/blob/master/Importing_preparing_comentarios.ipynb\" target=\"_parent\"><img src=\"https://colab.research.google.com/assets/colab-badge.svg\" alt=\"Open In Colab\"/></a>"
      ]
    },
    {
      "cell_type": "markdown",
      "metadata": {
        "id": "JxBVEXeIWmFf",
        "colab_type": "text"
      },
      "source": [
        "# Paquetes para ciencia de datos"
      ]
    },
    {
      "cell_type": "code",
      "metadata": {
        "id": "H5RpQ_HsPXrk",
        "colab_type": "code",
        "colab": {}
      },
      "source": [
        "import pandas as pd\n",
        "import numpy as np"
      ],
      "execution_count": 1,
      "outputs": []
    },
    {
      "cell_type": "markdown",
      "metadata": {
        "id": "Fu_eQNk7WYja",
        "colab_type": "text"
      },
      "source": [
        "# Importando datos"
      ]
    },
    {
      "cell_type": "code",
      "metadata": {
        "id": "R3kLFo75PbQa",
        "colab_type": "code",
        "colab": {}
      },
      "source": [
        "# importar datos en formato csv\n",
        "Empleados=pd.read_csv(\"https://raw.githubusercontent.com/AlcidesOxa/datos/master/ejemplo.csv\",sep=';',encoding=\"ISO-8859-1\")\n",
        "Empleados.head()\n",
        "Empleados.tail()"
      ],
      "execution_count": null,
      "outputs": []
    },
    {
      "cell_type": "code",
      "metadata": {
        "id": "p5igIr2EUGAJ",
        "colab_type": "code",
        "colab": {}
      },
      "source": [
        "# muestra los nombres de las variables del Dataframe (Tabla de datos) Empleados\n",
        "Empleados.columns.values\n",
        "# diccionario para cambiar nombres de las variables\n",
        "cambio={'Años estudio':'Anios_estudio', 'Estado Civil':'Estado_civil', \n",
        "        'Satisfacción Trabajo':'Satisfaccion_trabajo', 'Fecha contrato':'Fecha_contrato'}\n",
        "# Renombra las variables del dataframe \"Empleados\" utilizando el diccionario \"cambio\"\n",
        "Empleados.rename(columns=cambio,inplace=True)\n",
        "Empleados.head()"
      ],
      "execution_count": null,
      "outputs": []
    },
    {
      "cell_type": "markdown",
      "metadata": {
        "id": "oaXoMXirXY20",
        "colab_type": "text"
      },
      "source": [
        "# Identificación y manejo de datos perdidos"
      ]
    },
    {
      "cell_type": "code",
      "metadata": {
        "id": "CWAlVcMyriem",
        "colab_type": "code",
        "colab": {}
      },
      "source": [
        "# Dimensiones del dataframe\n",
        "Empleados.shape\n",
        "# Eliminar datos perdidos por filas o casos\n",
        "Empleados.dropna()\n",
        "# Eliminar datos perdidos por variables o columnas\n",
        "Empleados.dropna(axis=1)\n",
        "# Muestra las dimensiones de los 3 dataframes anteriores\n",
        "print(Empleados.shape,Empleados.dropna().shape,Empleados.dropna(axis=1).shape)"
      ],
      "execution_count": null,
      "outputs": []
    },
    {
      "cell_type": "code",
      "metadata": {
        "id": "CSLoIKbvXhkW",
        "colab_type": "code",
        "colab": {}
      },
      "source": [
        "# Dataframe de verdaderos y falsos, verdadero significa que es dato perdido y falso lo contrario\n",
        "Empleados.isnull()\n",
        "# Cantidad de datos perdidos por columnas\n",
        "Empleados.isnull().sum()\n",
        "# Total de datos por columna\n",
        "Empleados.isnull().count()\n",
        "# Cociente de datos perdidos sobre total por columna\n",
        "Empleados.isnull().sum()/Empleados.isnull().count()\n",
        "# ordenando en forma descendente\n",
        "(Empleados.isnull().sum()/Empleados.isnull().count()).sort_values(ascending = False)\n",
        "# Proporciones de datos perdidos por fila o caso (axis=1)\n",
        "(Empleados.isnull().sum(axis=1)/Empleados.isnull().count(axis=1)).sort_values(ascending = False)"
      ],
      "execution_count": null,
      "outputs": []
    },
    {
      "cell_type": "code",
      "metadata": {
        "id": "6VwMBQr7sBty",
        "colab_type": "code",
        "colab": {}
      },
      "source": [
        "# lista de empleados a eliminar\n",
        "casosborrar=[3,5,8]\n",
        "# Elimina los empleados con muchos datos perdidos\n",
        "Empleados=Empleados.drop(casosborrar)\n",
        "# lista de variables a eliminar\n",
        "varborrar=['Faltas','Permisos']\n",
        "# Elimina las variables con muchos datos perdidos, axis=1 es para eliminar por columnas\n",
        "Empleados=Empleados.drop(varborrar,axis=1)\n",
        "Empleados.columns\n",
        "Empleados.shape"
      ],
      "execution_count": null,
      "outputs": []
    },
    {
      "cell_type": "code",
      "metadata": {
        "id": "cfXp0xi7sFAf",
        "colab_type": "code",
        "colab": {}
      },
      "source": [
        "# cantidad de perdidos por filas\n",
        "Empleados.isnull().sum(axis=1)\n",
        "# condición de que la cantidad de perdidos por fila es distinta de cero\n",
        "cond=Empleados.isnull().sum(axis=1) != 0\n",
        "Empleados[cond]"
      ],
      "execution_count": null,
      "outputs": []
    },
    {
      "cell_type": "code",
      "metadata": {
        "id": "fKuA4vhHreOS",
        "colab_type": "code",
        "colab": {}
      },
      "source": [
        "# lista de variables categóricas o cualitativas\n",
        "varcategoricas=['Sexo','Estado_civil','Satisfaccion_trabajo']\n",
        "# rellenar los datos perdidos de las variables cualitativas con \"Desconocido\"\n",
        "Empleados[varcategoricas]=Empleados[varcategoricas].fillna('Desconocido')"
      ],
      "execution_count": null,
      "outputs": []
    },
    {
      "cell_type": "markdown",
      "metadata": {
        "id": "d602wduwUpiG",
        "colab_type": "text"
      },
      "source": [
        "# Formateando datos"
      ]
    },
    {
      "cell_type": "code",
      "metadata": {
        "id": "H55ochzoRYEU",
        "colab_type": "code",
        "colab": {}
      },
      "source": [
        "#Accediendo a la variable \"Nombres\"\n",
        "Empleados.Nombres\n",
        "#Accede al primer carácter de la variable\n",
        "Empleados.Nombres.str[0]\n",
        "#Accede al segundo carácter de la variable\n",
        "Empleados.Nombres.str[1]\n",
        "#Accede a los 3 primeros caracteres de la variable\n",
        "Empleados.Nombres.str.slice(3)\n",
        "#Concatenando strings (cadenas de caracteres) con \"+\" y lo guardo en \"cod\"\n",
        "cod=Empleados.Nombres.str[0]+Empleados.Apellidos.str[0]+Empleados.Fecha_contrato.str.slice(-4)\n",
        "#Establece el index en el dataframe \"Empleados\"\n",
        "Empleados.set_index(cod,inplace=True)\n",
        "#Valores del index\n",
        "Empleados.index.values\n",
        "#otro index\n",
        "Empleados.set_index([Empleados.Nombres,Empleados.Apellidos])"
      ],
      "execution_count": null,
      "outputs": []
    },
    {
      "cell_type": "code",
      "metadata": {
        "id": "vRm4ExjIQ055",
        "colab_type": "code",
        "colab": {}
      },
      "source": [
        "# Los tipos de variables\n",
        "Empleados.dtypes\n",
        "Empleados.info()"
      ],
      "execution_count": null,
      "outputs": []
    },
    {
      "cell_type": "code",
      "metadata": {
        "id": "j3AMZVKJyg4b",
        "colab_type": "code",
        "colab": {}
      },
      "source": [
        "#Cambia el tipo de variables de \"varcategoricas\", de \"object\" a \"category\"\n",
        "Empleados[varcategoricas]=Empleados[varcategoricas].astype('category')\n",
        "#muestra el tipo de variable\n",
        "Empleados.Sexo.dtype\n",
        "Empleados.Estado_civil.dtype\n",
        "#Cambia la variable Fecha_contrato, de \"object\" a \"datetime\"\n",
        "Empleados['Fecha_contrato']=pd.to_datetime(Empleados.Fecha_contrato)"
      ],
      "execution_count": null,
      "outputs": []
    },
    {
      "cell_type": "code",
      "metadata": {
        "id": "TRPbqLNF9_vm",
        "colab_type": "code",
        "colab": {}
      },
      "source": [
        "#Acceder a los valores de las categorías\n",
        "Empleados.Sexo.cat.categories.values\n",
        "#Accediendo a elementos\n",
        "Empleados.Estado_civil.cat.categories.values[0]\n",
        "Empleados.Estado_civil.cat.categories.values[2]\n",
        "Empleados.Estado_civil.cat.categories.values[[0,2]]\n",
        "Empleados.Estado_civil.cat.categories.values[[3,1]]\n",
        "#muestra en el orden buscado\n",
        "Empleados.Estado_civil.cat.categories.values[[3,0,2,4,1]]\n",
        "#lo convierte en lista\n",
        "Empleados.Estado_civil.cat.categories.values[[3,0,2,4,1]].tolist()\n",
        "#guarda la lista en orden_ec\n",
        "orden_ec=Empleados.Estado_civil.cat.categories.values[[3,0,2,4,1]].tolist()\n",
        "#guarda la lista de satisfaccion en orden_st\n",
        "orden_st=Empleados.Satisfaccion_trabajo.cat.categories.values[[2,3,0,1]].tolist()\n",
        "#orden_st=['Mal', 'Regular', 'Bien', 'Desconocido']\n",
        "#cambia el orden según la lista orden_ec\n",
        "Empleados.Estado_civil.cat.reorder_categories(orden_ec)\n",
        "#Guardar el orden nuevo\n",
        "Empleados.Estado_civil=Empleados.Estado_civil.cat.reorder_categories(orden_ec)\n",
        "Empleados['Estado_civil']=Empleados.Estado_civil.cat.reorder_categories(orden_ec)\n",
        "#Guarda el nuevo orden de categorías de la variable satisfacción\n",
        "Empleados['Satisfaccion_trabajo']=Empleados.Satisfaccion_trabajo.cat.reorder_categories(orden_st)\n",
        "Empleados.Satisfaccion_trabajo.cat.categories\n",
        "#Renombra las categorías\n",
        "Empleados['Satisfaccion_trabajo']=Empleados.Satisfaccion_trabajo.cat.rename_categories(\n",
        "    ['Insatisfecho(a)','Neutral','Satisfecho(a)','Desconocido'])"
      ],
      "execution_count": null,
      "outputs": []
    },
    {
      "cell_type": "markdown",
      "metadata": {
        "id": "QgyE7Gt1jq4q",
        "colab_type": "text"
      },
      "source": [
        "# Localización de datos"
      ]
    },
    {
      "cell_type": "code",
      "metadata": {
        "id": "3M0KCzEvX4Vz",
        "colab_type": "code",
        "colab": {}
      },
      "source": [
        "#Lista de variables, subconjunto de variables del dataframe\n",
        "variables=['Apellidos','Nombres','Edad','Estado_civil','Fecha_contrato']\n",
        "Empleados[variables] #dataframe con las variables seleccionadas\n",
        "Empleados.loc[:,variables] #lo mismo que el anterior\n",
        "#Lista de casos de algún interés particular\n",
        "casos=['VC2009','MF2009','PG2013','AM2015']\n",
        "#Selecciona esos casos de interés\n",
        "Empleados.loc[casos,:]\n",
        "#Selecciona esos casos de interés y las variables de interés\n",
        "Empleados.loc[casos,variables]\n",
        "#Selecciona casos consecutivos y variables consecutivas\n",
        "Empleados.loc['VC2009':'JG2011','Sexo':'Gastos']\n",
        "#combinar\n",
        "Empleados.loc[casos,'Anios_estudio':'Gastos']"
      ],
      "execution_count": null,
      "outputs": []
    },
    {
      "cell_type": "code",
      "metadata": {
        "id": "le_6TPlzR-cZ",
        "colab_type": "code",
        "colab": {}
      },
      "source": [
        "#selecciona casos desde el 4 al 13 y variables de la 4ta a la 6ta\n",
        "Empleados.iloc[4:14,4:7]\n",
        "casos=[3,6,11,22] #lista de id's de casos\n",
        "variables=[1,4,8] #lista de id's de variables\n",
        "#selecciona datos de aceurdo a las listas anteriores\n",
        "Empleados.iloc[casos,variables]\n",
        "#selecciona todas las filas\n",
        "Empleados.iloc[:,variables]\n",
        "#selecciona todas las variables\n",
        "Empleados.iloc[casos,:]"
      ],
      "execution_count": null,
      "outputs": []
    },
    {
      "cell_type": "markdown",
      "metadata": {
        "id": "E1sTQD7ljymR",
        "colab_type": "text"
      },
      "source": [
        "# Selección de datos"
      ]
    },
    {
      "cell_type": "code",
      "metadata": {
        "id": "63nTCP2xT6vb",
        "colab_type": "code",
        "colab": {}
      },
      "source": [
        "#Selecciona a todas las mujeres del dataframe\n",
        "Empleados[Empleados.Sexo=='Mujer']\n",
        "#Selecciona a todas las mujeres solteras del dataframe\n",
        "Empleados[(Empleados.Sexo=='Mujer') & (Empleados.Estado_civil=='Soltero(a)')]\n",
        "#guarda en condicion1 la selección de mujeres solteras o cualquier divorciado\n",
        "condicion1=(Empleados.Sexo=='Mujer') & (Empleados.Estado_civil=='Soltero(a)') | (Empleados.Estado_civil=='Divorciado(a)')\n",
        "#ejecuta la selección con la condicion1\n",
        "Empleados[condicion1]\n",
        "#guarda en condicion2 la selección de mujeres que sean solteras o divorciadas\n",
        "condicion2=(Empleados.Sexo=='Mujer') & ((Empleados.Estado_civil=='Soltero(a)') | (Empleados.Estado_civil=='Divorciado(a)'))\n",
        "Empleados[condicion2]\n",
        "#guarda en condicion3 la selección de menores de 40 años y cuya fecha de contrato es posterior a 2015-01-01\n",
        "condicion3=(Empleados.Edad<40) & (Empleados.Fecha_contrato>'2015-01-01')\n",
        "Empleados[condicion3]\n",
        "#guarda en condicion4 la selección de menores de 40 años y cuya fecha de contrato es anterior a 2015-01-01\n",
        "condicion4=(Empleados.Edad<40) & ~(Empleados.Fecha_contrato>'2015-01-01')\n",
        "Empleados[condicion4]\n",
        "#más complejo\n",
        "Empleados[condicion1 | condicion4]"
      ],
      "execution_count": null,
      "outputs": []
    },
    {
      "cell_type": "markdown",
      "metadata": {
        "id": "3kh-Yy1sEGXs",
        "colab_type": "text"
      },
      "source": [
        "# Transformación y eliminación de variables"
      ]
    },
    {
      "cell_type": "code",
      "metadata": {
        "id": "aNr0wl2FlfB6",
        "colab_type": "code",
        "colab": {}
      },
      "source": [
        "Empleados['Experiencia_lab']=Empleados.Edad-Empleados.Anios_estudio-5\n",
        "Empleados['Balance']=Empleados.Ingresos-Empleados.Gastos\n",
        "Empleados['log_exp']=np.log(Empleados.Edad)/np.exp(Empleados.Anios_estudio)\n",
        "Empleados['log_exp2']=np.log(Empleados.Edad)-np.exp(Empleados.Anios_estudio)\n",
        "aborrar=['log_exp','log_exp2']\n",
        "Empleados=Empleados.drop(aborrar,axis=1)"
      ],
      "execution_count": null,
      "outputs": []
    },
    {
      "cell_type": "markdown",
      "metadata": {
        "id": "Oyg2KKjK41qo",
        "colab_type": "text"
      },
      "source": [
        "# Normalizaciones"
      ]
    },
    {
      "cell_type": "code",
      "metadata": {
        "id": "TzWe1-DJ2FoG",
        "colab_type": "code",
        "colab": {}
      },
      "source": [
        "from sklearn.preprocessing import StandardScaler\n",
        "from sklearn.preprocessing import MinMaxScaler"
      ],
      "execution_count": null,
      "outputs": []
    },
    {
      "cell_type": "code",
      "metadata": {
        "id": "TmvO6oi11_dk",
        "colab_type": "code",
        "colab": {}
      },
      "source": [
        "SS=StandardScaler()\n",
        "MM=MinMaxScaler()\n",
        "varcuantis=['Edad','Anios_estudio','Ingresos','Gastos','Experiencia_lab','Balance']\n",
        "SS.fit_transform(Empleados[varcuantis])\n",
        "MM.fit_transform(Empleados[varcuantis])\n",
        "(Empleados[varcuantis]-Empleados[varcuantis].mean())/Empleados[varcuantis].std()\n",
        "(Empleados[varcuantis]-Empleados[varcuantis].min())/(Empleados[varcuantis].max()-Empleados[varcuantis].min())"
      ],
      "execution_count": null,
      "outputs": []
    },
    {
      "cell_type": "markdown",
      "metadata": {
        "id": "th2E6b-x5Xaj",
        "colab_type": "text"
      },
      "source": [
        "# Binning"
      ]
    },
    {
      "cell_type": "code",
      "metadata": {
        "id": "kCYz7U0t4I9S",
        "colab_type": "code",
        "colab": {}
      },
      "source": [
        "ing_min=int(Empleados.Ingresos.min()-1)\n",
        "ing_max=int(Empleados.Ingresos.max()+2)\n",
        "ing_ampl=int((ing_max-ing_min)/10)\n",
        "intervalos = [\"{0} - {1}\".format(i+1,i+ing_ampl) for i in range(ing_min,ing_max,ing_ampl)]\n",
        "Empleados['Ingreso_agrup']=pd.cut(Empleados.Ingresos,range(ing_min,ing_max+ing_ampl,ing_ampl),labels=intervalos)\n",
        "Empleados[['Ingresos','Ingreso_agrup']]"
      ],
      "execution_count": null,
      "outputs": []
    },
    {
      "cell_type": "markdown",
      "metadata": {
        "id": "HfUdETfc6S06",
        "colab_type": "text"
      },
      "source": [
        "# Variables indicadoras"
      ]
    },
    {
      "cell_type": "code",
      "metadata": {
        "id": "m1DchxPg6XBp",
        "colab_type": "code",
        "colab": {}
      },
      "source": [
        "pd.get_dummies(Empleados.Estado_civil)\n",
        "pd.get_dummies(Empleados.Estado_civil,dummy_na=True)\n",
        "pd.get_dummies(Empleados[varcategoricas],prefix=['SX_','EC_','SAT_'])"
      ],
      "execution_count": null,
      "outputs": []
    }
  ]
}