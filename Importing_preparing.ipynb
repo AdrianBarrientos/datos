{
  "nbformat": 4,
  "nbformat_minor": 0,
  "metadata": {
    "colab": {
      "name": "Importing_preparing.ipynb",
      "provenance": [],
      "collapsed_sections": [
        "JxBVEXeIWmFf",
        "Fu_eQNk7WYja",
        "oaXoMXirXY20",
        "d602wduwUpiG",
        "QgyE7Gt1jq4q",
        "E1sTQD7ljymR",
        "Oyg2KKjK41qo",
        "th2E6b-x5Xaj",
        "HfUdETfc6S06"
      ],
      "authorship_tag": "ABX9TyNBkJze8fktLJqt+iGPqdig",
      "include_colab_link": true
    },
    "kernelspec": {
      "name": "python3",
      "display_name": "Python 3"
    }
  },
  "cells": [
    {
      "cell_type": "markdown",
      "metadata": {
        "id": "view-in-github",
        "colab_type": "text"
      },
      "source": [
        "<a href=\"https://colab.research.google.com/github/AlcidesOxa/datos/blob/master/Importing_preparing.ipynb\" target=\"_parent\"><img src=\"https://colab.research.google.com/assets/colab-badge.svg\" alt=\"Open In Colab\"/></a>"
      ]
    },
    {
      "cell_type": "markdown",
      "metadata": {
        "id": "JxBVEXeIWmFf",
        "colab_type": "text"
      },
      "source": [
        "# Paquetes para ciencia de datos"
      ]
    },
    {
      "cell_type": "code",
      "metadata": {
        "id": "H5RpQ_HsPXrk",
        "colab_type": "code",
        "colab": {}
      },
      "source": [
        "import pandas as pd\n",
        "import numpy as np"
      ],
      "execution_count": null,
      "outputs": []
    },
    {
      "cell_type": "markdown",
      "metadata": {
        "id": "Fu_eQNk7WYja",
        "colab_type": "text"
      },
      "source": [
        "# Importando datos"
      ]
    },
    {
      "cell_type": "code",
      "metadata": {
        "id": "R3kLFo75PbQa",
        "colab_type": "code",
        "colab": {}
      },
      "source": [
        "Empleados=pd.read_csv(\"https://raw.githubusercontent.com/AlcidesOxa/datos/master/ejemplo.csv\",sep=';',encoding=\"ISO-8859-1\")\n",
        "Empleados.head()\n",
        "Empleados.tail()"
      ],
      "execution_count": null,
      "outputs": []
    },
    {
      "cell_type": "code",
      "metadata": {
        "id": "p5igIr2EUGAJ",
        "colab_type": "code",
        "colab": {}
      },
      "source": [
        "Empleados.columns.values\n",
        "cambio={'Años estudio':'Anios_estudio', 'Estado Civil':'Estado_civil', 'Satisfacción Trabajo':'Satisfaccion_trabajo', 'Fecha contrato':'Fecha_contrato'}\n",
        "Empleados.rename(columns=cambio,inplace=True)"
      ],
      "execution_count": null,
      "outputs": []
    },
    {
      "cell_type": "markdown",
      "metadata": {
        "id": "oaXoMXirXY20",
        "colab_type": "text"
      },
      "source": [
        "# Identificación y manejo de datos perdidos"
      ]
    },
    {
      "cell_type": "code",
      "metadata": {
        "id": "CWAlVcMyriem",
        "colab_type": "code",
        "colab": {}
      },
      "source": [
        "print(Empleados.shape,Empleados.dropna().shape,Empleados.dropna(axis=1).shape)"
      ],
      "execution_count": null,
      "outputs": []
    },
    {
      "cell_type": "code",
      "metadata": {
        "id": "CSLoIKbvXhkW",
        "colab_type": "code",
        "colab": {}
      },
      "source": [
        "(Empleados.isnull().sum()/Empleados.isnull().count()).sort_values(ascending = False)\n",
        "(Empleados.isnull().sum(axis=1)/Empleados.isnull().count(axis=1)).sort_values(ascending = False)"
      ],
      "execution_count": null,
      "outputs": []
    },
    {
      "cell_type": "code",
      "metadata": {
        "id": "6VwMBQr7sBty",
        "colab_type": "code",
        "colab": {}
      },
      "source": [
        "casosborrar=[3,5,8]\n",
        "Empleados=Empleados.drop(casosborrar)\n",
        "varborrar=['Faltas','Permisos']\n",
        "Empleados=Empleados.drop(varborrar,axis=1)"
      ],
      "execution_count": null,
      "outputs": []
    },
    {
      "cell_type": "code",
      "metadata": {
        "id": "cfXp0xi7sFAf",
        "colab_type": "code",
        "colab": {}
      },
      "source": [
        "Empleados[Empleados.isnull().sum(axis=1)!=0]"
      ],
      "execution_count": null,
      "outputs": []
    },
    {
      "cell_type": "code",
      "metadata": {
        "id": "fKuA4vhHreOS",
        "colab_type": "code",
        "colab": {}
      },
      "source": [
        "varcategoricas=['Sexo','Estado_civil','Satisfaccion_trabajo']\n",
        "Empleados[varcategoricas]=Empleados[varcategoricas].fillna('Desconocido')"
      ],
      "execution_count": null,
      "outputs": []
    },
    {
      "cell_type": "markdown",
      "metadata": {
        "id": "d602wduwUpiG",
        "colab_type": "text"
      },
      "source": [
        "# Formateando datos"
      ]
    },
    {
      "cell_type": "code",
      "metadata": {
        "id": "H55ochzoRYEU",
        "colab_type": "code",
        "colab": {}
      },
      "source": [
        "cod=Empleados.Nombres.str[0]+Empleados.Apellidos.str[0]+Empleados.Fecha_contrato.str.slice(-4)\n",
        "Empleados.set_index(cod,inplace=True)\n",
        "Empleados.index.values"
      ],
      "execution_count": null,
      "outputs": []
    },
    {
      "cell_type": "code",
      "metadata": {
        "id": "vRm4ExjIQ055",
        "colab_type": "code",
        "colab": {}
      },
      "source": [
        "Empleados.dtypes\n",
        "Empleados.info()"
      ],
      "execution_count": null,
      "outputs": []
    },
    {
      "cell_type": "code",
      "metadata": {
        "id": "j3AMZVKJyg4b",
        "colab_type": "code",
        "colab": {}
      },
      "source": [
        "Empleados[varcategoricas]=Empleados[varcategoricas].astype('category')\n",
        "Empleados['Fecha_contrato']=pd.to_datetime(Empleados.Fecha_contrato)"
      ],
      "execution_count": null,
      "outputs": []
    },
    {
      "cell_type": "code",
      "metadata": {
        "id": "TRPbqLNF9_vm",
        "colab_type": "code",
        "colab": {}
      },
      "source": [
        "Empleados.Sexo.cat.categories.values\n",
        "orden_ec=Empleados.Estado_civil.cat.categories.values[[3,0,2,4,1]].tolist()\n",
        "orden_st=Empleados.Satisfaccion_trabajo.cat.categories.values[[2,3,0,1]].tolist()\n",
        "Empleados['Estado_civil']=Empleados.Estado_civil.cat.reorder_categories(orden_ec)\n",
        "Empleados['Satisfaccion_trabajo']=Empleados.Satisfaccion_trabajo.cat.reorder_categories(orden_st)\n",
        "Empleados['Satisfaccion_trabajo']=Empleados.Satisfaccion_trabajo.cat.rename_categories(\n",
        "    ['Insatisfecho(a)','Neutral','Satisfecho(a)','Desconocido'])"
      ],
      "execution_count": null,
      "outputs": []
    },
    {
      "cell_type": "markdown",
      "metadata": {
        "id": "QgyE7Gt1jq4q",
        "colab_type": "text"
      },
      "source": [
        "# Localización de datos"
      ]
    },
    {
      "cell_type": "code",
      "metadata": {
        "id": "3M0KCzEvX4Vz",
        "colab_type": "code",
        "colab": {}
      },
      "source": [
        "variables=['Apellidos','Nombres','Edad','Estado_civil','Fecha_contrato']\n",
        "Empleados[variables]\n",
        "Empleados.loc[:,variables]\n",
        "casos=['VC2009','MF2009','PG2013','AM2015']\n",
        "Empleados.loc[casos,:]\n",
        "Empleados.loc[casos,variables]\n",
        "Empleados.loc['VC2009':'JG2011','Sexo':'Gastos']"
      ],
      "execution_count": null,
      "outputs": []
    },
    {
      "cell_type": "code",
      "metadata": {
        "id": "le_6TPlzR-cZ",
        "colab_type": "code",
        "colab": {}
      },
      "source": [
        "Empleados.iloc[4:14,4:7]\n",
        "casos=[3,6,11,22]\n",
        "variables=[1,4,8]\n",
        "Empleados.iloc[casos,variables]\n",
        "Empleados.iloc[:,variables]\n",
        "Empleados.iloc[casos,:]"
      ],
      "execution_count": null,
      "outputs": []
    },
    {
      "cell_type": "markdown",
      "metadata": {
        "id": "E1sTQD7ljymR",
        "colab_type": "text"
      },
      "source": [
        "# Selección de datos"
      ]
    },
    {
      "cell_type": "code",
      "metadata": {
        "id": "63nTCP2xT6vb",
        "colab_type": "code",
        "colab": {}
      },
      "source": [
        "Empleados[Empleados.Sexo=='Mujer']\n",
        "Empleados[(Empleados.Sexo=='Mujer') & (Empleados.Estado_civil=='Soltero(a)')]\n",
        "condicion1=(Empleados.Sexo=='Mujer') & (Empleados.Estado_civil=='Soltero(a)') | (Empleados.Estado_civil=='Divorciado(a)')\n",
        "Empleados[condicion1]\n",
        "condicion2=(Empleados.Sexo=='Mujer') & ((Empleados.Estado_civil=='Soltero(a)') | (Empleados.Estado_civil=='Divorciado(a)'))\n",
        "Empleados[condicion2]\n",
        "condicion3=(Empleados.Edad<40) & (Empleados.Fecha_contrato>'2015-01-01')\n",
        "Empleados[condicion3]\n",
        "condicion4=(Empleados.Edad<40) & ~(Empleados.Fecha_contrato>'2015-01-01')\n",
        "Empleados[condicion4]\n",
        "Empleados[condicion1 | condicion4]"
      ],
      "execution_count": null,
      "outputs": []
    },
    {
      "cell_type": "markdown",
      "metadata": {
        "id": "3kh-Yy1sEGXs",
        "colab_type": "text"
      },
      "source": [
        "# Transformación y eliminación de variables"
      ]
    },
    {
      "cell_type": "code",
      "metadata": {
        "id": "aNr0wl2FlfB6",
        "colab_type": "code",
        "colab": {}
      },
      "source": [
        "Empleados['Experiencia_lab']=Empleados.Edad-Empleados.Anios_estudio-5\n",
        "Empleados['Balance']=Empleados.Ingresos-Empleados.Gastos\n",
        "Empleados['log_exp']=np.log(Empleados.Edad)/np.exp(Empleados.Anios_estudio)\n",
        "Empleados['log_exp2']=np.log(Empleados.Edad)-np.exp(Empleados.Anios_estudio)\n",
        "aborrar=['log_exp','log_exp2']\n",
        "Empleados=Empleados.drop(aborrar,axis=1)"
      ],
      "execution_count": null,
      "outputs": []
    },
    {
      "cell_type": "markdown",
      "metadata": {
        "id": "Oyg2KKjK41qo",
        "colab_type": "text"
      },
      "source": [
        "# Normalizaciones"
      ]
    },
    {
      "cell_type": "code",
      "metadata": {
        "id": "TzWe1-DJ2FoG",
        "colab_type": "code",
        "colab": {}
      },
      "source": [
        "from sklearn.preprocessing import StandardScaler\n",
        "from sklearn.preprocessing import MinMaxScaler"
      ],
      "execution_count": null,
      "outputs": []
    },
    {
      "cell_type": "code",
      "metadata": {
        "id": "TmvO6oi11_dk",
        "colab_type": "code",
        "colab": {}
      },
      "source": [
        "SS=StandardScaler()\n",
        "MM=MinMaxScaler()\n",
        "varcuantis=['Edad','Anios_estudio','Ingresos','Gastos','Experiencia_lab','Balance']\n",
        "SS.fit_transform(Empleados[varcuantis])\n",
        "MM.fit_transform(Empleados[varcuantis])\n",
        "(Empleados[varcuantis]-Empleados[varcuantis].mean())/Empleados[varcuantis].std()\n",
        "(Empleados[varcuantis]-Empleados[varcuantis].min())/(Empleados[varcuantis].max()-Empleados[varcuantis].min())"
      ],
      "execution_count": null,
      "outputs": []
    },
    {
      "cell_type": "markdown",
      "metadata": {
        "id": "th2E6b-x5Xaj",
        "colab_type": "text"
      },
      "source": [
        "# Binning"
      ]
    },
    {
      "cell_type": "code",
      "metadata": {
        "id": "kCYz7U0t4I9S",
        "colab_type": "code",
        "colab": {}
      },
      "source": [
        "ing_min=int(Empleados.Ingresos.min()-1)\n",
        "ing_max=int(Empleados.Ingresos.max()+2)\n",
        "ing_ampl=int((ing_max-ing_min)/10)\n",
        "intervalos = [\"{0} - {1}\".format(i+1,i+ing_ampl) for i in range(ing_min,ing_max,ing_ampl)]\n",
        "Empleados['Ingreso_agrup']=pd.cut(Empleados.Ingresos,range(ing_min,ing_max+ing_ampl,ing_ampl),labels=intervalos)\n",
        "Empleados[['Ingresos','Ingreso_agrup']]"
      ],
      "execution_count": null,
      "outputs": []
    },
    {
      "cell_type": "markdown",
      "metadata": {
        "id": "HfUdETfc6S06",
        "colab_type": "text"
      },
      "source": [
        "# Variables indicadoras"
      ]
    },
    {
      "cell_type": "code",
      "metadata": {
        "id": "m1DchxPg6XBp",
        "colab_type": "code",
        "colab": {}
      },
      "source": [
        "pd.get_dummies(Empleados.Estado_civil)\n",
        "pd.get_dummies(Empleados.Estado_civil,dummy_na=True)\n",
        "pd.get_dummies(Empleados[varcategoricas],prefix=['SX_','EC_','SAT_'])"
      ],
      "execution_count": null,
      "outputs": []
    }
  ]
}