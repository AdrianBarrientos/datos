{
  "nbformat": 4,
  "nbformat_minor": 0,
  "metadata": {
    "colab": {
      "name": "Summary measures.ipynb",
      "provenance": [],
      "collapsed_sections": [
        "xNOHQFYFbnuh"
      ],
      "authorship_tag": "ABX9TyMxlQ9FX4dAUDCvSyMNAlMv"
    },
    "kernelspec": {
      "name": "python3",
      "display_name": "Python 3"
    }
  },
  "cells": [
    {
      "cell_type": "code",
      "metadata": {
        "id": "H5RpQ_HsPXrk",
        "colab_type": "code",
        "colab": {}
      },
      "source": [
        "import pandas as pd\n",
        "import numpy as np"
      ],
      "execution_count": null,
      "outputs": []
    },
    {
      "cell_type": "code",
      "metadata": {
        "id": "R3kLFo75PbQa",
        "colab_type": "code",
        "colab": {}
      },
      "source": [
        "Empleados=pd.read_csv(\"https://raw.githubusercontent.com/AlcidesOxa/datos/master/ejemplo.csv\",sep=';',encoding=\"ISO-8859-1\")\n",
        "Empleados.head()"
      ],
      "execution_count": null,
      "outputs": []
    },
    {
      "cell_type": "code",
      "metadata": {
        "id": "Yxj7hLdd4MSg",
        "colab_type": "code",
        "colab": {}
      },
      "source": [
        "cambio={'Años estudio':'Anios_estudio', 'Estado Civil':'Estado_civil', 'Satisfacción Trabajo':'Satisfaccion_trabajo', 'Fecha contrato':'Fecha_contrato'}\n",
        "Empleados.rename(columns=cambio,inplace=True)\n",
        "casosborrar=[3,5,8]\n",
        "Empleados=Empleados.drop(casosborrar)\n",
        "varborrar=['Faltas','Permisos']\n",
        "Empleados=Empleados.drop(varborrar,axis=1)\n",
        "varcategoricas=['Sexo','Estado_civil','Satisfaccion_trabajo']\n",
        "Empleados[varcategoricas]=Empleados[varcategoricas].fillna('Desconocido')\n",
        "Empleados[varcategoricas]=Empleados[varcategoricas].astype('category')\n",
        "Empleados['Fecha_contrato']=pd.to_datetime(Empleados.Fecha_contrato)\n",
        "orden_ec=Empleados.Estado_civil.cat.categories.values[[3,0,2,4,1]].tolist()\n",
        "orden_st=Empleados.Satisfaccion_trabajo.cat.categories.values[[2,3,0,1]].tolist()\n",
        "Empleados.Estado_civil=Empleados.Estado_civil.cat.reorder_categories(orden_ec)\n",
        "Empleados.Satisfaccion_trabajo=Empleados.Satisfaccion_trabajo.cat.reorder_categories(orden_st)\n",
        "Empleados['Satisfaccion_trabajo']=Empleados.Satisfaccion_trabajo.cat.rename_categories(\n",
        "    ['Insatisfecho(a)','Neutral','Satisfecho(a)','Desconocido'])\n",
        "Empleados['Experiencia_lab']=Empleados.Edad-Empleados.Anios_estudio-5\n",
        "Empleados['Balance']=Empleados.Ingresos-Empleados.Gastos"
      ],
      "execution_count": null,
      "outputs": []
    },
    {
      "cell_type": "markdown",
      "metadata": {
        "id": "KARu4LKtfqSQ",
        "colab_type": "text"
      },
      "source": [
        "# Frecuencias y proporciones"
      ]
    },
    {
      "cell_type": "markdown",
      "metadata": {
        "id": "QjudGdnj6QT3",
        "colab_type": "text"
      },
      "source": [
        "**Frecuencia absoluta**\n",
        "\n",
        "Es la cantidad de veces que se repite un valor de una variable categórica\n",
        "\\begin{eqnarray*}\n",
        "n_{i}=\\#\\left\\{ X:X=X_{i}\\right\\}\n",
        "\\end{eqnarray*}\n",
        "donde $X$ es la variable categórica y $X_{i}$ es un valor particular de la variable. La suma de las frecuencias absolutas es $n=n_{1}+n_{2}+\\ldots +n_{k}=\\sum_{i=1}^{k}n_{i}$, donde $k$ es el número de valores únicos de la variable categórica."
      ]
    },
    {
      "cell_type": "code",
      "metadata": {
        "id": "tExBtLLdfton",
        "colab_type": "code",
        "colab": {}
      },
      "source": [
        "Empleados.Estado_civil.value_counts()"
      ],
      "execution_count": null,
      "outputs": []
    },
    {
      "cell_type": "markdown",
      "metadata": {
        "id": "6-aYp2sbWOcH",
        "colab_type": "text"
      },
      "source": [
        "**Frecuencia relativa (proporción)**\n",
        "\n",
        "La frecuencia absoluta sobre el total $n$ se denomina frecuencia relativa, e indica qué proporción del total representa el valor de la variable en el conjunto de datos\n",
        "\\begin{eqnarray*}\n",
        "p_{i}=\\frac{n_{i}}{n}\n",
        "\\end{eqnarray*}\n",
        "y se tiene que $\\sum_{i=1}^{k}p_{i}=1$."
      ]
    },
    {
      "cell_type": "code",
      "metadata": {
        "id": "IVAWKF4GWUoA",
        "colab_type": "code",
        "colab": {}
      },
      "source": [
        "Empleados.Estado_civil.value_counts(normalize=True)"
      ],
      "execution_count": null,
      "outputs": []
    },
    {
      "cell_type": "markdown",
      "metadata": {
        "id": "Cpi13PZs-h8N",
        "colab_type": "text"
      },
      "source": [
        "# Tablas de doble entrada"
      ]
    },
    {
      "cell_type": "markdown",
      "metadata": {
        "id": "xv6M4jn2Xmzc",
        "colab_type": "text"
      },
      "source": [
        "**Frecuencia absoluta conjunta**\n",
        "\n",
        "Es la cantidad de veces que se repite un conjunto de valores, cada uno de una variable categórica distinta. Para el caso bidimensional la frecuencia conjunta es\n",
        "\\begin{eqnarray*}\n",
        "n_{ij}=\\#\\left\\{ \\left( X,Y\\right):X=X_{i} \\wedge Y=Y_{i}\\right\\}\n",
        "\\end{eqnarray*}\n",
        "donde $X$ y $Y$ son variables categóricas, $X_{i}$ y $Y_{i}$ son valores particulares de $X$ y $Y$ respectivamente. La suma de las frecuencias absolutas es $n=\\sum_{i=1}^{k}\\sum_{j=1}^{h}n_{ij}$, donde $k$ es el número de valores únicos de $X$ y $h$ es lo mismo de $Y$. Asimismo, se pueden definir las frecuencias marginales como $n_{i.}=\\sum_{j=1}^{h}n_{ij}$ por filas, y $n_{.j}=\\sum_{i=1}^{k}n_{ij}$ por columnas."
      ]
    },
    {
      "cell_type": "code",
      "metadata": {
        "id": "AkZwLabPfyeo",
        "colab_type": "code",
        "colab": {}
      },
      "source": [
        "pd.crosstab(Empleados.Sexo,Empleados.Estado_civil)"
      ],
      "execution_count": null,
      "outputs": []
    },
    {
      "cell_type": "code",
      "metadata": {
        "id": "JdsHb-YSccxA",
        "colab_type": "code",
        "colab": {}
      },
      "source": [
        "pd.crosstab(Empleados.Sexo,Empleados.Estado_civil,margins=True,margins_name='Total')"
      ],
      "execution_count": null,
      "outputs": []
    },
    {
      "cell_type": "markdown",
      "metadata": {
        "id": "GospzK4fdKzI",
        "colab_type": "text"
      },
      "source": [
        "**Frecuencia relativa conjunta**\n",
        "\n",
        "Son las proporciones con respecto al total de datos que representan las frecuencias conjuntas. Para el caso bidimensional es\n",
        "\\begin{eqnarray*}\n",
        "p_{ij}=\\frac{n_{ij}}{n}\n",
        "\\end{eqnarray*}\n",
        "y se tiene que $\\sum_{i=1}^{k}\\sum_{j=1}^{h}p_{ij}=1$. Asimismo, se pueden definir las frecuencias relativas marginales como $p_{i.}=\\sum_{j=1}^{h}p_{ij}$ por filas, y $p_{.j}=\\sum_{i=1}^{k}p_{ij}$ por columnas."
      ]
    },
    {
      "cell_type": "code",
      "metadata": {
        "id": "oKha-iE8cWr1",
        "colab_type": "code",
        "colab": {}
      },
      "source": [
        "pd.crosstab(Empleados.Sexo,Empleados.Estado_civil,margins=True,margins_name='Total',normalize='all')"
      ],
      "execution_count": null,
      "outputs": []
    },
    {
      "cell_type": "markdown",
      "metadata": {
        "id": "XL23lnhjgwSP",
        "colab_type": "text"
      },
      "source": [
        "Las frecuencias de $X$ (la variable en filas) condicionadas a que $Y$ (la variable en columnas) tome valores particulares es\n",
        "\\begin{eqnarray*}\n",
        "p_{i\\mid j}=\\frac{p_{ij}}{p_{.j}}=\\frac{n_{ij}}{n_{.j}}\n",
        "\\end{eqnarray*}\n",
        "se puede demostrar que $\\sum_{i=1}^{k}p_{i \\mid j}=1$."
      ]
    },
    {
      "cell_type": "code",
      "metadata": {
        "id": "_jaBwyaMgmg4",
        "colab_type": "code",
        "colab": {}
      },
      "source": [
        "pd.crosstab(Empleados.Sexo,Empleados.Estado_civil,margins=True,margins_name='Total',normalize='columns')"
      ],
      "execution_count": null,
      "outputs": []
    },
    {
      "cell_type": "markdown",
      "metadata": {
        "id": "IPGKjYJEj8l8",
        "colab_type": "text"
      },
      "source": [
        "Las frecuencias de $Y$ (la variable en columnas) condicionadas a que $X$ (la variable en filas) tome valores particulares es\n",
        "\\begin{eqnarray*}\n",
        "p_{j\\mid i}=\\frac{p_{ij}}{p_{i.}}=\\frac{n_{ij}}{n_{i.}}\n",
        "\\end{eqnarray*}\n",
        "se puede demostrar que $\\sum_{j=1}^{h}p_{j \\mid i}=1$."
      ]
    },
    {
      "cell_type": "code",
      "metadata": {
        "id": "w-coF__GgqVP",
        "colab_type": "code",
        "colab": {}
      },
      "source": [
        "pd.crosstab(Empleados.Sexo,Empleados.Estado_civil,margins=True,margins_name='Total',normalize='index')"
      ],
      "execution_count": null,
      "outputs": []
    },
    {
      "cell_type": "markdown",
      "metadata": {
        "id": "OHeUc3GEDizh",
        "colab_type": "text"
      },
      "source": [
        "# Estadísticos descriptivos"
      ]
    },
    {
      "cell_type": "markdown",
      "metadata": {
        "id": "h90hiKaHEzgc",
        "colab_type": "text"
      },
      "source": [
        "**Media aritmética**\n",
        "\n",
        "La media aritmética es una medida de tendencia central, que resume en un valor los valores que toma una variables cuantitativa con el fin de ser representativo del conjunto de datos.\n",
        "Sea $X_{1},$ $X_{2},$ $\\ldots ,$ $X_{n}$ una muestra de datos, la media aritmética se calcula como:\n",
        "\\begin{eqnarray*}\n",
        "\\overline{X} &=&\\frac{\\sum_{i=1}^{n}X_{i}}{n}\n",
        "\\end{eqnarray*}"
      ]
    },
    {
      "cell_type": "code",
      "metadata": {
        "id": "nR0AXRmiZs0b",
        "colab_type": "code",
        "colab": {}
      },
      "source": [
        "Empleados.mean()"
      ],
      "execution_count": null,
      "outputs": []
    },
    {
      "cell_type": "markdown",
      "metadata": {
        "id": "nSrJF4EEGv-4",
        "colab_type": "text"
      },
      "source": [
        "**Cuantiles**\n",
        "\n",
        "Un cuantil es una medida de posición, que indica el valor que toma una variable tal que se halla sobre una proporción $\\alpha$ de los datos. Un método de obtener un cuantil de una distribución empírica es debido a Mood \\& Graybill (1963). Primero se ordenan los datos $X_{i}$  en forma ascendente, luego se calcula $m=\\left( n+1\\right) \\alpha $ donde $n$ es el tamaño de la muestra y $\\alpha $ es la proporción de valores menores al cuantil deseado. La estimación del cuantil es\n",
        "\\begin{eqnarray*}\n",
        "\\widehat{Q}_{\\alpha } &=&X_{p}+r\\left( X_{p+1}-X_{p}\\right)\n",
        "\\end{eqnarray*}\n",
        "donde $p$ es la parte entera de $m$, $0\\leq p\\leq n$, y $r$ es la parte fraccional de $m$. Por conveniencia $X_{0}=X_{1}$ y $X_{n+1}=X_{n}$.\n"
      ]
    },
    {
      "cell_type": "code",
      "metadata": {
        "id": "0MO_igE8GPK5",
        "colab_type": "code",
        "colab": {}
      },
      "source": [
        "Empleados.quantile(.35)\n",
        "Empleados.quantile([.45,.57,.84])"
      ],
      "execution_count": null,
      "outputs": []
    },
    {
      "cell_type": "markdown",
      "metadata": {
        "id": "BNdcpUzvQoU3",
        "colab_type": "text"
      },
      "source": [
        "Los cuantiles pueden ser:\n",
        "\n",
        "\n",
        "*   La mediana: $Me$. Se tiene que $Me=Q_{0.5}$\n",
        "*   Los cuartiles: $C_1$, $C_2$ y $C_3$. Se tiene que $C_j=Q_{ \\frac{j}{4}}$\n",
        "*   Los deciles: $D_1$, $D_2$, $...$, y $D_{10}$. Se tiene que $D_j=Q_{ \\frac{j}{10}}$\n",
        "*   Los percentiles: $P_1$, $P_2$, $...$, y $P_{100}$. Se tiene que $P_j=Q_{ \\frac{j}{100}}$\n",
        "*   $\\min=Q_0$ y $\\max=Q_1$\n"
      ]
    },
    {
      "cell_type": "code",
      "metadata": {
        "id": "OMLTsG_4SjfM",
        "colab_type": "code",
        "colab": {}
      },
      "source": [
        "Empleados.median()\n",
        "Empleados.min(numeric_only=True)\n",
        "Empleados.max(numeric_only=True)"
      ],
      "execution_count": null,
      "outputs": []
    },
    {
      "cell_type": "markdown",
      "metadata": {
        "id": "ie4lgrg-XUCQ",
        "colab_type": "text"
      },
      "source": [
        "**Sumas y productos**"
      ]
    },
    {
      "cell_type": "code",
      "metadata": {
        "id": "heHXWZevqpab",
        "colab_type": "code",
        "colab": {}
      },
      "source": [
        "Empleados.sum(numeric_only=True)\n",
        "Empleados.prod()"
      ],
      "execution_count": null,
      "outputs": []
    },
    {
      "cell_type": "markdown",
      "metadata": {
        "id": "5CJrB454Ll_M",
        "colab_type": "text"
      },
      "source": [
        "**Varianza**\n",
        "\n",
        "La varianza es una medida de dispersión, que indica el grado de variabilidad que tiene una variable. La varianza de una variable $X$ es\n",
        "\\begin{eqnarray*}\n",
        "S^{2} &=&\\frac{\\sum_{i=1}^{n}\\left( X_{i}-\\overline{X}\\right) ^{2}}{n-1}\n",
        "\\end{eqnarray*}\n",
        "donde $\\overline{X}$ es la media de la variable. La división entre $n$ se puede hacer para fines descriptivos, y entre $n-1$ es para fines inferenciales. A mayores valores que tome la varianza, mayor será la dispersión y más heterogeneidad tendrán los datos."
      ]
    },
    {
      "cell_type": "code",
      "metadata": {
        "id": "NDcNxu61GuFQ",
        "colab_type": "code",
        "colab": {}
      },
      "source": [
        "Empleados.var()"
      ],
      "execution_count": null,
      "outputs": []
    },
    {
      "cell_type": "markdown",
      "metadata": {
        "id": "R4hElNuBZ-D_",
        "colab_type": "text"
      },
      "source": [
        "**Desviación estándar**\n",
        "\n",
        "La desviación estándar es una medida de dispersión que se puede interpretar en las unidades de la variable, a diferencia de la varianza que se halla en unidades al cuadrado\n",
        "\\begin{eqnarray*}\n",
        "S &=&\\sqrt{S^{2}}\n",
        "\\end{eqnarray*}"
      ]
    },
    {
      "cell_type": "code",
      "metadata": {
        "id": "YuSZ3qhpZ2vd",
        "colab_type": "code",
        "colab": {}
      },
      "source": [
        "Empleados.std()"
      ],
      "execution_count": null,
      "outputs": []
    },
    {
      "cell_type": "markdown",
      "metadata": {
        "id": "YIucFuBtQ5b3",
        "colab_type": "text"
      },
      "source": [
        "**Covarianza**\n",
        "\n",
        "La covarianza es una medida de asociación lineal de dos variables cuantitativas. La covarianza entre las variables $X$ y $Y$ es\n",
        "\\begin{eqnarray*}\n",
        "S_{xy} &=&\\frac{\\sum_{i=1}^{n}\\left( X_{i}-\\overline{X}\\right) \\left( Y_{i}-%\n",
        "\\overline{Y}\\right) }{n-1}\n",
        "\\end{eqnarray*}\n",
        "donde $\\overline{X}$ y $\\overline{Y}$ son las medias de las variables $X$ y $Y$ respectivamente. La división entre $n$ se aplica para fines descriptivos, y entre $n-1$ para fines inferenciales. Si la covarianza es positiva, entonces existe asociación lineal directa entre las variables; si es negativa, entonces la asociación lineal es inversa."
      ]
    },
    {
      "cell_type": "code",
      "metadata": {
        "id": "qbois2lGQgbQ",
        "colab_type": "code",
        "colab": {}
      },
      "source": [
        "Empleados.cov()"
      ],
      "execution_count": null,
      "outputs": []
    },
    {
      "cell_type": "markdown",
      "metadata": {
        "id": "ShgGyZoCaYvm",
        "colab_type": "text"
      },
      "source": [
        "**Correlación lineal**\n",
        "\n",
        "El coeficiente de correlación lineal de Pearson es una medida de asociación lineal de dos variables, se trata de una covarianza normalizada\n",
        "\\begin{eqnarray*}\n",
        "r &=&\\frac{S_{xy}}{S_{x}S_{y}}\n",
        "\\end{eqnarray*}\n",
        "donde $S_{xy}$ es la covarianza entre las variables $X$ y $Y$, $S_{x}$ y $S_{y}$ son las desviaciones estándar de $X$ y $Y$ respectivamente. La correlación varía entre $-1$ y $1$, así se tiene que:\n",
        "\n",
        "\n",
        "*   Si $r \\longrightarrow -1$, entonces, existe una alta asociación lineal inversa entre las dos variables\n",
        "*   Si $r \\longrightarrow 0$, entonces, existe una baja asociación lineal entre las dos variables\n",
        "*   Si $r \\longrightarrow 1$, entonces, existe una alta asociación lineal directa entre las dos variables\n",
        "\n"
      ]
    },
    {
      "cell_type": "code",
      "metadata": {
        "id": "1wLh3Skpaizu",
        "colab_type": "code",
        "colab": {}
      },
      "source": [
        "Empleados.corr()\n",
        "Empleados.corr().style.background_gradient(cmap='coolwarm').set_precision(4)"
      ],
      "execution_count": null,
      "outputs": []
    },
    {
      "cell_type": "markdown",
      "metadata": {
        "id": "-35Ym-vSf67e",
        "colab_type": "text"
      },
      "source": [
        "**Resumen**"
      ]
    },
    {
      "cell_type": "code",
      "metadata": {
        "id": "I9L4AZDLZCJI",
        "colab_type": "code",
        "colab": {}
      },
      "source": [
        "Empleados.describe()"
      ],
      "execution_count": null,
      "outputs": []
    },
    {
      "cell_type": "markdown",
      "metadata": {
        "id": "H6DMQ_vTfxjq",
        "colab_type": "text"
      },
      "source": [
        "# Gráficos"
      ]
    },
    {
      "cell_type": "markdown",
      "metadata": {
        "id": "FWieg6kn8Ppf",
        "colab_type": "text"
      },
      "source": [
        "**Diagrama de caja**\n",
        "\n",
        "El diagrama de caja se utiliza para visualizar la dispersión de variables cuantitativas. La longitud de la caja comprende el rango entre el 1er y 3er cuartil. Aproximadamente en la parte central de la caja, mediante una línea se representa la mediana. Se calculan el mínimo y máximo sin datos atípicos y se los representa mediante líneas de los extremos. Y los valores atípicos se los representan como puntos más allá de los mínimo y máximo."
      ]
    },
    {
      "cell_type": "code",
      "metadata": {
        "id": "mZrwLhSpLyL6",
        "colab_type": "code",
        "colab": {}
      },
      "source": [
        "Empleados.boxplot()"
      ],
      "execution_count": null,
      "outputs": []
    },
    {
      "cell_type": "markdown",
      "metadata": {
        "id": "XrJSkI_Z_2LS",
        "colab_type": "text"
      },
      "source": [
        "**Histograma**\n",
        "\n",
        "El histograma representa la distribución de una variable, mediante las frecuencias absolutas o relativas de las clases de una variable continua categorizada. La representación lo hace mediante áreas de barras rectangulares contiguas en el orden respectivo de las clases."
      ]
    },
    {
      "cell_type": "code",
      "metadata": {
        "id": "mvp7pNJ6_bHK",
        "colab_type": "code",
        "colab": {}
      },
      "source": [
        "Empleados.hist()"
      ],
      "execution_count": null,
      "outputs": []
    },
    {
      "cell_type": "markdown",
      "metadata": {
        "id": "uetskiSvBl-Z",
        "colab_type": "text"
      },
      "source": [
        "**Densidad núcleo**\n",
        "\n",
        "La densidad núcleo es una especie de suavizamiento de un histograma y una estimación de la función de densidad de probabilidad de una variable aleatoria $X$. La estimación se hace mediante una mezcla de densidades. Sean los datos $X_{i}$ para $i=1,2,\\ldots ,n$, el estimador de su densidad de probabilidad es\n",
        "\\begin{equation*}\n",
        "\\widehat{f}\\left( X\\right) =\\frac{1}{nh}\\sum_{i=1}^{n}K\\left( \\frac{X-X_{i}}{h}\\right)\n",
        "\\end{equation*}\n",
        "donde $K$ es la función de densidad de probabilidad núcleo o Kernel, y $h$ es un parámetro de suavizado, o ventana. Algunas densidades núcleo son:\n",
        "\n",
        "Epanechnikov\n",
        "\\begin{equation*}\n",
        "K\\left( z\\right) =\\left\\{\\begin{array}{cc}\n",
        "\\frac{3}{4}\\left( 1-z^{2}\\right) & \\left\\vert z\\right\\vert \\leq 1 \\\\ \n",
        "0 & \\left\\vert z\\right\\vert >1\n",
        "\\end{array}\\right.\n",
        "\\end{equation*}\n",
        "Gaussiana\n",
        "\\begin{equation*}\n",
        "K\\left( z\\right) =\\frac{1}{\\sqrt{2\\pi }}e^{-\\frac{1}{2}z^{2}}\n",
        "\\end{equation*}\n",
        "Uniforme\n",
        "\\begin{equation*}\n",
        "K\\left( z\\right) =\\left\\{\\begin{array}{cc}\n",
        "\\frac{1}{2} & \\left\\vert z\\right\\vert \\leq 1 \\\\ \n",
        "0 & \\left\\vert z\\right\\vert >1\n",
        "\\end{array}\n",
        "\\right.\n",
        "\\end{equation*}\n",
        "Se elige la ventana tal que se minimice el error cuadrático integrado medio\n",
        "\\begin{equation*}\n",
        "MISE=E\\left\\{ \\int_{%TCIMACRO{\\U{211d} }\n",
        "%BeginExpansion\n",
        "\\mathbb{R}\n",
        "%EndExpansion\n",
        "}\\left[ \\widehat{f}\\left( x\\right) -f\\left( x\\right) \\right] ^{2}dx\\right\\}\n",
        "\\end{equation*}entonces\n",
        "\\begin{equation*}\n",
        "\\frac{\\partial MISE}{\\partial h}=0\n",
        "\\end{equation*}\n",
        "Un estimador plug-in es $\\widehat{h}=2.345n^{-0.2}s$ para Epanechnikov y $\n",
        "\\widehat{h}=1.059n^{-0.2}s$ para la Gaussiana."
      ]
    },
    {
      "cell_type": "code",
      "metadata": {
        "id": "ZgtSDH_-Az3F",
        "colab_type": "code",
        "colab": {}
      },
      "source": [
        "Empleados.plot.density()"
      ],
      "execution_count": null,
      "outputs": []
    },
    {
      "cell_type": "markdown",
      "metadata": {
        "id": "SfXXEogbgKxJ",
        "colab_type": "text"
      },
      "source": [
        "# Apply"
      ]
    },
    {
      "cell_type": "code",
      "metadata": {
        "id": "FC74PHYrfkux",
        "colab_type": "code",
        "colab": {}
      },
      "source": [
        "Empleados.apply(['mean','median','min','max'])\n",
        "Empleados[['Edad','Ingresos','Gastos']].apply(lambda x:-np.sum(x/np.sum(x)*np.log(x/np.sum(x))))"
      ],
      "execution_count": null,
      "outputs": []
    },
    {
      "cell_type": "markdown",
      "metadata": {
        "id": "EFjBBJsifsQw",
        "colab_type": "text"
      },
      "source": [
        "# Estadísticos por fila"
      ]
    },
    {
      "cell_type": "code",
      "metadata": {
        "id": "_E7gWTcZftcD",
        "colab_type": "code",
        "colab": {}
      },
      "source": [
        "Empleados.mean(axis=1)\n",
        "Empleados[['Edad','Ingresos','Gastos']].apply(lambda x: np.prod(np.exp(1/x)),axis=1)"
      ],
      "execution_count": null,
      "outputs": []
    },
    {
      "cell_type": "markdown",
      "metadata": {
        "id": "Wsb-DoqXf35s",
        "colab_type": "text"
      },
      "source": [
        "# Estadísticos por grupos"
      ]
    },
    {
      "cell_type": "code",
      "metadata": {
        "id": "RIySyxa39NTC",
        "colab_type": "code",
        "colab": {}
      },
      "source": [
        "Empleados.groupby('Sexo').mean()\n",
        "Empleados.groupby('Estado_civil').median()\n",
        "Empleados.groupby('Estado_civil').corr()\n",
        "Empleados.groupby('Estado_civil').boxplot()"
      ],
      "execution_count": null,
      "outputs": []
    },
    {
      "cell_type": "code",
      "metadata": {
        "id": "Y47nmC6xND2_",
        "colab_type": "code",
        "colab": {}
      },
      "source": [
        "pd.crosstab(Empleados.Sexo,Empleados.Estado_civil,values=Empleados.Gastos,aggfunc='mean',margins=True,margins_name='Total')"
      ],
      "execution_count": null,
      "outputs": []
    },
    {
      "cell_type": "markdown",
      "metadata": {
        "id": "v9TjSaMKcDHI",
        "colab_type": "text"
      },
      "source": [
        "# ANOVA y Prueba Chi cuadrado"
      ]
    },
    {
      "cell_type": "code",
      "metadata": {
        "id": "bUF7qpfXZZrf",
        "colab_type": "code",
        "colab": {}
      },
      "source": [
        "import scipy.stats as st"
      ],
      "execution_count": null,
      "outputs": []
    },
    {
      "cell_type": "markdown",
      "metadata": {
        "id": "5IDOfW3WigEX",
        "colab_type": "text"
      },
      "source": [
        "**Análisis de varianza (ANOVA)**\n",
        "\n",
        "El método ANOVA a una vía (o un factor) es una prueba estadística para comparar las medias de $k$ muestras provenientes de $k$ respectivas poblaciones. La hipótesis de prueba (nula) es que las medias de las $k$ poblaciones son iguales, es decir, $H_{0}:\\mu _{1}=\\mu _{2}=\\ldots =\\mu _{k}$ contra la hipótesis alternativa de que al menos una es diferente, o sea, $H_{1}:\\exists \\left( \\mu _{i}\\neq \\mu _{j}\\right)$ para $ i\\neq j$. La cantidad de observaciones (tamaño del grupo) en cada nivel del factor es $n_{i}$ con $i=1,2,\\ldots ,k$. Las medias de cada grupo son:\n",
        "\\begin{eqnarray*}\n",
        "\\overline{X}_{i}=\\frac{\\sum_{j=1}^{n_{i}}X_{ij}}{n_{i}}\\qquad i=1,2,\\ldots,k\n",
        "\\end{eqnarray*}\n",
        "La media de medias es $\\overline{X}=\\frac{\\sum_{i=1}^{k}\\overline{X}_{i}n_{i}}{n} $ y el total de observaciones es $n=\\sum_{i=1}^{k}n_{i}$. Las sumas de cuadrados son:\n",
        "\\begin{eqnarray*}\n",
        "SCT &=&SCG+SCD \\\\\n",
        "\\sum_{i=1}^{k}\\sum_{j=1}^{n_{i}}\\left( X_{ij}-\\overline{X}\\right) ^{2}\n",
        "&=&\\sum_{i=1}^{k}\\left( \\overline{X}_{i}-\\overline{X}\\right)\n",
        "^{2}n_{i}+\\sum_{i=1}^{k}\\sum_{j=1}^{n_{i}}\\left( X_{ij}-\\overline{X}%\n",
        "_{i}\\right) ^{2}\n",
        "\\end{eqnarray*}\n",
        "Si la $H_{0}$ es verdadera, y se cumplen los supuestos de iguales varianzas, asimismo, las poblaciones son independientes, y sus distribuciones son normales, entonces el cociente\n",
        "\\begin{eqnarray*}\n",
        "F=\\frac{\\frac{SCG}{k-1}}{\\frac{SCD}{n-k}}=\\frac{MCG}{MCD}\n",
        "\\end{eqnarray*}\n",
        "sigue una distribución $F$ con $k-1$ grados de libertad para el numerador $MCG$, y $n-k$ grados de libertad para el denominador $MCD$, donde la media de cuadrados entre los grupos es $MCG=\\frac{SCG}{k-1}$ y la media de cuadrados dentro de los grupos es $MCD=\\frac{SCD}{n-k}$.\n",
        "\n",
        "La distribución $F$ está definida para el dominio $\\boldsymbol{F}>0$, y es asimétrica con sesgo a la derecha, entonces si el estadístico $F$ toma valores muy altos, la $H_{0}$ podría no ser verdadera. Para tomar una decisión, se establece una regla, que consiste en que se rechace la $H_{0}$ si el estadístico $F$ calculado es mayor al cuantil $1-\\alpha $ que se escribirá como $F_{\\alpha }$, denominado también como valor crítico. Otra forma de realizar la prueba es calculando la probabilidad $\\Pr \\left( \n",
        "\\boldsymbol{F}>F\\right) $, es decir, la probabilidad de que la variable aleatoria $\\boldsymbol{F}$ sea mayor al valor calculado $F$, tal probabilidad se conoce como p-valor o p-value. Por tanto si se cumple que $\\Pr \\left( \\boldsymbol{F}>F\\right) <\\alpha $\n",
        "para un $\\alpha $ pequeño, entonces se rechaza la $H_{0}$ dado que es muy baja la probabilidad de que los posibles valores $\\boldsymbol{F}$ sean mayores a $F$, lo que quiere decir que la distribución $F$ bajo $H_{0}$ no debe ser la verdadera. Por supuesto la $H_{0}$ no se rechaza si $\\Pr \\left( \\boldsymbol{F}>F\\right) \\geq \\alpha $."
      ]
    },
    {
      "cell_type": "code",
      "metadata": {
        "id": "m_ha8rlWHrfM",
        "colab_type": "code",
        "colab": {}
      },
      "source": [
        "anova=st.f_oneway(Empleados.Ingresos[Empleados.Estado_civil=='Casado(a)'],\n",
        "                  Empleados.Ingresos[Empleados.Estado_civil=='Divorciado(a)'],\n",
        "                  Empleados.Ingresos[Empleados.Estado_civil=='Viudo(a)'],)\n",
        "anova[1]"
      ],
      "execution_count": null,
      "outputs": []
    },
    {
      "cell_type": "markdown",
      "metadata": {
        "id": "9YiWcXUArrDQ",
        "colab_type": "text"
      },
      "source": [
        "**Prueba Chi cuadrado**\n",
        "\n",
        "La prueba chi cuadrado para tablas de doble entrada (tablas de contingencia) docima la hipótesis que las dos variables categóricas son independientes. La hipótesis de nula es que la frecuencia conjunta de cada par de categorías es igual al producto de las frecuencias marginales respectivas, es decir, $H_{0}:\\pi_{ij}=\\pi_{i.}\\pi_{.j}$ contra la hipótesis alternativa de que son diferentes, o sea, $H_{1}:\\pi_{ij}\\neq \\pi_{i.}\\pi_{.j}$. Entonces el estadístico de prueba es:\n",
        "\\begin{eqnarray*}\n",
        "\\chi ^{2} &=&\\sum_{j=1}^{h}\\sum_{i=1}^{k}\\frac{\\left( n_{ij}-e_{ij}\\right)^{2}}{e_{ij}}\n",
        "\\end{eqnarray*}\n",
        "donde $n_{ij}$ es la frecuencia conjunta observada y $e_{ij}$ es la frecuencia esperada que se calcula como\n",
        "\\begin{eqnarray*}\n",
        "e_{ij} &=&\\frac{n_{i.}n_{.j}}{n}\n",
        "\\end{eqnarray*}\n",
        "El estadístico $\\chi^{2}$ sigue asintóticamente una distribución chi cuadrado con $\\left( k-1\\right)\\left( h-1\\right)$ grados de libertad. Si $\\chi^{2}$ toma valores altos, entonces se rechaza la hipótesis nula. Para una decisión basada en un umbral se puede utilizar el p-valor de la prueba que generalmente se fija en 0.05. Por tanto si el p-valor es menor a 0.05 entonces se rechaza la hipótesis de que las variables son independientes, caso contrario no se rechaza la independencia."
      ]
    },
    {
      "cell_type": "code",
      "metadata": {
        "id": "ULYkHHP9Lf2n",
        "colab_type": "code",
        "colab": {}
      },
      "source": [
        "ji2=st.chi2_contingency(pd.crosstab(Empleados.Estado_civil,Empleados.Satisfaccion_trabajo))\n",
        "ji2[1]"
      ],
      "execution_count": null,
      "outputs": []
    },
    {
      "cell_type": "markdown",
      "metadata": {
        "id": "xNOHQFYFbnuh",
        "colab_type": "text"
      },
      "source": [
        "# Regresión lineal simple"
      ]
    },
    {
      "cell_type": "code",
      "metadata": {
        "id": "AXQaaj7ZIoC7",
        "colab_type": "code",
        "colab": {}
      },
      "source": [
        "from statsmodels.formula.api import ols\n",
        "modelo1=ols('Gastos~Ingresos',data=Empleados).fit()\n",
        "modelo1.rsquared\n",
        "modelo1.mse_resid\n",
        "modelo1.summary()\n",
        "modelo1.predict(Empleados.Ingresos)\n",
        "modelo1.predict({'Ingresos':np.arange(100,500,50)})"
      ],
      "execution_count": null,
      "outputs": []
    }
  ]
}