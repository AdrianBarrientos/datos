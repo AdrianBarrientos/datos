{
  "nbformat": 4,
  "nbformat_minor": 0,
  "metadata": {
    "colab": {
      "name": "Model development.ipynb",
      "provenance": [],
      "collapsed_sections": [],
      "authorship_tag": "ABX9TyOKVW2fV41tOZsFe3PMenKL"
    },
    "kernelspec": {
      "name": "python3",
      "display_name": "Python 3"
    }
  },
  "cells": [
    {
      "cell_type": "code",
      "metadata": {
        "id": "H5RpQ_HsPXrk",
        "colab_type": "code",
        "colab": {}
      },
      "source": [
        "import pandas as pd\n",
        "import numpy as np\n",
        "from sklearn.linear_model import LinearRegression #Para regresión lineal\n",
        "from sklearn.metrics import mean_squared_error #Para calcular el error cuadrático medio\n",
        "from sklearn.preprocessing import PolynomialFeatures #Para obtener términos polinomiales de variables\n",
        "from sklearn.preprocessing import StandardScaler #Para estandarizar variables\n",
        "from sklearn.pipeline import Pipeline #Para crear canalizaciones que incorporan varias funciones\n",
        "import matplotlib.pyplot as plt #Para algunos gráficos"
      ],
      "execution_count": 1,
      "outputs": []
    },
    {
      "cell_type": "code",
      "metadata": {
        "id": "R3kLFo75PbQa",
        "colab_type": "code",
        "colab": {}
      },
      "source": [
        "Empleados=pd.read_csv(\"https://raw.githubusercontent.com/AlcidesOxa/datos/master/ejemplo.csv\",sep=';',encoding=\"ISO-8859-1\")\n",
        "Empleados.head()"
      ],
      "execution_count": null,
      "outputs": []
    },
    {
      "cell_type": "code",
      "metadata": {
        "id": "Yxj7hLdd4MSg",
        "colab_type": "code",
        "colab": {}
      },
      "source": [
        "cambio={'Años estudio':'Anios_estudio', 'Estado Civil':'Estado_civil', 'Satisfacción Trabajo':'Satisfaccion_trabajo', 'Fecha contrato':'Fecha_contrato'}\n",
        "Empleados.rename(columns=cambio,inplace=True)\n",
        "casosborrar=[3,5,8]\n",
        "Empleados=Empleados.drop(casosborrar)\n",
        "varborrar=['Faltas','Permisos']\n",
        "Empleados=Empleados.drop(varborrar,axis=1)\n",
        "varcategoricas=['Sexo','Estado_civil','Satisfaccion_trabajo']\n",
        "Empleados[varcategoricas]=Empleados[varcategoricas].fillna('Desconocido')\n",
        "Empleados[varcategoricas]=Empleados[varcategoricas].astype('category')\n",
        "Empleados['Fecha_contrato']=pd.to_datetime(Empleados.Fecha_contrato)\n",
        "Empleados['Experiencia_lab']=Empleados.Edad-Empleados.Anios_estudio-5\n",
        "Empleados['Balance']=Empleados.Ingresos-Empleados.Gastos"
      ],
      "execution_count": 3,
      "outputs": []
    },
    {
      "cell_type": "markdown",
      "metadata": {
        "id": "KARu4LKtfqSQ",
        "colab_type": "text"
      },
      "source": [
        "# Modelo de regresión lineal múltiple"
      ]
    },
    {
      "cell_type": "markdown",
      "metadata": {
        "id": "_36Bh-BSptOI",
        "colab_type": "text"
      },
      "source": [
        "El modelo clásico de regresión lineal múltiple es una técnica estadística, que permite explorar y confirmar relaciones lineales entre una variable de interés (dependiente) y un conjunto de variables explicativas (independientes), o predictoras de la variable dependiente. La relación no es completamente determinística, se admite un componente aleatorio o de perturbación, que captura la parte aleatoria de la variable dependiente, y que no es atribuible a las variables explicativas."
      ]
    },
    {
      "cell_type": "markdown",
      "metadata": {
        "id": "cwztLp3bqNaA",
        "colab_type": "text"
      },
      "source": [
        "La especificación del modelo es\n",
        "\\begin{equation*}\n",
        "Y_{i}=\\beta _{1}+\\beta _{2}X_{i2}+\\beta _{3}X_{i3}+\\ldots +\\beta\n",
        "_{k}X_{ik}+u_{i}\n",
        "\\end{equation*}\n",
        "donde $Y_{i}$ ($i=1,2,\\ldots ,n$) es la variable dependiente; $X_{i2}$, $X_{i3}$, $\\ldots $, $X_{ik}$ son las variables explicativas; $\\beta _{1}$, $\\beta _{2}$, $\\ldots $, $\\beta _{k}$ son parámetros, con $\\beta _{1}$ como la parte constante de $Y_{i}$ que no varía con las explictivas, también conocido como sesgo; $\\beta _{2}$, $\\ldots $, $\\beta _{k}$ relacionan a la variable dependiente con las explicativas respectivas; y $u_{i}$ es un término de perturbación aleatoria.\n",
        "\n",
        "El modelo en notación matricial es\n",
        "\\begin{eqnarray*}\n",
        "Y &=&X\\beta +u \\\\\n",
        "\\begin{pmatrix}\n",
        "Y_{1} \\\\ \n",
        "Y_{2} \\\\ \n",
        "\\vdots  \\\\ \n",
        "Y_{n}\n",
        "\\end{pmatrix}\n",
        "&=&\n",
        "\\begin{pmatrix}\n",
        "1 & X_{12} & \\ldots  & X_{1k} \\\\ \n",
        "1 & X_{22} & \\ldots  & X_{2k} \\\\ \n",
        "\\vdots  & \\vdots  & \\ddots  & \\vdots  \\\\ \n",
        "1 & X_{n2} & \\ldots  & X_{nk}\n",
        "\\end{pmatrix}\n",
        "\\begin{pmatrix}\n",
        "\\beta _{1} \\\\ \n",
        "\\beta _{2} \\\\ \n",
        "\\vdots  \\\\ \n",
        "\\beta _{k}\n",
        "\\end{pmatrix}\n",
        "+\n",
        "\\begin{pmatrix}\n",
        "u_{1} \\\\ \n",
        "u_{2} \\\\ \n",
        "\\vdots  \\\\ \n",
        "u_{n}\n",
        "\\end{pmatrix}\n",
        "\\end{eqnarray*}\n",
        "donde $n$ es el tamaño de la muestra, $k$ el número de variables y $n>k$. En la práctica, el vector de parámetros $β$ es desconocido. El objetivo es estimarlo a partir de una muestra aleatoria proveniente de la población objeto de estudio."
      ]
    },
    {
      "cell_type": "markdown",
      "metadata": {
        "id": "JOqp89FTJCOA",
        "colab_type": "text"
      },
      "source": [
        "## Variables del modelo"
      ]
    },
    {
      "cell_type": "code",
      "metadata": {
        "id": "V4HPjzv9veUu",
        "colab_type": "code",
        "colab": {
          "base_uri": "https://localhost:8080/",
          "height": 202
        },
        "outputId": "f212b6e2-3137-4ecd-d520-59435c9bb215"
      },
      "source": [
        "# Lista de las variables del modelo (dependiente e independientes)\n",
        "vars_mod = ['Ingresos', 'Edad', 'Sexo', 'Anios_estudio', 'Estado_civil']\n",
        "# Lista de variables independientes categóricas\n",
        "vars_cat_mod = ['Sexo', 'Estado_civil']\n",
        "# Lista de variables independientes cuantitativas\n",
        "vars_cuant_mod = ['Edad', 'Anios_estudio']\n",
        "# Elimina los datos perdidos del conjunto de variables del modelo\n",
        "# Datos es un dataframe que sólo contiene variables del modelo y sin datos perdidos\n",
        "Datos = Empleados[vars_mod].dropna()\n",
        "Datos.head()"
      ],
      "execution_count": 4,
      "outputs": [
        {
          "output_type": "execute_result",
          "data": {
            "text/html": [
              "<div>\n",
              "<style scoped>\n",
              "    .dataframe tbody tr th:only-of-type {\n",
              "        vertical-align: middle;\n",
              "    }\n",
              "\n",
              "    .dataframe tbody tr th {\n",
              "        vertical-align: top;\n",
              "    }\n",
              "\n",
              "    .dataframe thead th {\n",
              "        text-align: right;\n",
              "    }\n",
              "</style>\n",
              "<table border=\"1\" class=\"dataframe\">\n",
              "  <thead>\n",
              "    <tr style=\"text-align: right;\">\n",
              "      <th></th>\n",
              "      <th>Ingresos</th>\n",
              "      <th>Edad</th>\n",
              "      <th>Sexo</th>\n",
              "      <th>Anios_estudio</th>\n",
              "      <th>Estado_civil</th>\n",
              "    </tr>\n",
              "  </thead>\n",
              "  <tbody>\n",
              "    <tr>\n",
              "      <th>0</th>\n",
              "      <td>3662.0</td>\n",
              "      <td>53.0</td>\n",
              "      <td>Hombre</td>\n",
              "      <td>5.0</td>\n",
              "      <td>Divorciado(a)</td>\n",
              "    </tr>\n",
              "    <tr>\n",
              "      <th>2</th>\n",
              "      <td>4063.0</td>\n",
              "      <td>39.0</td>\n",
              "      <td>Hombre</td>\n",
              "      <td>7.0</td>\n",
              "      <td>Casado(a)</td>\n",
              "    </tr>\n",
              "    <tr>\n",
              "      <th>4</th>\n",
              "      <td>15479.0</td>\n",
              "      <td>55.0</td>\n",
              "      <td>Hombre</td>\n",
              "      <td>20.0</td>\n",
              "      <td>Divorciado(a)</td>\n",
              "    </tr>\n",
              "    <tr>\n",
              "      <th>6</th>\n",
              "      <td>7553.0</td>\n",
              "      <td>30.0</td>\n",
              "      <td>Mujer</td>\n",
              "      <td>18.0</td>\n",
              "      <td>Soltero(a)</td>\n",
              "    </tr>\n",
              "    <tr>\n",
              "      <th>7</th>\n",
              "      <td>11612.0</td>\n",
              "      <td>33.0</td>\n",
              "      <td>Mujer</td>\n",
              "      <td>23.0</td>\n",
              "      <td>Casado(a)</td>\n",
              "    </tr>\n",
              "  </tbody>\n",
              "</table>\n",
              "</div>"
            ],
            "text/plain": [
              "   Ingresos  Edad    Sexo  Anios_estudio   Estado_civil\n",
              "0    3662.0  53.0  Hombre            5.0  Divorciado(a)\n",
              "2    4063.0  39.0  Hombre            7.0      Casado(a)\n",
              "4   15479.0  55.0  Hombre           20.0  Divorciado(a)\n",
              "6    7553.0  30.0   Mujer           18.0     Soltero(a)\n",
              "7   11612.0  33.0   Mujer           23.0      Casado(a)"
            ]
          },
          "metadata": {
            "tags": []
          },
          "execution_count": 4
        }
      ]
    },
    {
      "cell_type": "markdown",
      "metadata": {
        "id": "NCBiVy-mxATZ",
        "colab_type": "text"
      },
      "source": [
        "## Análisis gráfico"
      ]
    },
    {
      "cell_type": "code",
      "metadata": {
        "id": "FD7hhPMpxGUq",
        "colab_type": "code",
        "colab": {
          "base_uri": "https://localhost:8080/",
          "height": 285
        },
        "outputId": "8ed92749-f4f4-494b-9acb-85c495f33ad1"
      },
      "source": [
        "plt.scatter(Datos.Edad, Datos.Ingresos)"
      ],
      "execution_count": null,
      "outputs": [
        {
          "output_type": "execute_result",
          "data": {
            "text/plain": [
              "<matplotlib.collections.PathCollection at 0x7fe2b66a7390>"
            ]
          },
          "metadata": {
            "tags": []
          },
          "execution_count": 5
        },
        {
          "output_type": "display_data",
          "data": {
            "image/png": "[encoded data removed]",
            "text/plain": [
              "<Figure size 432x288 with 1 Axes>"
            ]
          },
          "metadata": {
            "tags": [],
            "needs_background": "light"
          }
        }
      ]
    },
    {
      "cell_type": "code",
      "metadata": {
        "id": "IVAWKF4GWUoA",
        "colab_type": "code",
        "colab": {
          "base_uri": "https://localhost:8080/",
          "height": 285
        },
        "outputId": "f3c5829e-f5a3-4e3a-a9cd-911bd2b9a1c7"
      },
      "source": [
        "plt.scatter(Datos.Anios_estudio, Datos.Ingresos)"
      ],
      "execution_count": null,
      "outputs": [
        {
          "output_type": "execute_result",
          "data": {
            "text/plain": [
              "<matplotlib.collections.PathCollection at 0x7fe2b61785f8>"
            ]
          },
          "metadata": {
            "tags": []
          },
          "execution_count": 6
        },
        {
          "output_type": "display_data",
          "data": {
            "image/png": "[encoded data removed]",
            "text/plain": [
              "<Figure size 432x288 with 1 Axes>"
            ]
          },
          "metadata": {
            "tags": [],
            "needs_background": "light"
          }
        }
      ]
    },
    {
      "cell_type": "code",
      "metadata": {
        "id": "jKQSywdiAmYK",
        "colab_type": "code",
        "colab": {
          "base_uri": "https://localhost:8080/",
          "height": 464
        },
        "outputId": "00d271ec-1e04-43bb-b242-5086fa45f6d1"
      },
      "source": [
        "pd.plotting.scatter_matrix(Datos)"
      ],
      "execution_count": null,
      "outputs": [
        {
          "output_type": "execute_result",
          "data": {
            "text/plain": [
              "array([[<matplotlib.axes._subplots.AxesSubplot object at 0x7fe2b61123c8>,\n",
              "        <matplotlib.axes._subplots.AxesSubplot object at 0x7fe2b60c0668>,\n",
              "        <matplotlib.axes._subplots.AxesSubplot object at 0x7fe2b60748d0>],\n",
              "       [<matplotlib.axes._subplots.AxesSubplot object at 0x7fe2b6028b38>,\n",
              "        <matplotlib.axes._subplots.AxesSubplot object at 0x7fe2b6059da0>,\n",
              "        <matplotlib.axes._subplots.AxesSubplot object at 0x7fe2b6010fd0>],\n",
              "       [<matplotlib.axes._subplots.AxesSubplot object at 0x7fe2b5fcf2b0>,\n",
              "        <matplotlib.axes._subplots.AxesSubplot object at 0x7fe2b5f824e0>,\n",
              "        <matplotlib.axes._subplots.AxesSubplot object at 0x7fe2b5f82550>]],\n",
              "      dtype=object)"
            ]
          },
          "metadata": {
            "tags": []
          },
          "execution_count": 7
        },
        {
          "output_type": "display_data",
          "data": {
            "image/png": "[encoded data removed]",
            "text/plain": [
              "<Figure size 432x288 with 9 Axes>"
            ]
          },
          "metadata": {
            "tags": [],
            "needs_background": "light"
          }
        }
      ]
    },
    {
      "cell_type": "markdown",
      "metadata": {
        "id": "UD51W24zqHPX",
        "colab_type": "text"
      },
      "source": [
        "## Estimación por MCO"
      ]
    },
    {
      "cell_type": "markdown",
      "metadata": {
        "id": "tBMp5T3itTnm",
        "colab_type": "text"
      },
      "source": [
        "La contraparte muestral de $Y=X\\beta +u$ con un estimador $\\widehat{\\beta }$ a determinar es\n",
        "\\begin{eqnarray*}\n",
        "Y=X\\widehat{\\beta }+\\widehat{u}\n",
        "\\end{eqnarray*}\n",
        "y dado que tampoco se conoce $u$ se reemplaza por $\\widehat{u}$. Aplicando la técnica de mínimos cuadrados ordinarios (MCO) se obtiene derivando parcialmente la suma de cuadrados $\\widehat{u}^{\\prime }\\widehat{u}$ con respecto a los elementos del vector $\\widehat{\\beta }$ e igualando a $0$ (vector de ceros) para optimizar\n",
        "\\begin{eqnarray*}\n",
        "\\frac{\\partial \\widehat{u}^{\\prime }\\widehat{u}}{\\partial \\widehat{\\beta }}=\n",
        "\\frac{\\partial }{\\partial \\widehat{\\beta }}\\left( Y-X\\widehat{\\beta }\\right)\n",
        "^{\\prime }\\left( Y-X\\widehat{\\beta }\\right) =-2X^{\\prime }\\left( Y-X\\widehat{\n",
        "\\beta }\\right) =0\n",
        "\\end{eqnarray*}\n",
        "resolviendo ésta ecuación para $\\widehat{\\beta }$ se tiene el\n",
        "estimador por MCO\n",
        "\\begin{eqnarray*}\n",
        "\\widehat{\\beta }=\\left( X^{\\prime }X\\right) ^{-1}X^{\\prime }Y\n",
        "\\end{eqnarray*}"
      ]
    },
    {
      "cell_type": "code",
      "metadata": {
        "id": "AGcnoNNTqGlQ",
        "colab_type": "code",
        "colab": {
          "base_uri": "https://localhost:8080/",
          "height": 35
        },
        "outputId": "fd2a1830-7bae-411e-f807-c8421258732d"
      },
      "source": [
        "# Obtiene la matriz X de variables cuantitativas independientes\n",
        "X = Datos[vars_cuant_mod]\n",
        "# Obtiene el vector Y, de la variable dependiente\n",
        "Y = Datos.Ingresos\n",
        "# Crea la instancia reg de Regresión Lineal\n",
        "reg = LinearRegression()\n",
        "# Ajusta el modelo lineal en modelo1\n",
        "modelo1 = reg.fit(X,Y)\n",
        "# Imprime los coeficientes beta y el intercepto beta1\n",
        "print(modelo1.coef_, ' ', modelo1.intercept_)"
      ],
      "execution_count": 5,
      "outputs": [
        {
          "output_type": "stream",
          "text": [
            "[137.09427271 575.44298252]   -5814.529535375509\n"
          ],
          "name": "stdout"
        }
      ]
    },
    {
      "cell_type": "markdown",
      "metadata": {
        "id": "kIh_oo2DuzXr",
        "colab_type": "text"
      },
      "source": [
        "## Bondad de ajuste"
      ]
    },
    {
      "cell_type": "markdown",
      "metadata": {
        "id": "d9cahn4Su4Az",
        "colab_type": "text"
      },
      "source": [
        "El ajuste del modelo a los datos se mide por el coeficiente de determinación\n",
        "\\begin{equation*}\n",
        "R^{2}=1-\\frac{\\sum_{i=1}^{n}\\widehat{u}_{i}^{2}}{\\sum_{i=1}^{n}\\left( Y_{i}-\\overline{Y}\\right) ^{2}}\n",
        "\\end{equation*}\n",
        "donde $\\overline{Y}=\\frac{1}{n}\\sum_{i=1}^{n}Y_{i}$ es la media de la variable dependiente. Este coeficiente varía entre 0 y 1, si tiende a 0 entonces el modelo no se ajusta bien a los datos, por el contrario si se acerca a 1 entonces el ajuste es bueno. No obstante el $R^{2}$ no es un indicador adecuado sobre el ajuste del modelo fuera de la muestra de estimación, dado que es una función creciente de la cantidad de variables\n",
        "explicativas, y puede aumentar aún con variables predictoras superfluas.\n",
        "Como alternativa se propone el $R^{2}$ ajustado\n",
        "\\begin{equation*}\n",
        "\\overline{R}^{2}=1-\\frac{n-1}{n-k}\\left( 1-R^{2}\\right) \n",
        "\\end{equation*}\n",
        "cuya interpretación es similar al del $R^{2}$, pero lo bueno es que las variables explicativas innecesarias no tienden a incrementarlo."
      ]
    },
    {
      "cell_type": "code",
      "metadata": {
        "id": "PmLsOCHlJNVS",
        "colab_type": "code",
        "colab": {}
      },
      "source": [
        "# Calcula el R2 o coeficiente de determinación del modelo1\n",
        "R2 = modelo1.score(X,Y) # evaluación dentro de la muestra\n",
        "# Para calcular el R2 ajustado, primero obtenemos la dimensión de X\n",
        "n, k = np.shape(X)\n",
        "k = k + 1 #aumento en 1 a k por la constante\n",
        "R2a = 1 - (n-1)/(n-k)*(1-R2) #aplica la fórmula del R2 ajustado\n",
        "print(R2,' ',R2a)"
      ],
      "execution_count": null,
      "outputs": []
    },
    {
      "cell_type": "markdown",
      "metadata": {
        "id": "pHkDp6IaK5uL",
        "colab_type": "text"
      },
      "source": [
        "## Predicción"
      ]
    },
    {
      "cell_type": "markdown",
      "metadata": {
        "id": "skUluIOU7V3R",
        "colab_type": "text"
      },
      "source": [
        "La predicción de los valores de la media condicional de la variable dependiente es $\\widehat{Y}=X\\widehat{\\beta }$. Para medir la incertidumbre de éstas predicciones se tiene la matriz de covarianzas de $\\widehat{Y}$, y su estimación es\n",
        "\\begin{equation*}\n",
        "\\widehat{\\Sigma }_{\\widehat{y}}=\\widehat{\\sigma }^{2}X\\left( X^{\\prime\n",
        "}X\\right) ^{-1}X^{\\prime }\n",
        "\\end{equation*}\n",
        "Para evaluar las predicciones se aplica el error cuadrático medio (MSE por sus siglas en inglés) el cual es, en general, para cualquier estimación o predicción $\\widehat{\\theta }$\n",
        "\\begin{equation*}\n",
        "MSE\\left( \\widehat{\\theta }\\right) =E\\left[ \\left( \\widehat{\\theta }-\\theta \\right) ^{2}\\right]\n",
        "\\end{equation*}\n",
        "Para las predicciones del modelo de regresión lineal, el MSE es\n",
        "\\begin{equation*}\n",
        "MSE\\left( \\widehat{Y}\\right)=\\frac{\\sum_{i=1}^{n}\\left( Y_i-\\widehat{Y_i} \\right) ^{2}}{n}=\\frac{\\sum_{i=1}^{n}\\widehat{u}_{i}^{2}}{n}\n",
        "\\end{equation*}\n",
        "Mayores valores del MSE indican que los errores son grandes en la predicción, por el contrario, valores bajos indican una mejor predicción. En muchos casos se utiliza la raíz cuadrada del MSE para evaluar las predicciones, y entonces se habla del RMSE."
      ]
    },
    {
      "cell_type": "code",
      "metadata": {
        "id": "XTn6upSDuseF",
        "colab_type": "code",
        "colab": {}
      },
      "source": [
        "# Predice mediante el modelo de regresión lineal los valores de Y\n",
        "Yp = modelo1.predict(X)\n",
        "# Calcula y muestra el error cuadrático medio\n",
        "print('MSE', mean_squared_error(Y, Yp))"
      ],
      "execution_count": null,
      "outputs": []
    },
    {
      "cell_type": "markdown",
      "metadata": {
        "id": "5SMLv0lSXh2D",
        "colab_type": "text"
      },
      "source": [
        "# Regresión polinómica y Pipelines"
      ]
    },
    {
      "cell_type": "markdown",
      "metadata": {
        "id": "1Uwa3F-HcnJm",
        "colab_type": "text"
      },
      "source": [
        "## Términos polinomiales"
      ]
    },
    {
      "cell_type": "code",
      "metadata": {
        "id": "1RhtoulmaLo4",
        "colab_type": "code",
        "colab": {
          "base_uri": "https://localhost:8080/",
          "height": 51
        },
        "outputId": "c51848f5-780a-4fcd-a056-97817687d59c"
      },
      "source": [
        "# Matriz W\n",
        "W = [[3, 2], [5, 8]]\n",
        "# Obtiene los términos polinomiales de grado 2 de W\n",
        "PolynomialFeatures(2).fit_transform(W)"
      ],
      "execution_count": null,
      "outputs": [
        {
          "output_type": "execute_result",
          "data": {
            "text/plain": [
              "array([[ 1.,  3.,  2.,  9.,  6.,  4.],\n",
              "       [ 1.,  5.,  8., 25., 40., 64.]])"
            ]
          },
          "metadata": {
            "tags": []
          },
          "execution_count": 17
        }
      ]
    },
    {
      "cell_type": "code",
      "metadata": {
        "id": "w2_B6KvSZ5lj",
        "colab_type": "code",
        "colab": {}
      },
      "source": [
        "PolynomialFeatures(2).fit_transform(X)"
      ],
      "execution_count": null,
      "outputs": []
    },
    {
      "cell_type": "markdown",
      "metadata": {
        "id": "WihnMdKPJWKj",
        "colab_type": "text"
      },
      "source": [
        "## Pipelines"
      ]
    },
    {
      "cell_type": "code",
      "metadata": {
        "id": "NxbjITa3zIbk",
        "colab_type": "code",
        "colab": {
          "base_uri": "https://localhost:8080/",
          "height": 119
        },
        "outputId": "3430756c-c430-40e1-b153-f3c23bbedf39"
      },
      "source": [
        "pipe1 = Pipeline([\n",
        "                  ('estand', StandardScaler()), #estandariza con media 0 y varianza 1\n",
        "                  ('polin', PolynomialFeatures()), #obtiene términos polinomiales de grado 2\n",
        "                  ('reglin', LinearRegression()) #regresión lineal\n",
        "])\n",
        "pipe1.fit(X, Y) #ajuste el pipeline\n",
        "pipe1.predict(X) #predice Y"
      ],
      "execution_count": null,
      "outputs": [
        {
          "output_type": "execute_result",
          "data": {
            "text/plain": [
              "array([ 3429.20494633,  4324.19249352, 14783.48734706,  7493.848254  ,\n",
              "       11911.56138128,  3659.56356705,  7663.43949485, 12569.3748754 ,\n",
              "        5695.39274209, 11126.7056205 ,  4144.22327402,  9412.95235808,\n",
              "        6797.90892594,  4080.23832127, 11117.23446206,  4910.8379713 ,\n",
              "       11447.45072514, 11014.50247972,  3074.84844042, 10722.56272232,\n",
              "       13138.01474519,  7350.9582858 ,  8695.08008843,  3263.41647823])"
            ]
          },
          "metadata": {
            "tags": []
          },
          "execution_count": 18
        }
      ]
    },
    {
      "cell_type": "markdown",
      "metadata": {
        "id": "WndFLzU2fc_6",
        "colab_type": "text"
      },
      "source": [
        "# Regresión con variables explicativas cualitativas"
      ]
    },
    {
      "cell_type": "markdown",
      "metadata": {
        "id": "a3oFQP2Gfv8j",
        "colab_type": "text"
      },
      "source": [
        "## Obtención de las variables dicotómicas"
      ]
    },
    {
      "cell_type": "code",
      "metadata": {
        "id": "qkZgJl-Sx4yW",
        "colab_type": "code",
        "colab": {
          "base_uri": "https://localhost:8080/",
          "height": 223
        },
        "outputId": "544f84a6-e09e-44d1-f120-d186ba2652b4"
      },
      "source": [
        "# Crea un dataframe de variables dicotómicas denominado Dicos, y elimina la primera\n",
        "# categoría de cada variable categórica\n",
        "Dicos = pd.get_dummies(Datos[vars_cat_mod], drop_first = True)\n",
        "# Concatena los dataframes Dicos y Datos (solo variables cuantitativas independientes)\n",
        "X = pd.concat([Dicos, Datos[vars_cuant_mod]], axis=1) #axis=1 es por columnas\n",
        "Y = Datos.Ingresos\n",
        "X.head()"
      ],
      "execution_count": 13,
      "outputs": [
        {
          "output_type": "execute_result",
          "data": {
            "text/html": [
              "<div>\n",
              "<style scoped>\n",
              "    .dataframe tbody tr th:only-of-type {\n",
              "        vertical-align: middle;\n",
              "    }\n",
              "\n",
              "    .dataframe tbody tr th {\n",
              "        vertical-align: top;\n",
              "    }\n",
              "\n",
              "    .dataframe thead th {\n",
              "        text-align: right;\n",
              "    }\n",
              "</style>\n",
              "<table border=\"1\" class=\"dataframe\">\n",
              "  <thead>\n",
              "    <tr style=\"text-align: right;\">\n",
              "      <th></th>\n",
              "      <th>Sexo_Mujer</th>\n",
              "      <th>Estado_civil_Desconocido</th>\n",
              "      <th>Estado_civil_Divorciado(a)</th>\n",
              "      <th>Estado_civil_Soltero(a)</th>\n",
              "      <th>Estado_civil_Viudo(a)</th>\n",
              "      <th>Edad</th>\n",
              "      <th>Anios_estudio</th>\n",
              "    </tr>\n",
              "  </thead>\n",
              "  <tbody>\n",
              "    <tr>\n",
              "      <th>0</th>\n",
              "      <td>0</td>\n",
              "      <td>0</td>\n",
              "      <td>1</td>\n",
              "      <td>0</td>\n",
              "      <td>0</td>\n",
              "      <td>53.0</td>\n",
              "      <td>5.0</td>\n",
              "    </tr>\n",
              "    <tr>\n",
              "      <th>2</th>\n",
              "      <td>0</td>\n",
              "      <td>0</td>\n",
              "      <td>0</td>\n",
              "      <td>0</td>\n",
              "      <td>0</td>\n",
              "      <td>39.0</td>\n",
              "      <td>7.0</td>\n",
              "    </tr>\n",
              "    <tr>\n",
              "      <th>4</th>\n",
              "      <td>0</td>\n",
              "      <td>0</td>\n",
              "      <td>1</td>\n",
              "      <td>0</td>\n",
              "      <td>0</td>\n",
              "      <td>55.0</td>\n",
              "      <td>20.0</td>\n",
              "    </tr>\n",
              "    <tr>\n",
              "      <th>6</th>\n",
              "      <td>1</td>\n",
              "      <td>0</td>\n",
              "      <td>0</td>\n",
              "      <td>1</td>\n",
              "      <td>0</td>\n",
              "      <td>30.0</td>\n",
              "      <td>18.0</td>\n",
              "    </tr>\n",
              "    <tr>\n",
              "      <th>7</th>\n",
              "      <td>1</td>\n",
              "      <td>0</td>\n",
              "      <td>0</td>\n",
              "      <td>0</td>\n",
              "      <td>0</td>\n",
              "      <td>33.0</td>\n",
              "      <td>23.0</td>\n",
              "    </tr>\n",
              "  </tbody>\n",
              "</table>\n",
              "</div>"
            ],
            "text/plain": [
              "   Sexo_Mujer  Estado_civil_Desconocido  ...  Edad  Anios_estudio\n",
              "0           0                         0  ...  53.0            5.0\n",
              "2           0                         0  ...  39.0            7.0\n",
              "4           0                         0  ...  55.0           20.0\n",
              "6           1                         0  ...  30.0           18.0\n",
              "7           1                         0  ...  33.0           23.0\n",
              "\n",
              "[5 rows x 7 columns]"
            ]
          },
          "metadata": {
            "tags": []
          },
          "execution_count": 13
        }
      ]
    },
    {
      "cell_type": "markdown",
      "metadata": {
        "id": "34QWua5BKXW4",
        "colab_type": "text"
      },
      "source": [
        "## Ajuste lineal y predicción"
      ]
    },
    {
      "cell_type": "code",
      "metadata": {
        "id": "8Vkf7SDCA09-",
        "colab_type": "code",
        "colab": {
          "base_uri": "https://localhost:8080/",
          "height": 34
        },
        "outputId": "f047dbf6-e89d-4653-baf3-6e87cdd79387"
      },
      "source": [
        "reg = LinearRegression()\n",
        "modelo1 = reg.fit(X,Y)\n",
        "Yp = modelo1.predict(X)\n",
        "print('MSE', mean_squared_error(Y,Yp), '-- Score', modelo1.score(X,Y))"
      ],
      "execution_count": 14,
      "outputs": [
        {
          "output_type": "stream",
          "text": [
            "MSE 438657.26207742933 -- Score 0.9658153871862107\n"
          ],
          "name": "stdout"
        }
      ]
    },
    {
      "cell_type": "markdown",
      "metadata": {
        "id": "8PvkBrKVZI7O",
        "colab_type": "text"
      },
      "source": [
        "Este modelo predice mejor que el anterior (dentro de la muestra)"
      ]
    },
    {
      "cell_type": "markdown",
      "metadata": {
        "id": "Xc62LBPBgC0B",
        "colab_type": "text"
      },
      "source": [
        "# Regresión con variables dicotómicas y polinomiales"
      ]
    },
    {
      "cell_type": "markdown",
      "metadata": {
        "id": "GKsOeIAkKid8",
        "colab_type": "text"
      },
      "source": [
        "## Regresiones polinómicas"
      ]
    },
    {
      "cell_type": "code",
      "metadata": {
        "id": "C3v9J0ADEVoP",
        "colab_type": "code",
        "colab": {
          "base_uri": "https://localhost:8080/",
          "height": 68
        },
        "outputId": "9ab59748-d7da-4309-e513-fe94ecdd3e8b"
      },
      "source": [
        "for i in range(1,4):\n",
        "  X = PolynomialFeatures(i).fit_transform(Datos[vars_cuant_mod]) #var cuant de grado i\n",
        "  X = pd.DataFrame(X, index = Dicos.index.values) #Transforma a X en un dataframe de pandas con index igual al de Dicos\n",
        "  X = pd.concat([Dicos, X], axis=1) #concatena por columnas Dicos y X\n",
        "  m1 = reg.fit(X, Y) #ajuste lineal en m1\n",
        "  Yp = m1.predict(X) #predicción\n",
        "  print(mean_squared_error(Y, Yp)) #imprime el MSE para cada i"
      ],
      "execution_count": 15,
      "outputs": [
        {
          "output_type": "stream",
          "text": [
            "438657.26207742916\n",
            "38507.354752062434\n",
            "338.0665471017776\n"
          ],
          "name": "stdout"
        }
      ]
    },
    {
      "cell_type": "markdown",
      "metadata": {
        "id": "yRUQmsHRKtMG",
        "colab_type": "text"
      },
      "source": [
        "## Regresiones polinómicas y evaluación fuera de la muestra"
      ]
    },
    {
      "cell_type": "code",
      "metadata": {
        "id": "OW1nsDY4QdPg",
        "colab_type": "code",
        "colab": {
          "base_uri": "https://localhost:8080/",
          "height": 68
        },
        "outputId": "7558c364-8f87-487d-d849-df5468472fe2"
      },
      "source": [
        "#construye un dataframe de un sólo empleado\n",
        "DatosPrb = pd.DataFrame([[6240, 43, 'Hombre', 11, 'Casado(a)']], columns = vars_mod)\n",
        "#construye un dataframe con datos de entrenamiento y de prueba, keys son las claves de esos datos\n",
        "#concatena por filas (axis=0 o nada)\n",
        "Datos_EP = pd.concat([Datos, DatosPrb], keys = ['Entr', 'Prb'])\n",
        "#crea dicotómicas de las variables categóricas del dataframe Datos_EP\n",
        "Dicos_EP = pd.get_dummies(Datos_EP[vars_cat_mod], drop_first = True)\n",
        "#Selecciona la variable dependiente para entrenamiento\n",
        "Y_e = Datos_EP.Ingresos.loc['Entr',:]\n",
        "#Selecciona la variable dependiente para prueba\n",
        "Y_p = Datos_EP.Ingresos.loc['Prb',:]\n",
        "for i in range(1,4):\n",
        "  X = PolynomialFeatures(i).fit_transform(Datos_EP[vars_cuant_mod]) #obtiene los términos polinomiales de las variables cuantitativas del dataframe Datos_EP\n",
        "  X = pd.DataFrame(X, index = Dicos_EP.index.values) #convierte X en un dataframe\n",
        "  X = pd.concat([Dicos_EP, X], axis=1) #concatena por columnas a X y Dicos\n",
        "  X_e = X.loc['Entr',:] #Selecciona la variables independientes para entrenamiento\n",
        "  X_p = X.loc['Prb',:] #Selecciona la variables independientes para prueba\n",
        "  m1 = reg.fit(X_e, Y_e) #Ajusta la regresión con los datos de entrenamiento\n",
        "  Yp = m1.predict(X_p) #Predice con los datos de prueba\n",
        "  print(mean_squared_error(Y_p, Yp)) #Obtiene el error cuadrático medio de la predicción de prueba"
      ],
      "execution_count": 26,
      "outputs": [
        {
          "output_type": "stream",
          "text": [
            "66443.02662338525\n",
            "16324.601317562017\n",
            "48740.109556919255\n"
          ],
          "name": "stdout"
        }
      ]
    }
  ]
}