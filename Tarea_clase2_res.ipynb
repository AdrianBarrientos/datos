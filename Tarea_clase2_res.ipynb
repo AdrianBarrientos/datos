{
  "nbformat": 4,
  "nbformat_minor": 0,
  "metadata": {
    "colab": {
      "name": "Tarea_clase2_res.ipynb",
      "provenance": [],
      "collapsed_sections": [],
      "authorship_tag": "ABX9TyN5SF7G2uvHRpTnI1TyZiKq"
    },
    "kernelspec": {
      "name": "python3",
      "display_name": "Python 3"
    }
  },
  "cells": [
    {
      "cell_type": "code",
      "metadata": {
        "id": "k5iwEnkr_anW",
        "colab_type": "code",
        "colab": {}
      },
      "source": [
        "import pandas as pd\n",
        "import numpy as np"
      ],
      "execution_count": null,
      "outputs": []
    },
    {
      "cell_type": "code",
      "metadata": {
        "id": "3O4ueezN_e4b",
        "colab_type": "code",
        "colab": {
          "base_uri": "https://localhost:8080/",
          "height": 254
        },
        "outputId": "f1c06c86-7a19-4f1e-94f1-3672cf824020"
      },
      "source": [
        "Empleados=pd.read_csv(\"https://raw.githubusercontent.com/AlcidesOxa/datos/master/ejemplo.csv\",sep=';',encoding=\"ISO-8859-1\")\n",
        "Empleados.head()"
      ],
      "execution_count": null,
      "outputs": [
        {
          "output_type": "execute_result",
          "data": {
            "text/html": [
              "<div>\n",
              "<style scoped>\n",
              "    .dataframe tbody tr th:only-of-type {\n",
              "        vertical-align: middle;\n",
              "    }\n",
              "\n",
              "    .dataframe tbody tr th {\n",
              "        vertical-align: top;\n",
              "    }\n",
              "\n",
              "    .dataframe thead th {\n",
              "        text-align: right;\n",
              "    }\n",
              "</style>\n",
              "<table border=\"1\" class=\"dataframe\">\n",
              "  <thead>\n",
              "    <tr style=\"text-align: right;\">\n",
              "      <th></th>\n",
              "      <th>Nombres</th>\n",
              "      <th>Apellidos</th>\n",
              "      <th>Sexo</th>\n",
              "      <th>Edad</th>\n",
              "      <th>Años estudio</th>\n",
              "      <th>Ingresos</th>\n",
              "      <th>Gastos</th>\n",
              "      <th>Estado Civil</th>\n",
              "      <th>Satisfacción Trabajo</th>\n",
              "      <th>Fecha contrato</th>\n",
              "      <th>Faltas</th>\n",
              "      <th>Permisos</th>\n",
              "    </tr>\n",
              "  </thead>\n",
              "  <tbody>\n",
              "    <tr>\n",
              "      <th>0</th>\n",
              "      <td>Pablo Enrique</td>\n",
              "      <td>Barrientos Gómez</td>\n",
              "      <td>Hombre</td>\n",
              "      <td>53.0</td>\n",
              "      <td>5.0</td>\n",
              "      <td>3662.0</td>\n",
              "      <td>2955.0</td>\n",
              "      <td>Divorciado(a)</td>\n",
              "      <td>Regular</td>\n",
              "      <td>6/5/2010</td>\n",
              "      <td>1.0</td>\n",
              "      <td>NaN</td>\n",
              "    </tr>\n",
              "    <tr>\n",
              "      <th>1</th>\n",
              "      <td>Teresa Marina</td>\n",
              "      <td>Bracamonte Palma</td>\n",
              "      <td>Mujer</td>\n",
              "      <td>NaN</td>\n",
              "      <td>23.0</td>\n",
              "      <td>NaN</td>\n",
              "      <td>NaN</td>\n",
              "      <td>Soltero(a)</td>\n",
              "      <td>NaN</td>\n",
              "      <td>NaN</td>\n",
              "      <td>NaN</td>\n",
              "      <td>2.0</td>\n",
              "    </tr>\n",
              "    <tr>\n",
              "      <th>2</th>\n",
              "      <td>Vicente</td>\n",
              "      <td>Cardoso Zerda</td>\n",
              "      <td>Hombre</td>\n",
              "      <td>39.0</td>\n",
              "      <td>7.0</td>\n",
              "      <td>4063.0</td>\n",
              "      <td>4180.0</td>\n",
              "      <td>Casado(a)</td>\n",
              "      <td>Mal</td>\n",
              "      <td>18/4/2009</td>\n",
              "      <td>NaN</td>\n",
              "      <td>NaN</td>\n",
              "    </tr>\n",
              "    <tr>\n",
              "      <th>3</th>\n",
              "      <td>Juan José</td>\n",
              "      <td>Ceballos</td>\n",
              "      <td>Hombre</td>\n",
              "      <td>NaN</td>\n",
              "      <td>7.0</td>\n",
              "      <td>NaN</td>\n",
              "      <td>NaN</td>\n",
              "      <td>NaN</td>\n",
              "      <td>NaN</td>\n",
              "      <td>NaN</td>\n",
              "      <td>NaN</td>\n",
              "      <td>NaN</td>\n",
              "    </tr>\n",
              "    <tr>\n",
              "      <th>4</th>\n",
              "      <td>Raúl Sergio</td>\n",
              "      <td>Claros Gonzáles</td>\n",
              "      <td>Hombre</td>\n",
              "      <td>55.0</td>\n",
              "      <td>20.0</td>\n",
              "      <td>15479.0</td>\n",
              "      <td>9344.0</td>\n",
              "      <td>Divorciado(a)</td>\n",
              "      <td>Bien</td>\n",
              "      <td>12/8/2017</td>\n",
              "      <td>NaN</td>\n",
              "      <td>1.0</td>\n",
              "    </tr>\n",
              "  </tbody>\n",
              "</table>\n",
              "</div>"
            ],
            "text/plain": [
              "         Nombres         Apellidos    Sexo  ...  Fecha contrato  Faltas  Permisos\n",
              "0  Pablo Enrique  Barrientos Gómez  Hombre  ...        6/5/2010     1.0       NaN\n",
              "1  Teresa Marina  Bracamonte Palma   Mujer  ...             NaN     NaN       2.0\n",
              "2        Vicente     Cardoso Zerda  Hombre  ...       18/4/2009     NaN       NaN\n",
              "3      Juan José          Ceballos  Hombre  ...             NaN     NaN       NaN\n",
              "4    Raúl Sergio   Claros Gonzáles  Hombre  ...       12/8/2017     NaN       1.0\n",
              "\n",
              "[5 rows x 12 columns]"
            ]
          },
          "metadata": {
            "tags": []
          },
          "execution_count": 3
        }
      ]
    },
    {
      "cell_type": "code",
      "metadata": {
        "id": "KvI7pyvF_iVv",
        "colab_type": "code",
        "colab": {}
      },
      "source": [
        "cambio={'Años estudio':'Anios_estudio', 'Estado Civil':'Estado_civil', 'Satisfacción Trabajo':'Satisfaccion_trabajo', 'Fecha contrato':'Fecha_contrato'}\n",
        "Empleados.rename(columns=cambio,inplace=True)\n",
        "casosborrar=[3,5,8]\n",
        "Empleados=Empleados.drop(casosborrar)\n",
        "varborrar=['Faltas','Permisos']\n",
        "Empleados=Empleados.drop(varborrar,axis=1)\n",
        "varcategoricas=['Sexo','Estado_civil','Satisfaccion_trabajo']\n",
        "Empleados[varcategoricas]=Empleados[varcategoricas].fillna('Desconocido')\n",
        "Empleados[varcategoricas]=Empleados[varcategoricas].astype('category')\n",
        "Empleados['Fecha_contrato']=pd.to_datetime(Empleados.Fecha_contrato)\n",
        "orden_ec=Empleados.Estado_civil.cat.categories.values[[3,0,2,4,1]].tolist()\n",
        "orden_st=Empleados.Satisfaccion_trabajo.cat.categories.values[[2,3,0,1]].tolist()\n",
        "Empleados.Estado_civil=Empleados.Estado_civil.cat.reorder_categories(orden_ec)\n",
        "Empleados.Satisfaccion_trabajo=Empleados.Satisfaccion_trabajo.cat.reorder_categories(orden_st)\n",
        "Empleados['Satisfaccion_trabajo']=Empleados.Satisfaccion_trabajo.cat.rename_categories(\n",
        "    ['Insatisfecho(a)','Neutral','Satisfecho(a)','Desconocido'])\n",
        "Empleados['Experiencia_lab']=Empleados.Edad-Empleados.Anios_estudio-5\n",
        "Empleados['Balance']=Empleados.Ingresos-Empleados.Gastos"
      ],
      "execution_count": null,
      "outputs": []
    },
    {
      "cell_type": "markdown",
      "metadata": {
        "id": "6bPcWpMgAUp0",
        "colab_type": "text"
      },
      "source": [
        "Obtener las frecuencias absolutas y relativas de Satisfacción"
      ]
    },
    {
      "cell_type": "code",
      "metadata": {
        "id": "M40Yk-R5_zWm",
        "colab_type": "code",
        "colab": {
          "base_uri": "https://localhost:8080/",
          "height": 106
        },
        "outputId": "770ef477-03fc-45de-a424-1df2eb2af274"
      },
      "source": [
        "Empleados.Satisfaccion_trabajo.value_counts()"
      ],
      "execution_count": null,
      "outputs": [
        {
          "output_type": "execute_result",
          "data": {
            "text/plain": [
              "Insatisfecho(a)    9\n",
              "Neutral            8\n",
              "Satisfecho(a)      6\n",
              "Desconocido        4\n",
              "Name: Satisfaccion_trabajo, dtype: int64"
            ]
          },
          "metadata": {
            "tags": []
          },
          "execution_count": 4
        }
      ]
    },
    {
      "cell_type": "code",
      "metadata": {
        "id": "RiVommkDAON0",
        "colab_type": "code",
        "colab": {
          "base_uri": "https://localhost:8080/",
          "height": 106
        },
        "outputId": "4e4473dc-f06a-4cd6-a5d1-4190accf6242"
      },
      "source": [
        "Empleados.Satisfaccion_trabajo.value_counts(normalize=True)"
      ],
      "execution_count": null,
      "outputs": [
        {
          "output_type": "execute_result",
          "data": {
            "text/plain": [
              "Insatisfecho(a)    0.333333\n",
              "Neutral            0.296296\n",
              "Satisfecho(a)      0.222222\n",
              "Desconocido        0.148148\n",
              "Name: Satisfaccion_trabajo, dtype: float64"
            ]
          },
          "metadata": {
            "tags": []
          },
          "execution_count": 5
        }
      ]
    },
    {
      "cell_type": "markdown",
      "metadata": {
        "id": "hfZYho7WAX95",
        "colab_type": "text"
      },
      "source": [
        "Crear las Tablas cruzadas de sexo y satisfacción con frecuencias conjuntas absolutas, relativas, condicionales por fila y por columna"
      ]
    },
    {
      "cell_type": "code",
      "metadata": {
        "id": "5k3-md-gAvEG",
        "colab_type": "code",
        "colab": {
          "base_uri": "https://localhost:8080/",
          "height": 168
        },
        "outputId": "2d5dc1aa-151a-49e4-bd78-56e72d474a25"
      },
      "source": [
        "pd.crosstab(Empleados.Sexo, Empleados.Satisfaccion_trabajo, margins=True, margins_name='Total')"
      ],
      "execution_count": null,
      "outputs": [
        {
          "output_type": "execute_result",
          "data": {
            "text/html": [
              "<div>\n",
              "<style scoped>\n",
              "    .dataframe tbody tr th:only-of-type {\n",
              "        vertical-align: middle;\n",
              "    }\n",
              "\n",
              "    .dataframe tbody tr th {\n",
              "        vertical-align: top;\n",
              "    }\n",
              "\n",
              "    .dataframe thead th {\n",
              "        text-align: right;\n",
              "    }\n",
              "</style>\n",
              "<table border=\"1\" class=\"dataframe\">\n",
              "  <thead>\n",
              "    <tr style=\"text-align: right;\">\n",
              "      <th>Satisfaccion_trabajo</th>\n",
              "      <th>Insatisfecho(a)</th>\n",
              "      <th>Neutral</th>\n",
              "      <th>Satisfecho(a)</th>\n",
              "      <th>Desconocido</th>\n",
              "      <th>Total</th>\n",
              "    </tr>\n",
              "    <tr>\n",
              "      <th>Sexo</th>\n",
              "      <th></th>\n",
              "      <th></th>\n",
              "      <th></th>\n",
              "      <th></th>\n",
              "      <th></th>\n",
              "    </tr>\n",
              "  </thead>\n",
              "  <tbody>\n",
              "    <tr>\n",
              "      <th>Hombre</th>\n",
              "      <td>6</td>\n",
              "      <td>4</td>\n",
              "      <td>3</td>\n",
              "      <td>3</td>\n",
              "      <td>16</td>\n",
              "    </tr>\n",
              "    <tr>\n",
              "      <th>Mujer</th>\n",
              "      <td>3</td>\n",
              "      <td>4</td>\n",
              "      <td>3</td>\n",
              "      <td>1</td>\n",
              "      <td>11</td>\n",
              "    </tr>\n",
              "    <tr>\n",
              "      <th>Total</th>\n",
              "      <td>9</td>\n",
              "      <td>8</td>\n",
              "      <td>6</td>\n",
              "      <td>4</td>\n",
              "      <td>27</td>\n",
              "    </tr>\n",
              "  </tbody>\n",
              "</table>\n",
              "</div>"
            ],
            "text/plain": [
              "Satisfaccion_trabajo  Insatisfecho(a)  Neutral  ...  Desconocido  Total\n",
              "Sexo                                            ...                    \n",
              "Hombre                              6        4  ...            3     16\n",
              "Mujer                               3        4  ...            1     11\n",
              "Total                               9        8  ...            4     27\n",
              "\n",
              "[3 rows x 5 columns]"
            ]
          },
          "metadata": {
            "tags": []
          },
          "execution_count": 6
        }
      ]
    },
    {
      "cell_type": "code",
      "metadata": {
        "id": "sP8SAKLtBMx2",
        "colab_type": "code",
        "colab": {
          "base_uri": "https://localhost:8080/",
          "height": 168
        },
        "outputId": "884ade6c-5928-4c2f-fb64-537f9dbb10e4"
      },
      "source": [
        "pd.crosstab(Empleados.Sexo, Empleados.Satisfaccion_trabajo, margins=True, margins_name='Total', normalize=True)"
      ],
      "execution_count": null,
      "outputs": [
        {
          "output_type": "execute_result",
          "data": {
            "text/html": [
              "<div>\n",
              "<style scoped>\n",
              "    .dataframe tbody tr th:only-of-type {\n",
              "        vertical-align: middle;\n",
              "    }\n",
              "\n",
              "    .dataframe tbody tr th {\n",
              "        vertical-align: top;\n",
              "    }\n",
              "\n",
              "    .dataframe thead th {\n",
              "        text-align: right;\n",
              "    }\n",
              "</style>\n",
              "<table border=\"1\" class=\"dataframe\">\n",
              "  <thead>\n",
              "    <tr style=\"text-align: right;\">\n",
              "      <th>Satisfaccion_trabajo</th>\n",
              "      <th>Insatisfecho(a)</th>\n",
              "      <th>Neutral</th>\n",
              "      <th>Satisfecho(a)</th>\n",
              "      <th>Desconocido</th>\n",
              "      <th>Total</th>\n",
              "    </tr>\n",
              "    <tr>\n",
              "      <th>Sexo</th>\n",
              "      <th></th>\n",
              "      <th></th>\n",
              "      <th></th>\n",
              "      <th></th>\n",
              "      <th></th>\n",
              "    </tr>\n",
              "  </thead>\n",
              "  <tbody>\n",
              "    <tr>\n",
              "      <th>Hombre</th>\n",
              "      <td>0.222222</td>\n",
              "      <td>0.148148</td>\n",
              "      <td>0.111111</td>\n",
              "      <td>0.111111</td>\n",
              "      <td>0.592593</td>\n",
              "    </tr>\n",
              "    <tr>\n",
              "      <th>Mujer</th>\n",
              "      <td>0.111111</td>\n",
              "      <td>0.148148</td>\n",
              "      <td>0.111111</td>\n",
              "      <td>0.037037</td>\n",
              "      <td>0.407407</td>\n",
              "    </tr>\n",
              "    <tr>\n",
              "      <th>Total</th>\n",
              "      <td>0.333333</td>\n",
              "      <td>0.296296</td>\n",
              "      <td>0.222222</td>\n",
              "      <td>0.148148</td>\n",
              "      <td>1.000000</td>\n",
              "    </tr>\n",
              "  </tbody>\n",
              "</table>\n",
              "</div>"
            ],
            "text/plain": [
              "Satisfaccion_trabajo  Insatisfecho(a)   Neutral  ...  Desconocido     Total\n",
              "Sexo                                             ...                       \n",
              "Hombre                       0.222222  0.148148  ...     0.111111  0.592593\n",
              "Mujer                        0.111111  0.148148  ...     0.037037  0.407407\n",
              "Total                        0.333333  0.296296  ...     0.148148  1.000000\n",
              "\n",
              "[3 rows x 5 columns]"
            ]
          },
          "metadata": {
            "tags": []
          },
          "execution_count": 7
        }
      ]
    },
    {
      "cell_type": "code",
      "metadata": {
        "id": "BzsJwxKiBVo5",
        "colab_type": "code",
        "colab": {
          "base_uri": "https://localhost:8080/",
          "height": 138
        },
        "outputId": "3a5281ce-cbd2-46ef-a6ec-227fb483c189"
      },
      "source": [
        "pd.crosstab(Empleados.Sexo, Empleados.Satisfaccion_trabajo, margins=True, margins_name='Total', normalize='columns')"
      ],
      "execution_count": null,
      "outputs": [
        {
          "output_type": "execute_result",
          "data": {
            "text/html": [
              "<div>\n",
              "<style scoped>\n",
              "    .dataframe tbody tr th:only-of-type {\n",
              "        vertical-align: middle;\n",
              "    }\n",
              "\n",
              "    .dataframe tbody tr th {\n",
              "        vertical-align: top;\n",
              "    }\n",
              "\n",
              "    .dataframe thead th {\n",
              "        text-align: right;\n",
              "    }\n",
              "</style>\n",
              "<table border=\"1\" class=\"dataframe\">\n",
              "  <thead>\n",
              "    <tr style=\"text-align: right;\">\n",
              "      <th>Satisfaccion_trabajo</th>\n",
              "      <th>Insatisfecho(a)</th>\n",
              "      <th>Neutral</th>\n",
              "      <th>Satisfecho(a)</th>\n",
              "      <th>Desconocido</th>\n",
              "      <th>Total</th>\n",
              "    </tr>\n",
              "    <tr>\n",
              "      <th>Sexo</th>\n",
              "      <th></th>\n",
              "      <th></th>\n",
              "      <th></th>\n",
              "      <th></th>\n",
              "      <th></th>\n",
              "    </tr>\n",
              "  </thead>\n",
              "  <tbody>\n",
              "    <tr>\n",
              "      <th>Hombre</th>\n",
              "      <td>0.666667</td>\n",
              "      <td>0.5</td>\n",
              "      <td>0.5</td>\n",
              "      <td>0.75</td>\n",
              "      <td>0.592593</td>\n",
              "    </tr>\n",
              "    <tr>\n",
              "      <th>Mujer</th>\n",
              "      <td>0.333333</td>\n",
              "      <td>0.5</td>\n",
              "      <td>0.5</td>\n",
              "      <td>0.25</td>\n",
              "      <td>0.407407</td>\n",
              "    </tr>\n",
              "  </tbody>\n",
              "</table>\n",
              "</div>"
            ],
            "text/plain": [
              "Satisfaccion_trabajo  Insatisfecho(a)  Neutral  ...  Desconocido     Total\n",
              "Sexo                                            ...                       \n",
              "Hombre                       0.666667      0.5  ...         0.75  0.592593\n",
              "Mujer                        0.333333      0.5  ...         0.25  0.407407\n",
              "\n",
              "[2 rows x 5 columns]"
            ]
          },
          "metadata": {
            "tags": []
          },
          "execution_count": 8
        }
      ]
    },
    {
      "cell_type": "code",
      "metadata": {
        "id": "BHD5DP6ZBVPZ",
        "colab_type": "code",
        "colab": {
          "base_uri": "https://localhost:8080/",
          "height": 168
        },
        "outputId": "ff157b02-8ea4-438e-ffb5-1c0c05891b94"
      },
      "source": [
        "pd.crosstab(Empleados.Sexo, Empleados.Satisfaccion_trabajo, margins=True, margins_name='Total', normalize='index')"
      ],
      "execution_count": null,
      "outputs": [
        {
          "output_type": "execute_result",
          "data": {
            "text/html": [
              "<div>\n",
              "<style scoped>\n",
              "    .dataframe tbody tr th:only-of-type {\n",
              "        vertical-align: middle;\n",
              "    }\n",
              "\n",
              "    .dataframe tbody tr th {\n",
              "        vertical-align: top;\n",
              "    }\n",
              "\n",
              "    .dataframe thead th {\n",
              "        text-align: right;\n",
              "    }\n",
              "</style>\n",
              "<table border=\"1\" class=\"dataframe\">\n",
              "  <thead>\n",
              "    <tr style=\"text-align: right;\">\n",
              "      <th>Satisfaccion_trabajo</th>\n",
              "      <th>Insatisfecho(a)</th>\n",
              "      <th>Neutral</th>\n",
              "      <th>Satisfecho(a)</th>\n",
              "      <th>Desconocido</th>\n",
              "    </tr>\n",
              "    <tr>\n",
              "      <th>Sexo</th>\n",
              "      <th></th>\n",
              "      <th></th>\n",
              "      <th></th>\n",
              "      <th></th>\n",
              "    </tr>\n",
              "  </thead>\n",
              "  <tbody>\n",
              "    <tr>\n",
              "      <th>Hombre</th>\n",
              "      <td>0.375000</td>\n",
              "      <td>0.250000</td>\n",
              "      <td>0.187500</td>\n",
              "      <td>0.187500</td>\n",
              "    </tr>\n",
              "    <tr>\n",
              "      <th>Mujer</th>\n",
              "      <td>0.272727</td>\n",
              "      <td>0.363636</td>\n",
              "      <td>0.272727</td>\n",
              "      <td>0.090909</td>\n",
              "    </tr>\n",
              "    <tr>\n",
              "      <th>Total</th>\n",
              "      <td>0.333333</td>\n",
              "      <td>0.296296</td>\n",
              "      <td>0.222222</td>\n",
              "      <td>0.148148</td>\n",
              "    </tr>\n",
              "  </tbody>\n",
              "</table>\n",
              "</div>"
            ],
            "text/plain": [
              "Satisfaccion_trabajo  Insatisfecho(a)   Neutral  Satisfecho(a)  Desconocido\n",
              "Sexo                                                                       \n",
              "Hombre                       0.375000  0.250000       0.187500     0.187500\n",
              "Mujer                        0.272727  0.363636       0.272727     0.090909\n",
              "Total                        0.333333  0.296296       0.222222     0.148148"
            ]
          },
          "metadata": {
            "tags": []
          },
          "execution_count": 9
        }
      ]
    },
    {
      "cell_type": "markdown",
      "metadata": {
        "id": "WiGGgCBWAckq",
        "colab_type": "text"
      },
      "source": [
        "Obtener el vector de medias de gastos, ingresos y balance"
      ]
    },
    {
      "cell_type": "code",
      "metadata": {
        "id": "_kFmMi9JBnCm",
        "colab_type": "code",
        "colab": {
          "base_uri": "https://localhost:8080/",
          "height": 88
        },
        "outputId": "49e90676-b2ce-4c7d-f4ba-cc4202a36fcf"
      },
      "source": [
        "varbls = ['Gastos', 'Ingresos', 'Balance']\n",
        "Empleados[varbls].mean()"
      ],
      "execution_count": null,
      "outputs": [
        {
          "output_type": "execute_result",
          "data": {
            "text/plain": [
              "Gastos      6409.807692\n",
              "Ingresos    7541.576923\n",
              "Balance     1131.769231\n",
              "dtype: float64"
            ]
          },
          "metadata": {
            "tags": []
          },
          "execution_count": 11
        }
      ]
    },
    {
      "cell_type": "markdown",
      "metadata": {
        "id": "X8Im1NFUAfTq",
        "colab_type": "text"
      },
      "source": [
        "Obtener los vectores de deciles 1 3 5 7 y 9 de gastos, ingresos y balance"
      ]
    },
    {
      "cell_type": "code",
      "metadata": {
        "id": "Jcw3g0FKCKDr",
        "colab_type": "code",
        "colab": {
          "base_uri": "https://localhost:8080/",
          "height": 198
        },
        "outputId": "ade75b40-d4ec-4d77-bf88-ef6c85557175"
      },
      "source": [
        "decs = np.arange(1, 10, 2)/10\n",
        "Empleados[varbls].quantile(decs)"
      ],
      "execution_count": null,
      "outputs": [
        {
          "output_type": "execute_result",
          "data": {
            "text/html": [
              "<div>\n",
              "<style scoped>\n",
              "    .dataframe tbody tr th:only-of-type {\n",
              "        vertical-align: middle;\n",
              "    }\n",
              "\n",
              "    .dataframe tbody tr th {\n",
              "        vertical-align: top;\n",
              "    }\n",
              "\n",
              "    .dataframe thead th {\n",
              "        text-align: right;\n",
              "    }\n",
              "</style>\n",
              "<table border=\"1\" class=\"dataframe\">\n",
              "  <thead>\n",
              "    <tr style=\"text-align: right;\">\n",
              "      <th></th>\n",
              "      <th>Gastos</th>\n",
              "      <th>Ingresos</th>\n",
              "      <th>Balance</th>\n",
              "    </tr>\n",
              "  </thead>\n",
              "  <tbody>\n",
              "    <tr>\n",
              "      <th>0.1</th>\n",
              "      <td>3363.0</td>\n",
              "      <td>3303.5</td>\n",
              "      <td>-1317.0</td>\n",
              "    </tr>\n",
              "    <tr>\n",
              "      <th>0.3</th>\n",
              "      <td>5097.5</td>\n",
              "      <td>4099.0</td>\n",
              "      <td>-354.5</td>\n",
              "    </tr>\n",
              "    <tr>\n",
              "      <th>0.5</th>\n",
              "      <td>6117.5</td>\n",
              "      <td>7360.0</td>\n",
              "      <td>944.5</td>\n",
              "    </tr>\n",
              "    <tr>\n",
              "      <th>0.7</th>\n",
              "      <td>7900.0</td>\n",
              "      <td>10805.5</td>\n",
              "      <td>2568.5</td>\n",
              "    </tr>\n",
              "    <tr>\n",
              "      <th>0.9</th>\n",
              "      <td>9369.5</td>\n",
              "      <td>11848.5</td>\n",
              "      <td>3301.0</td>\n",
              "    </tr>\n",
              "  </tbody>\n",
              "</table>\n",
              "</div>"
            ],
            "text/plain": [
              "     Gastos  Ingresos  Balance\n",
              "0.1  3363.0    3303.5  -1317.0\n",
              "0.3  5097.5    4099.0   -354.5\n",
              "0.5  6117.5    7360.0    944.5\n",
              "0.7  7900.0   10805.5   2568.5\n",
              "0.9  9369.5   11848.5   3301.0"
            ]
          },
          "metadata": {
            "tags": []
          },
          "execution_count": 20
        }
      ]
    },
    {
      "cell_type": "markdown",
      "metadata": {
        "id": "y7QAWh9QAisl",
        "colab_type": "text"
      },
      "source": [
        "Obtener las desviaciones estándar de gastos, ingresos y balance"
      ]
    },
    {
      "cell_type": "code",
      "metadata": {
        "id": "Hvdp40OBDQ7a",
        "colab_type": "code",
        "colab": {
          "base_uri": "https://localhost:8080/",
          "height": 88
        },
        "outputId": "c1afff34-4f90-41f5-f01d-e916d152dae6"
      },
      "source": [
        "Empleados[varbls].mean()"
      ],
      "execution_count": null,
      "outputs": [
        {
          "output_type": "execute_result",
          "data": {
            "text/plain": [
              "Gastos      6409.807692\n",
              "Ingresos    7541.576923\n",
              "Balance     1131.769231\n",
              "dtype: float64"
            ]
          },
          "metadata": {
            "tags": []
          },
          "execution_count": 21
        }
      ]
    },
    {
      "cell_type": "markdown",
      "metadata": {
        "id": "diSGwPfKAlbI",
        "colab_type": "text"
      },
      "source": [
        "Obtener la matriz de correlaciones de gastos, ingresos y balance"
      ]
    },
    {
      "cell_type": "code",
      "metadata": {
        "id": "UuEBOxL2DWcZ",
        "colab_type": "code",
        "colab": {
          "base_uri": "https://localhost:8080/",
          "height": 138
        },
        "outputId": "7dd30f80-23e5-44fe-fbd1-47599f80e796"
      },
      "source": [
        "Empleados[varbls].corr()"
      ],
      "execution_count": null,
      "outputs": [
        {
          "output_type": "execute_result",
          "data": {
            "text/html": [
              "<div>\n",
              "<style scoped>\n",
              "    .dataframe tbody tr th:only-of-type {\n",
              "        vertical-align: middle;\n",
              "    }\n",
              "\n",
              "    .dataframe tbody tr th {\n",
              "        vertical-align: top;\n",
              "    }\n",
              "\n",
              "    .dataframe thead th {\n",
              "        text-align: right;\n",
              "    }\n",
              "</style>\n",
              "<table border=\"1\" class=\"dataframe\">\n",
              "  <thead>\n",
              "    <tr style=\"text-align: right;\">\n",
              "      <th></th>\n",
              "      <th>Gastos</th>\n",
              "      <th>Ingresos</th>\n",
              "      <th>Balance</th>\n",
              "    </tr>\n",
              "  </thead>\n",
              "  <tbody>\n",
              "    <tr>\n",
              "      <th>Gastos</th>\n",
              "      <td>1.000000</td>\n",
              "      <td>0.879145</td>\n",
              "      <td>0.444497</td>\n",
              "    </tr>\n",
              "    <tr>\n",
              "      <th>Ingresos</th>\n",
              "      <td>0.879145</td>\n",
              "      <td>1.000000</td>\n",
              "      <td>0.817665</td>\n",
              "    </tr>\n",
              "    <tr>\n",
              "      <th>Balance</th>\n",
              "      <td>0.444497</td>\n",
              "      <td>0.817665</td>\n",
              "      <td>1.000000</td>\n",
              "    </tr>\n",
              "  </tbody>\n",
              "</table>\n",
              "</div>"
            ],
            "text/plain": [
              "            Gastos  Ingresos   Balance\n",
              "Gastos    1.000000  0.879145  0.444497\n",
              "Ingresos  0.879145  1.000000  0.817665\n",
              "Balance   0.444497  0.817665  1.000000"
            ]
          },
          "metadata": {
            "tags": []
          },
          "execution_count": 22
        }
      ]
    },
    {
      "cell_type": "markdown",
      "metadata": {
        "id": "PITLDXmRwfmu",
        "colab_type": "text"
      },
      "source": [
        "# **PARTE 2**"
      ]
    },
    {
      "cell_type": "markdown",
      "metadata": {
        "id": "K4W4AXy5tICJ",
        "colab_type": "text"
      },
      "source": [
        "Calcular el índice de Shannon de años de estudio y experiencia laboral ¿cuál tiene mayor diversidad?"
      ]
    },
    {
      "cell_type": "code",
      "metadata": {
        "id": "OWSGIOtOto4S",
        "colab_type": "code",
        "colab": {
          "base_uri": "https://localhost:8080/",
          "height": 71
        },
        "outputId": "7b25b7da-790c-4a5f-9a5d-5bed31ebba51"
      },
      "source": [
        "Empleados[['Anios_estudio','Experiencia_lab']].apply(lambda x:-np.sum(x/np.sum(x)*np.log(x/np.sum(x))))"
      ],
      "execution_count": null,
      "outputs": [
        {
          "output_type": "execute_result",
          "data": {
            "text/plain": [
              "Anios_estudio      3.131271\n",
              "Experiencia_lab    3.039474\n",
              "dtype: float64"
            ]
          },
          "metadata": {
            "tags": []
          },
          "execution_count": 10
        }
      ]
    },
    {
      "cell_type": "markdown",
      "metadata": {
        "id": "d54buguAwuX9",
        "colab_type": "text"
      },
      "source": [
        "Los años de estudio tienen más diversidad"
      ]
    },
    {
      "cell_type": "markdown",
      "metadata": {
        "id": "b6gvnkxDtNKu",
        "colab_type": "text"
      },
      "source": [
        "Obtener el mínimo y el máximo por filas de las variables cuantitativas"
      ]
    },
    {
      "cell_type": "code",
      "metadata": {
        "id": "l8pgt9hHtSY-",
        "colab_type": "code",
        "colab": {
          "base_uri": "https://localhost:8080/",
          "height": 879
        },
        "outputId": "04d7c4a7-4ca4-42af-f6b0-7aa29a899213"
      },
      "source": [
        "var_cuant = Empleados.select_dtypes(np.number).columns.values\n",
        "Empleados[var_cuant].apply(['min', 'max'], axis = 1)"
      ],
      "execution_count": null,
      "outputs": [
        {
          "output_type": "execute_result",
          "data": {
            "text/html": [
              "<div>\n",
              "<style scoped>\n",
              "    .dataframe tbody tr th:only-of-type {\n",
              "        vertical-align: middle;\n",
              "    }\n",
              "\n",
              "    .dataframe tbody tr th {\n",
              "        vertical-align: top;\n",
              "    }\n",
              "\n",
              "    .dataframe thead th {\n",
              "        text-align: right;\n",
              "    }\n",
              "</style>\n",
              "<table border=\"1\" class=\"dataframe\">\n",
              "  <thead>\n",
              "    <tr style=\"text-align: right;\">\n",
              "      <th></th>\n",
              "      <th>min</th>\n",
              "      <th>max</th>\n",
              "    </tr>\n",
              "  </thead>\n",
              "  <tbody>\n",
              "    <tr>\n",
              "      <th>0</th>\n",
              "      <td>5.0</td>\n",
              "      <td>3662.0</td>\n",
              "    </tr>\n",
              "    <tr>\n",
              "      <th>1</th>\n",
              "      <td>23.0</td>\n",
              "      <td>23.0</td>\n",
              "    </tr>\n",
              "    <tr>\n",
              "      <th>2</th>\n",
              "      <td>-117.0</td>\n",
              "      <td>4180.0</td>\n",
              "    </tr>\n",
              "    <tr>\n",
              "      <th>4</th>\n",
              "      <td>20.0</td>\n",
              "      <td>15479.0</td>\n",
              "    </tr>\n",
              "    <tr>\n",
              "      <th>6</th>\n",
              "      <td>7.0</td>\n",
              "      <td>7553.0</td>\n",
              "    </tr>\n",
              "    <tr>\n",
              "      <th>7</th>\n",
              "      <td>5.0</td>\n",
              "      <td>11612.0</td>\n",
              "    </tr>\n",
              "    <tr>\n",
              "      <th>9</th>\n",
              "      <td>-1046.0</td>\n",
              "      <td>5181.0</td>\n",
              "    </tr>\n",
              "    <tr>\n",
              "      <th>10</th>\n",
              "      <td>56.0</td>\n",
              "      <td>2117.0</td>\n",
              "    </tr>\n",
              "    <tr>\n",
              "      <th>11</th>\n",
              "      <td>14.0</td>\n",
              "      <td>7535.0</td>\n",
              "    </tr>\n",
              "    <tr>\n",
              "      <th>12</th>\n",
              "      <td>-1634.0</td>\n",
              "      <td>3771.0</td>\n",
              "    </tr>\n",
              "    <tr>\n",
              "      <th>13</th>\n",
              "      <td>17.0</td>\n",
              "      <td>12085.0</td>\n",
              "    </tr>\n",
              "    <tr>\n",
              "      <th>14</th>\n",
              "      <td>-592.0</td>\n",
              "      <td>6174.0</td>\n",
              "    </tr>\n",
              "    <tr>\n",
              "      <th>15</th>\n",
              "      <td>13.0</td>\n",
              "      <td>11112.0</td>\n",
              "    </tr>\n",
              "    <tr>\n",
              "      <th>16</th>\n",
              "      <td>-1494.0</td>\n",
              "      <td>5477.0</td>\n",
              "    </tr>\n",
              "    <tr>\n",
              "      <th>17</th>\n",
              "      <td>17.0</td>\n",
              "      <td>9351.0</td>\n",
              "    </tr>\n",
              "    <tr>\n",
              "      <th>18</th>\n",
              "      <td>-694.0</td>\n",
              "      <td>7461.0</td>\n",
              "    </tr>\n",
              "    <tr>\n",
              "      <th>19</th>\n",
              "      <td>-1140.0</td>\n",
              "      <td>4913.0</td>\n",
              "    </tr>\n",
              "    <tr>\n",
              "      <th>20</th>\n",
              "      <td>16.0</td>\n",
              "      <td>10935.0</td>\n",
              "    </tr>\n",
              "    <tr>\n",
              "      <th>21</th>\n",
              "      <td>-854.0</td>\n",
              "      <td>6061.0</td>\n",
              "    </tr>\n",
              "    <tr>\n",
              "      <th>22</th>\n",
              "      <td>17.0</td>\n",
              "      <td>11467.0</td>\n",
              "    </tr>\n",
              "    <tr>\n",
              "      <th>23</th>\n",
              "      <td>9.0</td>\n",
              "      <td>10892.0</td>\n",
              "    </tr>\n",
              "    <tr>\n",
              "      <th>24</th>\n",
              "      <td>6.0</td>\n",
              "      <td>2967.0</td>\n",
              "    </tr>\n",
              "    <tr>\n",
              "      <th>25</th>\n",
              "      <td>17.0</td>\n",
              "      <td>10719.0</td>\n",
              "    </tr>\n",
              "    <tr>\n",
              "      <th>26</th>\n",
              "      <td>19.0</td>\n",
              "      <td>13491.0</td>\n",
              "    </tr>\n",
              "    <tr>\n",
              "      <th>27</th>\n",
              "      <td>13.0</td>\n",
              "      <td>7185.0</td>\n",
              "    </tr>\n",
              "    <tr>\n",
              "      <th>28</th>\n",
              "      <td>8.0</td>\n",
              "      <td>8632.0</td>\n",
              "    </tr>\n",
              "    <tr>\n",
              "      <th>29</th>\n",
              "      <td>-1888.0</td>\n",
              "      <td>5528.0</td>\n",
              "    </tr>\n",
              "  </tbody>\n",
              "</table>\n",
              "</div>"
            ],
            "text/plain": [
              "       min      max\n",
              "0      5.0   3662.0\n",
              "1     23.0     23.0\n",
              "2   -117.0   4180.0\n",
              "4     20.0  15479.0\n",
              "6      7.0   7553.0\n",
              "7      5.0  11612.0\n",
              "9  -1046.0   5181.0\n",
              "10    56.0   2117.0\n",
              "11    14.0   7535.0\n",
              "12 -1634.0   3771.0\n",
              "13    17.0  12085.0\n",
              "14  -592.0   6174.0\n",
              "15    13.0  11112.0\n",
              "16 -1494.0   5477.0\n",
              "17    17.0   9351.0\n",
              "18  -694.0   7461.0\n",
              "19 -1140.0   4913.0\n",
              "20    16.0  10935.0\n",
              "21  -854.0   6061.0\n",
              "22    17.0  11467.0\n",
              "23     9.0  10892.0\n",
              "24     6.0   2967.0\n",
              "25    17.0  10719.0\n",
              "26    19.0  13491.0\n",
              "27    13.0   7185.0\n",
              "28     8.0   8632.0\n",
              "29 -1888.0   5528.0"
            ]
          },
          "metadata": {
            "tags": []
          },
          "execution_count": 9
        }
      ]
    },
    {
      "cell_type": "markdown",
      "metadata": {
        "id": "CXF8nF2ptTLC",
        "colab_type": "text"
      },
      "source": [
        "Obtener las medianas por satisfacción, de la edad, años de estudio y experiencia"
      ]
    },
    {
      "cell_type": "code",
      "metadata": {
        "id": "PNu10c6Nw6vW",
        "colab_type": "code",
        "colab": {
          "base_uri": "https://localhost:8080/",
          "height": 202
        },
        "outputId": "61f734e3-230c-4944-e69d-2ecf1f4c3e44"
      },
      "source": [
        "lista = ['Satisfaccion_trabajo', 'Anios_estudio', 'Edad', 'Experiencia_lab']\n",
        "Empleados[lista].groupby('Satisfaccion_trabajo').median()"
      ],
      "execution_count": null,
      "outputs": [
        {
          "output_type": "execute_result",
          "data": {
            "text/html": [
              "<div>\n",
              "<style scoped>\n",
              "    .dataframe tbody tr th:only-of-type {\n",
              "        vertical-align: middle;\n",
              "    }\n",
              "\n",
              "    .dataframe tbody tr th {\n",
              "        vertical-align: top;\n",
              "    }\n",
              "\n",
              "    .dataframe thead th {\n",
              "        text-align: right;\n",
              "    }\n",
              "</style>\n",
              "<table border=\"1\" class=\"dataframe\">\n",
              "  <thead>\n",
              "    <tr style=\"text-align: right;\">\n",
              "      <th></th>\n",
              "      <th>Anios_estudio</th>\n",
              "      <th>Edad</th>\n",
              "      <th>Experiencia_lab</th>\n",
              "    </tr>\n",
              "    <tr>\n",
              "      <th>Satisfaccion_trabajo</th>\n",
              "      <th></th>\n",
              "      <th></th>\n",
              "      <th></th>\n",
              "    </tr>\n",
              "  </thead>\n",
              "  <tbody>\n",
              "    <tr>\n",
              "      <th>Insatisfecho(a)</th>\n",
              "      <td>14.0</td>\n",
              "      <td>39.0</td>\n",
              "      <td>18.0</td>\n",
              "    </tr>\n",
              "    <tr>\n",
              "      <th>Neutral</th>\n",
              "      <td>15.0</td>\n",
              "      <td>42.5</td>\n",
              "      <td>23.5</td>\n",
              "    </tr>\n",
              "    <tr>\n",
              "      <th>Satisfecho(a)</th>\n",
              "      <td>18.5</td>\n",
              "      <td>42.0</td>\n",
              "      <td>23.5</td>\n",
              "    </tr>\n",
              "    <tr>\n",
              "      <th>Desconocido</th>\n",
              "      <td>14.0</td>\n",
              "      <td>55.0</td>\n",
              "      <td>45.0</td>\n",
              "    </tr>\n",
              "  </tbody>\n",
              "</table>\n",
              "</div>"
            ],
            "text/plain": [
              "                      Anios_estudio  Edad  Experiencia_lab\n",
              "Satisfaccion_trabajo                                      \n",
              "Insatisfecho(a)                14.0  39.0             18.0\n",
              "Neutral                        15.0  42.5             23.5\n",
              "Satisfecho(a)                  18.5  42.0             23.5\n",
              "Desconocido                    14.0  55.0             45.0"
            ]
          },
          "metadata": {
            "tags": []
          },
          "execution_count": 11
        }
      ]
    },
    {
      "cell_type": "markdown",
      "metadata": {
        "id": "mcDxSmf4tWHa",
        "colab_type": "text"
      },
      "source": [
        "Obtener las matrices de correlación por satisfacción, de la edad, años de estudio y experiencia"
      ]
    },
    {
      "cell_type": "code",
      "metadata": {
        "id": "PhONHPyVx7lO",
        "colab_type": "code",
        "colab": {
          "base_uri": "https://localhost:8080/",
          "height": 448
        },
        "outputId": "d0760c58-9605-4a5f-fb8d-2f803decf334"
      },
      "source": [
        "Empleados[lista].groupby('Satisfaccion_trabajo').corr()"
      ],
      "execution_count": null,
      "outputs": [
        {
          "output_type": "execute_result",
          "data": {
            "text/html": [
              "<div>\n",
              "<style scoped>\n",
              "    .dataframe tbody tr th:only-of-type {\n",
              "        vertical-align: middle;\n",
              "    }\n",
              "\n",
              "    .dataframe tbody tr th {\n",
              "        vertical-align: top;\n",
              "    }\n",
              "\n",
              "    .dataframe thead th {\n",
              "        text-align: right;\n",
              "    }\n",
              "</style>\n",
              "<table border=\"1\" class=\"dataframe\">\n",
              "  <thead>\n",
              "    <tr style=\"text-align: right;\">\n",
              "      <th></th>\n",
              "      <th></th>\n",
              "      <th>Anios_estudio</th>\n",
              "      <th>Edad</th>\n",
              "      <th>Experiencia_lab</th>\n",
              "    </tr>\n",
              "    <tr>\n",
              "      <th>Satisfaccion_trabajo</th>\n",
              "      <th></th>\n",
              "      <th></th>\n",
              "      <th></th>\n",
              "      <th></th>\n",
              "    </tr>\n",
              "  </thead>\n",
              "  <tbody>\n",
              "    <tr>\n",
              "      <th rowspan=\"3\" valign=\"top\">Insatisfecho(a)</th>\n",
              "      <th>Anios_estudio</th>\n",
              "      <td>1.000000</td>\n",
              "      <td>-0.169761</td>\n",
              "      <td>-0.634709</td>\n",
              "    </tr>\n",
              "    <tr>\n",
              "      <th>Edad</th>\n",
              "      <td>-0.169761</td>\n",
              "      <td>1.000000</td>\n",
              "      <td>0.869284</td>\n",
              "    </tr>\n",
              "    <tr>\n",
              "      <th>Experiencia_lab</th>\n",
              "      <td>-0.634709</td>\n",
              "      <td>0.869284</td>\n",
              "      <td>1.000000</td>\n",
              "    </tr>\n",
              "    <tr>\n",
              "      <th rowspan=\"3\" valign=\"top\">Neutral</th>\n",
              "      <th>Anios_estudio</th>\n",
              "      <td>1.000000</td>\n",
              "      <td>0.190971</td>\n",
              "      <td>-0.312963</td>\n",
              "    </tr>\n",
              "    <tr>\n",
              "      <th>Edad</th>\n",
              "      <td>0.190971</td>\n",
              "      <td>1.000000</td>\n",
              "      <td>0.872519</td>\n",
              "    </tr>\n",
              "    <tr>\n",
              "      <th>Experiencia_lab</th>\n",
              "      <td>-0.312963</td>\n",
              "      <td>0.872519</td>\n",
              "      <td>1.000000</td>\n",
              "    </tr>\n",
              "    <tr>\n",
              "      <th rowspan=\"3\" valign=\"top\">Satisfecho(a)</th>\n",
              "      <th>Anios_estudio</th>\n",
              "      <td>1.000000</td>\n",
              "      <td>-0.075167</td>\n",
              "      <td>-0.334560</td>\n",
              "    </tr>\n",
              "    <tr>\n",
              "      <th>Edad</th>\n",
              "      <td>-0.075167</td>\n",
              "      <td>1.000000</td>\n",
              "      <td>0.964856</td>\n",
              "    </tr>\n",
              "    <tr>\n",
              "      <th>Experiencia_lab</th>\n",
              "      <td>-0.334560</td>\n",
              "      <td>0.964856</td>\n",
              "      <td>1.000000</td>\n",
              "    </tr>\n",
              "    <tr>\n",
              "      <th rowspan=\"3\" valign=\"top\">Desconocido</th>\n",
              "      <th>Anios_estudio</th>\n",
              "      <td>1.000000</td>\n",
              "      <td>NaN</td>\n",
              "      <td>NaN</td>\n",
              "    </tr>\n",
              "    <tr>\n",
              "      <th>Edad</th>\n",
              "      <td>NaN</td>\n",
              "      <td>1.000000</td>\n",
              "      <td>NaN</td>\n",
              "    </tr>\n",
              "    <tr>\n",
              "      <th>Experiencia_lab</th>\n",
              "      <td>NaN</td>\n",
              "      <td>NaN</td>\n",
              "      <td>NaN</td>\n",
              "    </tr>\n",
              "  </tbody>\n",
              "</table>\n",
              "</div>"
            ],
            "text/plain": [
              "                                      Anios_estudio      Edad  Experiencia_lab\n",
              "Satisfaccion_trabajo                                                          \n",
              "Insatisfecho(a)      Anios_estudio         1.000000 -0.169761        -0.634709\n",
              "                     Edad                 -0.169761  1.000000         0.869284\n",
              "                     Experiencia_lab      -0.634709  0.869284         1.000000\n",
              "Neutral              Anios_estudio         1.000000  0.190971        -0.312963\n",
              "                     Edad                  0.190971  1.000000         0.872519\n",
              "                     Experiencia_lab      -0.312963  0.872519         1.000000\n",
              "Satisfecho(a)        Anios_estudio         1.000000 -0.075167        -0.334560\n",
              "                     Edad                 -0.075167  1.000000         0.964856\n",
              "                     Experiencia_lab      -0.334560  0.964856         1.000000\n",
              "Desconocido          Anios_estudio         1.000000       NaN              NaN\n",
              "                     Edad                       NaN  1.000000              NaN\n",
              "                     Experiencia_lab            NaN       NaN              NaN"
            ]
          },
          "metadata": {
            "tags": []
          },
          "execution_count": 12
        }
      ]
    },
    {
      "cell_type": "markdown",
      "metadata": {
        "id": "P4Jf167VtYaf",
        "colab_type": "text"
      },
      "source": [
        "Obtener los mínimos y máximos por sexo y satisfacción, de la edad, años de estudio y experiencia"
      ]
    },
    {
      "cell_type": "code",
      "metadata": {
        "id": "1tLycdpTyBA5",
        "colab_type": "code",
        "colab": {
          "base_uri": "https://localhost:8080/",
          "height": 233
        },
        "outputId": "3fa029f9-9b70-4924-deff-a15df8fc005c"
      },
      "source": [
        "pd.crosstab(Empleados.Satisfaccion_trabajo, Empleados.Sexo, values=Empleados.Edad, aggfunc=['min', 'max'])"
      ],
      "execution_count": null,
      "outputs": [
        {
          "output_type": "execute_result",
          "data": {
            "text/html": [
              "<div>\n",
              "<style scoped>\n",
              "    .dataframe tbody tr th:only-of-type {\n",
              "        vertical-align: middle;\n",
              "    }\n",
              "\n",
              "    .dataframe tbody tr th {\n",
              "        vertical-align: top;\n",
              "    }\n",
              "\n",
              "    .dataframe thead tr th {\n",
              "        text-align: left;\n",
              "    }\n",
              "\n",
              "    .dataframe thead tr:last-of-type th {\n",
              "        text-align: right;\n",
              "    }\n",
              "</style>\n",
              "<table border=\"1\" class=\"dataframe\">\n",
              "  <thead>\n",
              "    <tr>\n",
              "      <th></th>\n",
              "      <th colspan=\"2\" halign=\"left\">min</th>\n",
              "      <th colspan=\"2\" halign=\"left\">max</th>\n",
              "    </tr>\n",
              "    <tr>\n",
              "      <th>Sexo</th>\n",
              "      <th>Hombre</th>\n",
              "      <th>Mujer</th>\n",
              "      <th>Hombre</th>\n",
              "      <th>Mujer</th>\n",
              "    </tr>\n",
              "    <tr>\n",
              "      <th>Satisfaccion_trabajo</th>\n",
              "      <th></th>\n",
              "      <th></th>\n",
              "      <th></th>\n",
              "      <th></th>\n",
              "    </tr>\n",
              "  </thead>\n",
              "  <tbody>\n",
              "    <tr>\n",
              "      <th>Insatisfecho(a)</th>\n",
              "      <td>26.0</td>\n",
              "      <td>30.0</td>\n",
              "      <td>58.0</td>\n",
              "      <td>46.0</td>\n",
              "    </tr>\n",
              "    <tr>\n",
              "      <th>Neutral</th>\n",
              "      <td>38.0</td>\n",
              "      <td>27.0</td>\n",
              "      <td>53.0</td>\n",
              "      <td>47.0</td>\n",
              "    </tr>\n",
              "    <tr>\n",
              "      <th>Satisfecho(a)</th>\n",
              "      <td>41.0</td>\n",
              "      <td>35.0</td>\n",
              "      <td>67.0</td>\n",
              "      <td>43.0</td>\n",
              "    </tr>\n",
              "    <tr>\n",
              "      <th>Desconocido</th>\n",
              "      <td>37.0</td>\n",
              "      <td>NaN</td>\n",
              "      <td>56.0</td>\n",
              "      <td>NaN</td>\n",
              "    </tr>\n",
              "  </tbody>\n",
              "</table>\n",
              "</div>"
            ],
            "text/plain": [
              "                        min          max      \n",
              "Sexo                 Hombre Mujer Hombre Mujer\n",
              "Satisfaccion_trabajo                          \n",
              "Insatisfecho(a)        26.0  30.0   58.0  46.0\n",
              "Neutral                38.0  27.0   53.0  47.0\n",
              "Satisfecho(a)          41.0  35.0   67.0  43.0\n",
              "Desconocido            37.0   NaN   56.0   NaN"
            ]
          },
          "metadata": {
            "tags": []
          },
          "execution_count": 14
        }
      ]
    },
    {
      "cell_type": "code",
      "metadata": {
        "id": "QY68EWv1ytAO",
        "colab_type": "code",
        "colab": {
          "base_uri": "https://localhost:8080/",
          "height": 233
        },
        "outputId": "ef7f52cb-1854-447e-c74c-55f9cab17175"
      },
      "source": [
        "pd.crosstab(Empleados.Satisfaccion_trabajo, Empleados.Sexo, values=Empleados.Anios_estudio, aggfunc=['min', 'max'])"
      ],
      "execution_count": null,
      "outputs": [
        {
          "output_type": "execute_result",
          "data": {
            "text/html": [
              "<div>\n",
              "<style scoped>\n",
              "    .dataframe tbody tr th:only-of-type {\n",
              "        vertical-align: middle;\n",
              "    }\n",
              "\n",
              "    .dataframe tbody tr th {\n",
              "        vertical-align: top;\n",
              "    }\n",
              "\n",
              "    .dataframe thead tr th {\n",
              "        text-align: left;\n",
              "    }\n",
              "\n",
              "    .dataframe thead tr:last-of-type th {\n",
              "        text-align: right;\n",
              "    }\n",
              "</style>\n",
              "<table border=\"1\" class=\"dataframe\">\n",
              "  <thead>\n",
              "    <tr>\n",
              "      <th></th>\n",
              "      <th colspan=\"2\" halign=\"left\">min</th>\n",
              "      <th colspan=\"2\" halign=\"left\">max</th>\n",
              "    </tr>\n",
              "    <tr>\n",
              "      <th>Sexo</th>\n",
              "      <th>Hombre</th>\n",
              "      <th>Mujer</th>\n",
              "      <th>Hombre</th>\n",
              "      <th>Mujer</th>\n",
              "    </tr>\n",
              "    <tr>\n",
              "      <th>Satisfaccion_trabajo</th>\n",
              "      <th></th>\n",
              "      <th></th>\n",
              "      <th></th>\n",
              "      <th></th>\n",
              "    </tr>\n",
              "  </thead>\n",
              "  <tbody>\n",
              "    <tr>\n",
              "      <th>Insatisfecho(a)</th>\n",
              "      <td>6.0</td>\n",
              "      <td>6.0</td>\n",
              "      <td>17.0</td>\n",
              "      <td>23.0</td>\n",
              "    </tr>\n",
              "    <tr>\n",
              "      <th>Neutral</th>\n",
              "      <td>5.0</td>\n",
              "      <td>6.0</td>\n",
              "      <td>19.0</td>\n",
              "      <td>19.0</td>\n",
              "    </tr>\n",
              "    <tr>\n",
              "      <th>Satisfecho(a)</th>\n",
              "      <td>14.0</td>\n",
              "      <td>13.0</td>\n",
              "      <td>20.0</td>\n",
              "      <td>21.0</td>\n",
              "    </tr>\n",
              "    <tr>\n",
              "      <th>Desconocido</th>\n",
              "      <td>5.0</td>\n",
              "      <td>23.0</td>\n",
              "      <td>5.0</td>\n",
              "      <td>23.0</td>\n",
              "    </tr>\n",
              "  </tbody>\n",
              "</table>\n",
              "</div>"
            ],
            "text/plain": [
              "                        min          max      \n",
              "Sexo                 Hombre Mujer Hombre Mujer\n",
              "Satisfaccion_trabajo                          \n",
              "Insatisfecho(a)         6.0   6.0   17.0  23.0\n",
              "Neutral                 5.0   6.0   19.0  19.0\n",
              "Satisfecho(a)          14.0  13.0   20.0  21.0\n",
              "Desconocido             5.0  23.0    5.0  23.0"
            ]
          },
          "metadata": {
            "tags": []
          },
          "execution_count": 15
        }
      ]
    },
    {
      "cell_type": "code",
      "metadata": {
        "id": "lc1ImNOGyy0Y",
        "colab_type": "code",
        "colab": {
          "base_uri": "https://localhost:8080/",
          "height": 233
        },
        "outputId": "c55d9fb9-6eeb-4a74-c8cc-041239d8a2f8"
      },
      "source": [
        "pd.crosstab(Empleados.Satisfaccion_trabajo, Empleados.Sexo, values=Empleados.Experiencia_lab, aggfunc=['min', 'max'])"
      ],
      "execution_count": null,
      "outputs": [
        {
          "output_type": "execute_result",
          "data": {
            "text/html": [
              "<div>\n",
              "<style scoped>\n",
              "    .dataframe tbody tr th:only-of-type {\n",
              "        vertical-align: middle;\n",
              "    }\n",
              "\n",
              "    .dataframe tbody tr th {\n",
              "        vertical-align: top;\n",
              "    }\n",
              "\n",
              "    .dataframe thead tr th {\n",
              "        text-align: left;\n",
              "    }\n",
              "\n",
              "    .dataframe thead tr:last-of-type th {\n",
              "        text-align: right;\n",
              "    }\n",
              "</style>\n",
              "<table border=\"1\" class=\"dataframe\">\n",
              "  <thead>\n",
              "    <tr>\n",
              "      <th></th>\n",
              "      <th colspan=\"2\" halign=\"left\">min</th>\n",
              "      <th colspan=\"2\" halign=\"left\">max</th>\n",
              "    </tr>\n",
              "    <tr>\n",
              "      <th>Sexo</th>\n",
              "      <th>Hombre</th>\n",
              "      <th>Mujer</th>\n",
              "      <th>Hombre</th>\n",
              "      <th>Mujer</th>\n",
              "    </tr>\n",
              "    <tr>\n",
              "      <th>Satisfaccion_trabajo</th>\n",
              "      <th></th>\n",
              "      <th></th>\n",
              "      <th></th>\n",
              "      <th></th>\n",
              "    </tr>\n",
              "  </thead>\n",
              "  <tbody>\n",
              "    <tr>\n",
              "      <th>Insatisfecho(a)</th>\n",
              "      <td>10.0</td>\n",
              "      <td>5.0</td>\n",
              "      <td>37.0</td>\n",
              "      <td>35.0</td>\n",
              "    </tr>\n",
              "    <tr>\n",
              "      <th>Neutral</th>\n",
              "      <td>22.0</td>\n",
              "      <td>8.0</td>\n",
              "      <td>43.0</td>\n",
              "      <td>25.0</td>\n",
              "    </tr>\n",
              "    <tr>\n",
              "      <th>Satisfecho(a)</th>\n",
              "      <td>22.0</td>\n",
              "      <td>9.0</td>\n",
              "      <td>45.0</td>\n",
              "      <td>25.0</td>\n",
              "    </tr>\n",
              "    <tr>\n",
              "      <th>Desconocido</th>\n",
              "      <td>45.0</td>\n",
              "      <td>NaN</td>\n",
              "      <td>45.0</td>\n",
              "      <td>NaN</td>\n",
              "    </tr>\n",
              "  </tbody>\n",
              "</table>\n",
              "</div>"
            ],
            "text/plain": [
              "                        min          max      \n",
              "Sexo                 Hombre Mujer Hombre Mujer\n",
              "Satisfaccion_trabajo                          \n",
              "Insatisfecho(a)        10.0   5.0   37.0  35.0\n",
              "Neutral                22.0   8.0   43.0  25.0\n",
              "Satisfecho(a)          22.0   9.0   45.0  25.0\n",
              "Desconocido            45.0   NaN   45.0   NaN"
            ]
          },
          "metadata": {
            "tags": []
          },
          "execution_count": 16
        }
      ]
    }
  ]
}